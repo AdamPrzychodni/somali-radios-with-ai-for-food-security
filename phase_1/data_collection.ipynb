{
 "cells": [
  {
   "cell_type": "code",
   "execution_count": 3,
   "metadata": {},
   "outputs": [],
   "source": [
    "import os\n",
    "import re\n",
    "from datetime import datetime, timedelta\n",
    "import yt_dlp\n",
    "import requests\n",
    "from bs4 import BeautifulSoup\n",
    "import time\n",
    "\n",
    "def validate_soundcloud_url(url):\n",
    "    \"\"\"Validate if the provided URL is a SoundCloud URL.\"\"\"\n",
    "    pattern = r'^https?://(?:www\\.)?soundcloud\\.com/[\\w-]+/[\\w-]+'\n",
    "    return bool(re.match(pattern, url))\n",
    "\n",
    "def download_soundcloud_audio(url, output_dir=\"downloads\"):\n",
    "    \"\"\"Download audio from SoundCloud URL.\"\"\"\n",
    "    if not validate_soundcloud_url(url):\n",
    "        print(f\"Invalid SoundCloud URL: {url}\")\n",
    "        return False\n",
    "\n",
    "    # Create output directory if it doesn't exist\n",
    "    if not os.path.exists(output_dir):\n",
    "        os.makedirs(output_dir)\n",
    "\n",
    "    # Configure yt-dlp options\n",
    "    ydl_opts = {\n",
    "        'format': 'bestaudio/best',\n",
    "        'outtmpl': os.path.join(output_dir, '%(title)s.%(ext)s'),\n",
    "        'noplaylist': True,\n",
    "        'postprocessors': [{\n",
    "            'key': 'FFmpegExtractAudio',\n",
    "            'preferredcodec': 'mp3',\n",
    "            'preferredquality': '192',\n",
    "        }],\n",
    "        'quiet': False,\n",
    "        'verbose': False\n",
    "    }\n",
    "\n",
    "    # Download the audio\n",
    "    try:\n",
    "        with yt_dlp.YoutubeDL(ydl_opts) as ydl:\n",
    "            info = ydl.extract_info(url, download=True)\n",
    "            filename = ydl.prepare_filename(info)\n",
    "            base, _ = os.path.splitext(filename)\n",
    "            mp3_file = f\"{base}.mp3\"\n",
    "            print(f\"Downloaded: {mp3_file}\")\n",
    "            return mp3_file\n",
    "    except Exception as e:\n",
    "        print(f\"Error downloading {url}: {str(e)}\")\n",
    "        return False\n",
    "\n",
    "def get_soundcloud_urls_by_date_range(profile_url, start_date, end_date):\n",
    "    \"\"\"\n",
    "    Get SoundCloud URLs within a specific date range.\n",
    "\n",
    "    Args:\n",
    "        profile_url: The SoundCloud profile URL (e.g., \"https://soundcloud.com/radio-ergo\")\n",
    "        start_date: Start date (datetime object)\n",
    "        end_date: End date (datetime object)\n",
    "\n",
    "    Returns:\n",
    "        A list of SoundCloud URLs within the specified date range\n",
    "    \"\"\"\n",
    "    if not profile_url.endswith('/'):\n",
    "        profile_url = profile_url + '/'\n",
    "\n",
    "    # Fetch the profile page\n",
    "    try:\n",
    "        response = requests.get(profile_url, headers={'User-Agent': 'Mozilla/5.0'})\n",
    "        response.raise_for_status()\n",
    "    except Exception as e:\n",
    "        print(f\"Error fetching profile page: {str(e)}\")\n",
    "        return []\n",
    "\n",
    "    soup = BeautifulSoup(response.text, 'html.parser')\n",
    "\n",
    "    # Find all track links\n",
    "    track_urls = []\n",
    "    for link in soup.find_all('a', href=True):\n",
    "        href = link['href']\n",
    "        if href.startswith('/') and profile_url.split('/')[3] in href and '/sets/' not in href:\n",
    "            full_url = f\"https://soundcloud.com{href}\"\n",
    "            if validate_soundcloud_url(full_url):\n",
    "                track_urls.append(full_url)\n",
    "\n",
    "    # Filter URLs by date\n",
    "    urls_in_range = []\n",
    "\n",
    "    # Month names mapping (both full and abbreviated)\n",
    "    month_names = {\n",
    "        # Full month names\n",
    "        'january': 1, 'february': 2, 'march': 3, 'april': 4, 'may': 5, 'june': 6,\n",
    "        'july': 7, 'august': 8, 'september': 9, 'october': 10, 'november': 11, 'december': 12,\n",
    "        # Abbreviated month names\n",
    "        'jan': 1, 'feb': 2, 'mar': 3, 'apr': 4, 'jun': 6, 'jul': 7,\n",
    "        'aug': 8, 'sep': 9, 'oct': 10, 'nov': 11, 'dec': 12\n",
    "    }\n",
    "\n",
    "    for url in track_urls:\n",
    "        # Try to extract date from URL using regex for both formats\n",
    "        # Format 1: DD-month-YYYY (e.g., 11-march-2025)\n",
    "        # Format 2: DD-mon-YYYY (e.g., 09-mar-2025)\n",
    "        date_match = re.search(r'(\\d{1,2})-([a-z]+)-(\\d{4})', url.split('/')[-1], re.IGNORECASE)\n",
    "\n",
    "        if date_match:\n",
    "            day, month_str, year = date_match.groups()\n",
    "\n",
    "            # Convert month name to number\n",
    "            month = month_names.get(month_str.lower())\n",
    "\n",
    "            if month:\n",
    "                try:\n",
    "                    track_date = datetime(int(year), month, int(day))\n",
    "                    if start_date <= track_date <= end_date:\n",
    "                        urls_in_range.append(url)\n",
    "                        print(f\"Found matching URL: {url}\")\n",
    "                except ValueError:\n",
    "                    # Skip invalid dates\n",
    "                    continue\n",
    "            else:\n",
    "                print(f\"Could not parse month: {month_str} in URL: {url}\")\n",
    "        else:\n",
    "            # Print URLs that don't match the pattern for debugging\n",
    "            print(f\"URL does not match date pattern: {url}\")\n",
    "\n",
    "    return urls_in_range\n",
    "\n",
    "def download_by_date_range(profile_url, start_date_str, end_date_str, output_dir=None, save_to_drive=True):\n",
    "    \"\"\"\n",
    "    Download SoundCloud tracks within a date range.\n",
    "\n",
    "    Args:\n",
    "        profile_url: The SoundCloud profile URL\n",
    "        start_date_str: Start date in format 'YYYY-MM-DD'\n",
    "        end_date_str: End date in format 'YYYY-MM-DD'\n",
    "        output_dir: Output directory (default: None, which uses date range as folder name)\n",
    "        save_to_drive: Whether to save files to Google Drive (default: True)\n",
    "    \"\"\"\n",
    "    # Parse dates\n",
    "    start_date = datetime.strptime(start_date_str, '%Y-%m-%d')\n",
    "    end_date = datetime.strptime(end_date_str, '%Y-%m-%d')\n",
    "\n",
    "    # Create output directory name based on date range if not provided\n",
    "    if not output_dir:\n",
    "        output_dir = f\"soundcloud_{start_date_str}_to_{end_date_str}\"\n",
    "\n",
    "    print(f\"Searching for tracks from {start_date_str} to {end_date_str}...\")\n",
    "\n",
    "    # Option 1: Try to find using the profile page\n",
    "    urls = get_soundcloud_urls_by_date_range(profile_url, start_date, end_date)\n",
    "\n",
    "    # Option 2: If specific URLs are known to exist but weren't found, add them manually\n",
    "    manual_urls = []\n",
    "\n",
    "    # Check if a specific URL was requested but not found\n",
    "    check_url = \"https://soundcloud.com/radio-ergo/idaacadda-09-mar-2025\"\n",
    "    if check_url not in urls:\n",
    "        current_date = start_date\n",
    "        while current_date <= end_date:\n",
    "            day = current_date.day\n",
    "            month = current_date.strftime('%b').lower()  # Get abbreviated month\n",
    "            year = current_date.year\n",
    "\n",
    "            # Try different date formats\n",
    "            potential_urls = [\n",
    "                f\"https://soundcloud.com/radio-ergo/idaacadda-{day:02d}-{month}-{year}\",\n",
    "                f\"https://soundcloud.com/radio-ergo/idaacadda-{day}-{month}-{year}\"\n",
    "            ]\n",
    "\n",
    "            for url in potential_urls:\n",
    "                try:\n",
    "                    response = requests.head(url)\n",
    "                    if response.status_code == 200:\n",
    "                        manual_urls.append(url)\n",
    "                        print(f\"Manually found URL: {url}\")\n",
    "                except:\n",
    "                    pass\n",
    "\n",
    "            current_date += timedelta(days=1)\n",
    "\n",
    "    # Combine both lists and remove duplicates\n",
    "    all_urls = list(set(urls + manual_urls))\n",
    "\n",
    "    if not all_urls:\n",
    "        print(\"No tracks found in the specified date range.\")\n",
    "        return []\n",
    "\n",
    "    print(f\"Found {len(all_urls)} tracks in the specified date range.\")\n",
    "    print(\"URLs found:\")\n",
    "    for url in all_urls:\n",
    "        print(f\"- {url}\")\n",
    "\n",
    "    print(f\"\\nStarting download of {len(all_urls)} SoundCloud audios to: {output_dir}\")\n",
    "    downloaded_files = []\n",
    "    for url in all_urls:\n",
    "        result = download_soundcloud_audio(url, output_dir)\n",
    "        if result:\n",
    "            downloaded_files.append(result)\n",
    "        # Add a small delay to avoid overloading the server\n",
    "        time.sleep(1)\n",
    "\n",
    "    print(\"\\nSummary:\")\n",
    "    print(f\"Total URLs processed: {len(all_urls)}\")\n",
    "    print(f\"Successfully downloaded: {len(downloaded_files)}\")\n",
    "    if downloaded_files:\n",
    "        print(\"\\nDownloaded files:\")\n",
    "        for file in downloaded_files:\n",
    "            print(f\"- {file}\")\n",
    "\n",
    "    # Save to Google Drive\n",
    "    if save_to_drive and downloaded_files:\n",
    "        drive_path = \"/content/drive/MyDrive/\" + output_dir\n",
    "        print(f\"\\nSaving files to Google Drive at: {drive_path}\")\n",
    "\n",
    "        # Create directory in Drive if it doesn't exist\n",
    "        if not os.path.exists(drive_path):\n",
    "            os.makedirs(drive_path)\n",
    "\n",
    "        # Copy files to Drive\n",
    "        os.system(f\"cp -r {output_dir}/* {drive_path}/\")\n",
    "        print(f\"Files successfully saved to Google Drive\")\n",
    "\n",
    "    return downloaded_files\n",
    "\n",
    "# You can also directly specify URLs if the automatic search doesn't work\n",
    "def download_specific_urls(urls, output_dir=None, save_to_drive=True):\n",
    "    \"\"\"\n",
    "    Download specific SoundCloud URLs.\n",
    "\n",
    "    Args:\n",
    "        urls: List of SoundCloud URLs to download\n",
    "        output_dir: Output directory (default: None, which uses today's date)\n",
    "        save_to_drive: Whether to save files to Google Drive (default: True)\n",
    "    \"\"\"\n",
    "    if not output_dir:\n",
    "        output_dir = f\"soundcloud_radio_ergo__downloads_{datetime.now().strftime('%Y-%m-%d')}\"\n",
    "\n",
    "    print(f\"Starting download of {len(urls)} specific SoundCloud URLs to: {output_dir}\")\n",
    "    downloaded_files = []\n",
    "    for url in urls:\n",
    "        result = download_soundcloud_audio(url, output_dir)\n",
    "        if result:\n",
    "            downloaded_files.append(result)\n",
    "        # Add a small delay to avoid overloading the server\n",
    "        time.sleep(1)\n",
    "\n",
    "    print(\"\\nSummary:\")\n",
    "    print(f\"Total URLs processed: {len(urls)}\")\n",
    "    print(f\"Successfully downloaded: {len(downloaded_files)}\")\n",
    "    if downloaded_files:\n",
    "        print(\"\\nDownloaded files:\")\n",
    "        for file in downloaded_files:\n",
    "            print(f\"- {file}\")\n",
    "\n",
    "    # Save to Google Drive\n",
    "    if save_to_drive and downloaded_files:\n",
    "        try:\n",
    "            from google.colab import drive\n",
    "            drive.mount('/content/drive')\n",
    "            print(\"Google Drive mounted successfully\")\n",
    "        except:\n",
    "            print(\"Not running in Google Colab or Drive already mounted\")\n",
    "        drive_path = \"/content/drive/MyDrive/\" + output_dir\n",
    "        print(f\"\\nSaving files to Google Drive at: {drive_path}\")\n",
    "\n",
    "        # Create directory in Drive if it doesn't exist\n",
    "        if not os.path.exists(drive_path):\n",
    "            os.makedirs(drive_path)\n",
    "\n",
    "        # Copy files to Drive\n",
    "        os.system(f\"cp -r {output_dir}/* {drive_path}/\")\n",
    "        print(f\"Files successfully saved to Google Drive\")\n",
    "\n",
    "    return downloaded_files"
   ]
  },
  {
   "cell_type": "code",
   "execution_count": 2,
   "metadata": {},
   "outputs": [
    {
     "name": "stdout",
     "output_type": "stream",
     "text": [
      "Searching for tracks from 2022-08-01 to 2022-12-31...\n"
     ]
    },
    {
     "name": "stdout",
     "output_type": "stream",
     "text": [
      "URL does not match date pattern: https://soundcloud.com/radio-ergo/likes\n",
      "URL does not match date pattern: https://soundcloud.com/radio-ergo/sets\n",
      "URL does not match date pattern: https://soundcloud.com/radio-ergo/tracks\n",
      "URL does not match date pattern: https://soundcloud.com/radio-ergo/comments\n",
      "Manually found URL: https://soundcloud.com/radio-ergo/idaacadda-01-aug-2022\n",
      "Manually found URL: https://soundcloud.com/radio-ergo/idaacadda-1-aug-2022\n",
      "Manually found URL: https://soundcloud.com/radio-ergo/idaacadda-02-aug-2022\n",
      "Manually found URL: https://soundcloud.com/radio-ergo/idaacadda-2-aug-2022\n",
      "Manually found URL: https://soundcloud.com/radio-ergo/idaacadda-03-aug-2022\n",
      "Manually found URL: https://soundcloud.com/radio-ergo/idaacadda-3-aug-2022\n",
      "Manually found URL: https://soundcloud.com/radio-ergo/idaacadda-04-aug-2022\n",
      "Manually found URL: https://soundcloud.com/radio-ergo/idaacadda-4-aug-2022\n",
      "Manually found URL: https://soundcloud.com/radio-ergo/idaacadda-05-aug-2022\n",
      "Manually found URL: https://soundcloud.com/radio-ergo/idaacadda-5-aug-2022\n",
      "Manually found URL: https://soundcloud.com/radio-ergo/idaacadda-06-aug-2022\n",
      "Manually found URL: https://soundcloud.com/radio-ergo/idaacadda-6-aug-2022\n",
      "Manually found URL: https://soundcloud.com/radio-ergo/idaacadda-07-aug-2022\n",
      "Manually found URL: https://soundcloud.com/radio-ergo/idaacadda-7-aug-2022\n",
      "Manually found URL: https://soundcloud.com/radio-ergo/idaacadda-08-aug-2022\n",
      "Manually found URL: https://soundcloud.com/radio-ergo/idaacadda-8-aug-2022\n",
      "Manually found URL: https://soundcloud.com/radio-ergo/idaacadda-09-aug-2022\n",
      "Manually found URL: https://soundcloud.com/radio-ergo/idaacadda-9-aug-2022\n",
      "Manually found URL: https://soundcloud.com/radio-ergo/idaacadda-10-aug-2022\n",
      "Manually found URL: https://soundcloud.com/radio-ergo/idaacadda-10-aug-2022\n",
      "Manually found URL: https://soundcloud.com/radio-ergo/idaacadda-11-aug-2022\n",
      "Manually found URL: https://soundcloud.com/radio-ergo/idaacadda-11-aug-2022\n",
      "Manually found URL: https://soundcloud.com/radio-ergo/idaacadda-12-aug-2022\n",
      "Manually found URL: https://soundcloud.com/radio-ergo/idaacadda-12-aug-2022\n",
      "Manually found URL: https://soundcloud.com/radio-ergo/idaacadda-13-aug-2022\n",
      "Manually found URL: https://soundcloud.com/radio-ergo/idaacadda-13-aug-2022\n",
      "Manually found URL: https://soundcloud.com/radio-ergo/idaacadda-14-aug-2022\n",
      "Manually found URL: https://soundcloud.com/radio-ergo/idaacadda-14-aug-2022\n",
      "Manually found URL: https://soundcloud.com/radio-ergo/idaacadda-15-aug-2022\n",
      "Manually found URL: https://soundcloud.com/radio-ergo/idaacadda-15-aug-2022\n",
      "Manually found URL: https://soundcloud.com/radio-ergo/idaacadda-16-aug-2022\n",
      "Manually found URL: https://soundcloud.com/radio-ergo/idaacadda-16-aug-2022\n",
      "Manually found URL: https://soundcloud.com/radio-ergo/idaacadda-17-aug-2022\n",
      "Manually found URL: https://soundcloud.com/radio-ergo/idaacadda-17-aug-2022\n",
      "Manually found URL: https://soundcloud.com/radio-ergo/idaacadda-18-aug-2022\n",
      "Manually found URL: https://soundcloud.com/radio-ergo/idaacadda-18-aug-2022\n",
      "Manually found URL: https://soundcloud.com/radio-ergo/idaacadda-19-aug-2022\n",
      "Manually found URL: https://soundcloud.com/radio-ergo/idaacadda-19-aug-2022\n",
      "Manually found URL: https://soundcloud.com/radio-ergo/idaacadda-20-aug-2022\n",
      "Manually found URL: https://soundcloud.com/radio-ergo/idaacadda-20-aug-2022\n",
      "Manually found URL: https://soundcloud.com/radio-ergo/idaacadda-21-aug-2022\n",
      "Manually found URL: https://soundcloud.com/radio-ergo/idaacadda-21-aug-2022\n",
      "Manually found URL: https://soundcloud.com/radio-ergo/idaacadda-22-aug-2022\n",
      "Manually found URL: https://soundcloud.com/radio-ergo/idaacadda-22-aug-2022\n",
      "Manually found URL: https://soundcloud.com/radio-ergo/idaacadda-23-aug-2022\n",
      "Manually found URL: https://soundcloud.com/radio-ergo/idaacadda-23-aug-2022\n",
      "Manually found URL: https://soundcloud.com/radio-ergo/idaacadda-24-aug-2022\n",
      "Manually found URL: https://soundcloud.com/radio-ergo/idaacadda-24-aug-2022\n",
      "Manually found URL: https://soundcloud.com/radio-ergo/idaacadda-25-aug-2022\n",
      "Manually found URL: https://soundcloud.com/radio-ergo/idaacadda-25-aug-2022\n",
      "Manually found URL: https://soundcloud.com/radio-ergo/idaacadda-26-aug-2022\n",
      "Manually found URL: https://soundcloud.com/radio-ergo/idaacadda-26-aug-2022\n",
      "Manually found URL: https://soundcloud.com/radio-ergo/idaacadda-27-aug-2022\n",
      "Manually found URL: https://soundcloud.com/radio-ergo/idaacadda-27-aug-2022\n",
      "Manually found URL: https://soundcloud.com/radio-ergo/idaacadda-28-aug-2022\n",
      "Manually found URL: https://soundcloud.com/radio-ergo/idaacadda-28-aug-2022\n",
      "Manually found URL: https://soundcloud.com/radio-ergo/idaacadda-29-aug-2022\n",
      "Manually found URL: https://soundcloud.com/radio-ergo/idaacadda-29-aug-2022\n",
      "Manually found URL: https://soundcloud.com/radio-ergo/idaacadda-30-aug-2022\n",
      "Manually found URL: https://soundcloud.com/radio-ergo/idaacadda-30-aug-2022\n",
      "Manually found URL: https://soundcloud.com/radio-ergo/idaacadda-31-aug-2022\n",
      "Manually found URL: https://soundcloud.com/radio-ergo/idaacadda-31-aug-2022\n",
      "Manually found URL: https://soundcloud.com/radio-ergo/idaacadda-01-sep-2022\n",
      "Manually found URL: https://soundcloud.com/radio-ergo/idaacadda-1-sep-2022\n",
      "Manually found URL: https://soundcloud.com/radio-ergo/idaacadda-02-sep-2022\n",
      "Manually found URL: https://soundcloud.com/radio-ergo/idaacadda-2-sep-2022\n",
      "Manually found URL: https://soundcloud.com/radio-ergo/idaacadda-03-sep-2022\n",
      "Manually found URL: https://soundcloud.com/radio-ergo/idaacadda-3-sep-2022\n",
      "Manually found URL: https://soundcloud.com/radio-ergo/idaacadda-04-sep-2022\n",
      "Manually found URL: https://soundcloud.com/radio-ergo/idaacadda-4-sep-2022\n",
      "Manually found URL: https://soundcloud.com/radio-ergo/idaacadda-05-sep-2022\n",
      "Manually found URL: https://soundcloud.com/radio-ergo/idaacadda-5-sep-2022\n",
      "Manually found URL: https://soundcloud.com/radio-ergo/idaacadda-06-sep-2022\n",
      "Manually found URL: https://soundcloud.com/radio-ergo/idaacadda-6-sep-2022\n",
      "Manually found URL: https://soundcloud.com/radio-ergo/idaacadda-07-sep-2022\n",
      "Manually found URL: https://soundcloud.com/radio-ergo/idaacadda-7-sep-2022\n",
      "Manually found URL: https://soundcloud.com/radio-ergo/idaacadda-08-sep-2022\n",
      "Manually found URL: https://soundcloud.com/radio-ergo/idaacadda-8-sep-2022\n",
      "Manually found URL: https://soundcloud.com/radio-ergo/idaacadda-09-sep-2022\n",
      "Manually found URL: https://soundcloud.com/radio-ergo/idaacadda-9-sep-2022\n",
      "Manually found URL: https://soundcloud.com/radio-ergo/idaacadda-10-sep-2022\n",
      "Manually found URL: https://soundcloud.com/radio-ergo/idaacadda-10-sep-2022\n",
      "Manually found URL: https://soundcloud.com/radio-ergo/idaacadda-11-sep-2022\n",
      "Manually found URL: https://soundcloud.com/radio-ergo/idaacadda-11-sep-2022\n",
      "Manually found URL: https://soundcloud.com/radio-ergo/idaacadda-12-sep-2022\n",
      "Manually found URL: https://soundcloud.com/radio-ergo/idaacadda-12-sep-2022\n",
      "Manually found URL: https://soundcloud.com/radio-ergo/idaacadda-13-sep-2022\n",
      "Manually found URL: https://soundcloud.com/radio-ergo/idaacadda-13-sep-2022\n",
      "Manually found URL: https://soundcloud.com/radio-ergo/idaacadda-14-sep-2022\n",
      "Manually found URL: https://soundcloud.com/radio-ergo/idaacadda-14-sep-2022\n",
      "Manually found URL: https://soundcloud.com/radio-ergo/idaacadda-15-sep-2022\n",
      "Manually found URL: https://soundcloud.com/radio-ergo/idaacadda-15-sep-2022\n",
      "Manually found URL: https://soundcloud.com/radio-ergo/idaacadda-16-sep-2022\n",
      "Manually found URL: https://soundcloud.com/radio-ergo/idaacadda-16-sep-2022\n",
      "Manually found URL: https://soundcloud.com/radio-ergo/idaacadda-17-sep-2022\n",
      "Manually found URL: https://soundcloud.com/radio-ergo/idaacadda-17-sep-2022\n",
      "Manually found URL: https://soundcloud.com/radio-ergo/idaacadda-18-sep-2022\n",
      "Manually found URL: https://soundcloud.com/radio-ergo/idaacadda-18-sep-2022\n",
      "Manually found URL: https://soundcloud.com/radio-ergo/idaacadda-19-sep-2022\n",
      "Manually found URL: https://soundcloud.com/radio-ergo/idaacadda-19-sep-2022\n",
      "Manually found URL: https://soundcloud.com/radio-ergo/idaacadda-20-sep-2022\n",
      "Manually found URL: https://soundcloud.com/radio-ergo/idaacadda-20-sep-2022\n",
      "Manually found URL: https://soundcloud.com/radio-ergo/idaacadda-21-sep-2022\n",
      "Manually found URL: https://soundcloud.com/radio-ergo/idaacadda-21-sep-2022\n",
      "Manually found URL: https://soundcloud.com/radio-ergo/idaacadda-22-sep-2022\n",
      "Manually found URL: https://soundcloud.com/radio-ergo/idaacadda-22-sep-2022\n",
      "Manually found URL: https://soundcloud.com/radio-ergo/idaacadda-23-sep-2022\n",
      "Manually found URL: https://soundcloud.com/radio-ergo/idaacadda-23-sep-2022\n",
      "Manually found URL: https://soundcloud.com/radio-ergo/idaacadda-24-sep-2022\n",
      "Manually found URL: https://soundcloud.com/radio-ergo/idaacadda-24-sep-2022\n",
      "Manually found URL: https://soundcloud.com/radio-ergo/idaacadda-25-sep-2022\n",
      "Manually found URL: https://soundcloud.com/radio-ergo/idaacadda-25-sep-2022\n",
      "Manually found URL: https://soundcloud.com/radio-ergo/idaacadda-26-sep-2022\n",
      "Manually found URL: https://soundcloud.com/radio-ergo/idaacadda-26-sep-2022\n",
      "Manually found URL: https://soundcloud.com/radio-ergo/idaacadda-27-sep-2022\n",
      "Manually found URL: https://soundcloud.com/radio-ergo/idaacadda-27-sep-2022\n",
      "Manually found URL: https://soundcloud.com/radio-ergo/idaacadda-28-sep-2022\n",
      "Manually found URL: https://soundcloud.com/radio-ergo/idaacadda-28-sep-2022\n",
      "Manually found URL: https://soundcloud.com/radio-ergo/idaacadda-29-sep-2022\n",
      "Manually found URL: https://soundcloud.com/radio-ergo/idaacadda-29-sep-2022\n",
      "Manually found URL: https://soundcloud.com/radio-ergo/idaacadda-30-sep-2022\n",
      "Manually found URL: https://soundcloud.com/radio-ergo/idaacadda-30-sep-2022\n",
      "Manually found URL: https://soundcloud.com/radio-ergo/idaacadda-01-oct-2022\n",
      "Manually found URL: https://soundcloud.com/radio-ergo/idaacadda-1-oct-2022\n",
      "Manually found URL: https://soundcloud.com/radio-ergo/idaacadda-02-oct-2022\n",
      "Manually found URL: https://soundcloud.com/radio-ergo/idaacadda-2-oct-2022\n",
      "Manually found URL: https://soundcloud.com/radio-ergo/idaacadda-03-oct-2022\n",
      "Manually found URL: https://soundcloud.com/radio-ergo/idaacadda-3-oct-2022\n",
      "Manually found URL: https://soundcloud.com/radio-ergo/idaacadda-04-oct-2022\n",
      "Manually found URL: https://soundcloud.com/radio-ergo/idaacadda-4-oct-2022\n",
      "Manually found URL: https://soundcloud.com/radio-ergo/idaacadda-05-oct-2022\n",
      "Manually found URL: https://soundcloud.com/radio-ergo/idaacadda-5-oct-2022\n",
      "Manually found URL: https://soundcloud.com/radio-ergo/idaacadda-06-oct-2022\n",
      "Manually found URL: https://soundcloud.com/radio-ergo/idaacadda-6-oct-2022\n",
      "Manually found URL: https://soundcloud.com/radio-ergo/idaacadda-07-oct-2022\n",
      "Manually found URL: https://soundcloud.com/radio-ergo/idaacadda-7-oct-2022\n",
      "Manually found URL: https://soundcloud.com/radio-ergo/idaacadda-08-oct-2022\n",
      "Manually found URL: https://soundcloud.com/radio-ergo/idaacadda-8-oct-2022\n",
      "Manually found URL: https://soundcloud.com/radio-ergo/idaacadda-09-oct-2022\n",
      "Manually found URL: https://soundcloud.com/radio-ergo/idaacadda-9-oct-2022\n",
      "Manually found URL: https://soundcloud.com/radio-ergo/idaacadda-10-oct-2022\n",
      "Manually found URL: https://soundcloud.com/radio-ergo/idaacadda-10-oct-2022\n",
      "Manually found URL: https://soundcloud.com/radio-ergo/idaacadda-11-oct-2022\n",
      "Manually found URL: https://soundcloud.com/radio-ergo/idaacadda-11-oct-2022\n",
      "Manually found URL: https://soundcloud.com/radio-ergo/idaacadda-12-oct-2022\n",
      "Manually found URL: https://soundcloud.com/radio-ergo/idaacadda-12-oct-2022\n",
      "Manually found URL: https://soundcloud.com/radio-ergo/idaacadda-13-oct-2022\n",
      "Manually found URL: https://soundcloud.com/radio-ergo/idaacadda-13-oct-2022\n",
      "Manually found URL: https://soundcloud.com/radio-ergo/idaacadda-14-oct-2022\n",
      "Manually found URL: https://soundcloud.com/radio-ergo/idaacadda-14-oct-2022\n",
      "Manually found URL: https://soundcloud.com/radio-ergo/idaacadda-15-oct-2022\n",
      "Manually found URL: https://soundcloud.com/radio-ergo/idaacadda-15-oct-2022\n",
      "Manually found URL: https://soundcloud.com/radio-ergo/idaacadda-16-oct-2022\n",
      "Manually found URL: https://soundcloud.com/radio-ergo/idaacadda-16-oct-2022\n",
      "Manually found URL: https://soundcloud.com/radio-ergo/idaacadda-17-oct-2022\n",
      "Manually found URL: https://soundcloud.com/radio-ergo/idaacadda-17-oct-2022\n",
      "Manually found URL: https://soundcloud.com/radio-ergo/idaacadda-18-oct-2022\n",
      "Manually found URL: https://soundcloud.com/radio-ergo/idaacadda-18-oct-2022\n",
      "Manually found URL: https://soundcloud.com/radio-ergo/idaacadda-19-oct-2022\n",
      "Manually found URL: https://soundcloud.com/radio-ergo/idaacadda-19-oct-2022\n",
      "Manually found URL: https://soundcloud.com/radio-ergo/idaacadda-20-oct-2022\n",
      "Manually found URL: https://soundcloud.com/radio-ergo/idaacadda-20-oct-2022\n",
      "Manually found URL: https://soundcloud.com/radio-ergo/idaacadda-21-oct-2022\n",
      "Manually found URL: https://soundcloud.com/radio-ergo/idaacadda-21-oct-2022\n",
      "Manually found URL: https://soundcloud.com/radio-ergo/idaacadda-22-oct-2022\n",
      "Manually found URL: https://soundcloud.com/radio-ergo/idaacadda-22-oct-2022\n",
      "Manually found URL: https://soundcloud.com/radio-ergo/idaacadda-23-oct-2022\n",
      "Manually found URL: https://soundcloud.com/radio-ergo/idaacadda-23-oct-2022\n",
      "Manually found URL: https://soundcloud.com/radio-ergo/idaacadda-24-oct-2022\n",
      "Manually found URL: https://soundcloud.com/radio-ergo/idaacadda-24-oct-2022\n",
      "Manually found URL: https://soundcloud.com/radio-ergo/idaacadda-25-oct-2022\n",
      "Manually found URL: https://soundcloud.com/radio-ergo/idaacadda-25-oct-2022\n",
      "Manually found URL: https://soundcloud.com/radio-ergo/idaacadda-26-oct-2022\n",
      "Manually found URL: https://soundcloud.com/radio-ergo/idaacadda-26-oct-2022\n",
      "Manually found URL: https://soundcloud.com/radio-ergo/idaacadda-27-oct-2022\n",
      "Manually found URL: https://soundcloud.com/radio-ergo/idaacadda-27-oct-2022\n",
      "Manually found URL: https://soundcloud.com/radio-ergo/idaacadda-28-oct-2022\n",
      "Manually found URL: https://soundcloud.com/radio-ergo/idaacadda-28-oct-2022\n",
      "Manually found URL: https://soundcloud.com/radio-ergo/idaacadda-29-oct-2022\n",
      "Manually found URL: https://soundcloud.com/radio-ergo/idaacadda-29-oct-2022\n",
      "Manually found URL: https://soundcloud.com/radio-ergo/idaacadda-30-oct-2022\n",
      "Manually found URL: https://soundcloud.com/radio-ergo/idaacadda-30-oct-2022\n",
      "Manually found URL: https://soundcloud.com/radio-ergo/idaacadda-31-oct-2022\n",
      "Manually found URL: https://soundcloud.com/radio-ergo/idaacadda-31-oct-2022\n",
      "Manually found URL: https://soundcloud.com/radio-ergo/idaacadda-01-nov-2022\n",
      "Manually found URL: https://soundcloud.com/radio-ergo/idaacadda-1-nov-2022\n",
      "Manually found URL: https://soundcloud.com/radio-ergo/idaacadda-02-nov-2022\n",
      "Manually found URL: https://soundcloud.com/radio-ergo/idaacadda-2-nov-2022\n",
      "Manually found URL: https://soundcloud.com/radio-ergo/idaacadda-03-nov-2022\n",
      "Manually found URL: https://soundcloud.com/radio-ergo/idaacadda-3-nov-2022\n",
      "Manually found URL: https://soundcloud.com/radio-ergo/idaacadda-04-nov-2022\n",
      "Manually found URL: https://soundcloud.com/radio-ergo/idaacadda-4-nov-2022\n",
      "Manually found URL: https://soundcloud.com/radio-ergo/idaacadda-05-nov-2022\n",
      "Manually found URL: https://soundcloud.com/radio-ergo/idaacadda-5-nov-2022\n",
      "Manually found URL: https://soundcloud.com/radio-ergo/idaacadda-06-nov-2022\n",
      "Manually found URL: https://soundcloud.com/radio-ergo/idaacadda-6-nov-2022\n",
      "Manually found URL: https://soundcloud.com/radio-ergo/idaacadda-07-nov-2022\n",
      "Manually found URL: https://soundcloud.com/radio-ergo/idaacadda-7-nov-2022\n",
      "Manually found URL: https://soundcloud.com/radio-ergo/idaacadda-08-nov-2022\n",
      "Manually found URL: https://soundcloud.com/radio-ergo/idaacadda-8-nov-2022\n",
      "Manually found URL: https://soundcloud.com/radio-ergo/idaacadda-09-nov-2022\n",
      "Manually found URL: https://soundcloud.com/radio-ergo/idaacadda-9-nov-2022\n",
      "Manually found URL: https://soundcloud.com/radio-ergo/idaacadda-10-nov-2022\n",
      "Manually found URL: https://soundcloud.com/radio-ergo/idaacadda-10-nov-2022\n",
      "Manually found URL: https://soundcloud.com/radio-ergo/idaacadda-11-nov-2022\n",
      "Manually found URL: https://soundcloud.com/radio-ergo/idaacadda-11-nov-2022\n",
      "Manually found URL: https://soundcloud.com/radio-ergo/idaacadda-12-nov-2022\n",
      "Manually found URL: https://soundcloud.com/radio-ergo/idaacadda-12-nov-2022\n",
      "Manually found URL: https://soundcloud.com/radio-ergo/idaacadda-13-nov-2022\n",
      "Manually found URL: https://soundcloud.com/radio-ergo/idaacadda-13-nov-2022\n",
      "Manually found URL: https://soundcloud.com/radio-ergo/idaacadda-14-nov-2022\n",
      "Manually found URL: https://soundcloud.com/radio-ergo/idaacadda-14-nov-2022\n",
      "Manually found URL: https://soundcloud.com/radio-ergo/idaacadda-15-nov-2022\n",
      "Manually found URL: https://soundcloud.com/radio-ergo/idaacadda-15-nov-2022\n",
      "Manually found URL: https://soundcloud.com/radio-ergo/idaacadda-16-nov-2022\n",
      "Manually found URL: https://soundcloud.com/radio-ergo/idaacadda-16-nov-2022\n",
      "Manually found URL: https://soundcloud.com/radio-ergo/idaacadda-17-nov-2022\n",
      "Manually found URL: https://soundcloud.com/radio-ergo/idaacadda-17-nov-2022\n",
      "Manually found URL: https://soundcloud.com/radio-ergo/idaacadda-18-nov-2022\n",
      "Manually found URL: https://soundcloud.com/radio-ergo/idaacadda-18-nov-2022\n",
      "Manually found URL: https://soundcloud.com/radio-ergo/idaacadda-19-nov-2022\n",
      "Manually found URL: https://soundcloud.com/radio-ergo/idaacadda-19-nov-2022\n",
      "Manually found URL: https://soundcloud.com/radio-ergo/idaacadda-20-nov-2022\n",
      "Manually found URL: https://soundcloud.com/radio-ergo/idaacadda-20-nov-2022\n",
      "Manually found URL: https://soundcloud.com/radio-ergo/idaacadda-21-nov-2022\n",
      "Manually found URL: https://soundcloud.com/radio-ergo/idaacadda-21-nov-2022\n",
      "Manually found URL: https://soundcloud.com/radio-ergo/idaacadda-22-nov-2022\n",
      "Manually found URL: https://soundcloud.com/radio-ergo/idaacadda-22-nov-2022\n",
      "Manually found URL: https://soundcloud.com/radio-ergo/idaacadda-23-nov-2022\n",
      "Manually found URL: https://soundcloud.com/radio-ergo/idaacadda-23-nov-2022\n",
      "Manually found URL: https://soundcloud.com/radio-ergo/idaacadda-24-nov-2022\n",
      "Manually found URL: https://soundcloud.com/radio-ergo/idaacadda-24-nov-2022\n",
      "Manually found URL: https://soundcloud.com/radio-ergo/idaacadda-25-nov-2022\n",
      "Manually found URL: https://soundcloud.com/radio-ergo/idaacadda-25-nov-2022\n",
      "Manually found URL: https://soundcloud.com/radio-ergo/idaacadda-26-nov-2022\n",
      "Manually found URL: https://soundcloud.com/radio-ergo/idaacadda-26-nov-2022\n",
      "Manually found URL: https://soundcloud.com/radio-ergo/idaacadda-27-nov-2022\n",
      "Manually found URL: https://soundcloud.com/radio-ergo/idaacadda-27-nov-2022\n",
      "Manually found URL: https://soundcloud.com/radio-ergo/idaacadda-28-nov-2022\n",
      "Manually found URL: https://soundcloud.com/radio-ergo/idaacadda-28-nov-2022\n",
      "Manually found URL: https://soundcloud.com/radio-ergo/idaacadda-29-nov-2022\n",
      "Manually found URL: https://soundcloud.com/radio-ergo/idaacadda-29-nov-2022\n",
      "Manually found URL: https://soundcloud.com/radio-ergo/idaacadda-30-nov-2022\n",
      "Manually found URL: https://soundcloud.com/radio-ergo/idaacadda-30-nov-2022\n",
      "Manually found URL: https://soundcloud.com/radio-ergo/idaacadda-01-dec-2022\n",
      "Manually found URL: https://soundcloud.com/radio-ergo/idaacadda-1-dec-2022\n",
      "Manually found URL: https://soundcloud.com/radio-ergo/idaacadda-02-dec-2022\n",
      "Manually found URL: https://soundcloud.com/radio-ergo/idaacadda-2-dec-2022\n",
      "Manually found URL: https://soundcloud.com/radio-ergo/idaacadda-03-dec-2022\n",
      "Manually found URL: https://soundcloud.com/radio-ergo/idaacadda-3-dec-2022\n",
      "Manually found URL: https://soundcloud.com/radio-ergo/idaacadda-04-dec-2022\n",
      "Manually found URL: https://soundcloud.com/radio-ergo/idaacadda-4-dec-2022\n",
      "Manually found URL: https://soundcloud.com/radio-ergo/idaacadda-05-dec-2022\n",
      "Manually found URL: https://soundcloud.com/radio-ergo/idaacadda-5-dec-2022\n",
      "Manually found URL: https://soundcloud.com/radio-ergo/idaacadda-06-dec-2022\n",
      "Manually found URL: https://soundcloud.com/radio-ergo/idaacadda-6-dec-2022\n",
      "Manually found URL: https://soundcloud.com/radio-ergo/idaacadda-07-dec-2022\n",
      "Manually found URL: https://soundcloud.com/radio-ergo/idaacadda-7-dec-2022\n",
      "Manually found URL: https://soundcloud.com/radio-ergo/idaacadda-08-dec-2022\n",
      "Manually found URL: https://soundcloud.com/radio-ergo/idaacadda-8-dec-2022\n",
      "Manually found URL: https://soundcloud.com/radio-ergo/idaacadda-09-dec-2022\n",
      "Manually found URL: https://soundcloud.com/radio-ergo/idaacadda-9-dec-2022\n",
      "Manually found URL: https://soundcloud.com/radio-ergo/idaacadda-10-dec-2022\n",
      "Manually found URL: https://soundcloud.com/radio-ergo/idaacadda-10-dec-2022\n",
      "Manually found URL: https://soundcloud.com/radio-ergo/idaacadda-11-dec-2022\n",
      "Manually found URL: https://soundcloud.com/radio-ergo/idaacadda-11-dec-2022\n",
      "Manually found URL: https://soundcloud.com/radio-ergo/idaacadda-12-dec-2022\n",
      "Manually found URL: https://soundcloud.com/radio-ergo/idaacadda-12-dec-2022\n",
      "Manually found URL: https://soundcloud.com/radio-ergo/idaacadda-13-dec-2022\n",
      "Manually found URL: https://soundcloud.com/radio-ergo/idaacadda-13-dec-2022\n",
      "Manually found URL: https://soundcloud.com/radio-ergo/idaacadda-14-dec-2022\n",
      "Manually found URL: https://soundcloud.com/radio-ergo/idaacadda-14-dec-2022\n",
      "Manually found URL: https://soundcloud.com/radio-ergo/idaacadda-15-dec-2022\n",
      "Manually found URL: https://soundcloud.com/radio-ergo/idaacadda-15-dec-2022\n",
      "Manually found URL: https://soundcloud.com/radio-ergo/idaacadda-16-dec-2022\n",
      "Manually found URL: https://soundcloud.com/radio-ergo/idaacadda-16-dec-2022\n",
      "Manually found URL: https://soundcloud.com/radio-ergo/idaacadda-17-dec-2022\n",
      "Manually found URL: https://soundcloud.com/radio-ergo/idaacadda-17-dec-2022\n",
      "Manually found URL: https://soundcloud.com/radio-ergo/idaacadda-18-dec-2022\n",
      "Manually found URL: https://soundcloud.com/radio-ergo/idaacadda-18-dec-2022\n",
      "Manually found URL: https://soundcloud.com/radio-ergo/idaacadda-19-dec-2022\n",
      "Manually found URL: https://soundcloud.com/radio-ergo/idaacadda-19-dec-2022\n",
      "Manually found URL: https://soundcloud.com/radio-ergo/idaacadda-20-dec-2022\n",
      "Manually found URL: https://soundcloud.com/radio-ergo/idaacadda-20-dec-2022\n",
      "Manually found URL: https://soundcloud.com/radio-ergo/idaacadda-21-dec-2022\n",
      "Manually found URL: https://soundcloud.com/radio-ergo/idaacadda-21-dec-2022\n",
      "Manually found URL: https://soundcloud.com/radio-ergo/idaacadda-22-dec-2022\n",
      "Manually found URL: https://soundcloud.com/radio-ergo/idaacadda-22-dec-2022\n",
      "Manually found URL: https://soundcloud.com/radio-ergo/idaacadda-23-dec-2022\n",
      "Manually found URL: https://soundcloud.com/radio-ergo/idaacadda-23-dec-2022\n",
      "Manually found URL: https://soundcloud.com/radio-ergo/idaacadda-24-dec-2022\n",
      "Manually found URL: https://soundcloud.com/radio-ergo/idaacadda-24-dec-2022\n",
      "Manually found URL: https://soundcloud.com/radio-ergo/idaacadda-25-dec-2022\n",
      "Manually found URL: https://soundcloud.com/radio-ergo/idaacadda-25-dec-2022\n",
      "Manually found URL: https://soundcloud.com/radio-ergo/idaacadda-26-dec-2022\n",
      "Manually found URL: https://soundcloud.com/radio-ergo/idaacadda-26-dec-2022\n",
      "Manually found URL: https://soundcloud.com/radio-ergo/idaacadda-27-dec-2022\n",
      "Manually found URL: https://soundcloud.com/radio-ergo/idaacadda-27-dec-2022\n",
      "Manually found URL: https://soundcloud.com/radio-ergo/idaacadda-28-dec-2022\n",
      "Manually found URL: https://soundcloud.com/radio-ergo/idaacadda-28-dec-2022\n",
      "Manually found URL: https://soundcloud.com/radio-ergo/idaacadda-29-dec-2022\n",
      "Manually found URL: https://soundcloud.com/radio-ergo/idaacadda-29-dec-2022\n",
      "Manually found URL: https://soundcloud.com/radio-ergo/idaacadda-30-dec-2022\n",
      "Manually found URL: https://soundcloud.com/radio-ergo/idaacadda-30-dec-2022\n",
      "Manually found URL: https://soundcloud.com/radio-ergo/idaacadda-31-dec-2022\n",
      "Manually found URL: https://soundcloud.com/radio-ergo/idaacadda-31-dec-2022\n",
      "Found 198 tracks in the specified date range.\n",
      "URLs found:\n",
      "- https://soundcloud.com/radio-ergo/idaacadda-10-nov-2022\n",
      "- https://soundcloud.com/radio-ergo/idaacadda-17-nov-2022\n",
      "- https://soundcloud.com/radio-ergo/idaacadda-05-dec-2022\n",
      "- https://soundcloud.com/radio-ergo/idaacadda-16-dec-2022\n",
      "- https://soundcloud.com/radio-ergo/idaacadda-8-aug-2022\n",
      "- https://soundcloud.com/radio-ergo/idaacadda-19-nov-2022\n",
      "- https://soundcloud.com/radio-ergo/idaacadda-22-sep-2022\n",
      "- https://soundcloud.com/radio-ergo/idaacadda-6-nov-2022\n",
      "- https://soundcloud.com/radio-ergo/idaacadda-7-dec-2022\n",
      "- https://soundcloud.com/radio-ergo/idaacadda-03-sep-2022\n",
      "- https://soundcloud.com/radio-ergo/idaacadda-9-sep-2022\n",
      "- https://soundcloud.com/radio-ergo/idaacadda-2-sep-2022\n",
      "- https://soundcloud.com/radio-ergo/idaacadda-5-oct-2022\n",
      "- https://soundcloud.com/radio-ergo/idaacadda-12-oct-2022\n",
      "- https://soundcloud.com/radio-ergo/idaacadda-16-nov-2022\n",
      "- https://soundcloud.com/radio-ergo/idaacadda-11-sep-2022\n",
      "- https://soundcloud.com/radio-ergo/idaacadda-02-dec-2022\n",
      "- https://soundcloud.com/radio-ergo/idaacadda-08-oct-2022\n",
      "- https://soundcloud.com/radio-ergo/idaacadda-20-dec-2022\n",
      "- https://soundcloud.com/radio-ergo/idaacadda-24-dec-2022\n",
      "- https://soundcloud.com/radio-ergo/idaacadda-23-sep-2022\n",
      "- https://soundcloud.com/radio-ergo/idaacadda-2-nov-2022\n",
      "- https://soundcloud.com/radio-ergo/idaacadda-29-nov-2022\n",
      "- https://soundcloud.com/radio-ergo/idaacadda-1-sep-2022\n",
      "- https://soundcloud.com/radio-ergo/idaacadda-07-sep-2022\n",
      "- https://soundcloud.com/radio-ergo/idaacadda-30-dec-2022\n",
      "- https://soundcloud.com/radio-ergo/idaacadda-02-oct-2022\n",
      "- https://soundcloud.com/radio-ergo/idaacadda-15-aug-2022\n",
      "- https://soundcloud.com/radio-ergo/idaacadda-3-aug-2022\n",
      "- https://soundcloud.com/radio-ergo/idaacadda-22-aug-2022\n",
      "- https://soundcloud.com/radio-ergo/idaacadda-07-aug-2022\n",
      "- https://soundcloud.com/radio-ergo/idaacadda-02-sep-2022\n",
      "- https://soundcloud.com/radio-ergo/idaacadda-5-nov-2022\n",
      "- https://soundcloud.com/radio-ergo/idaacadda-07-oct-2022\n",
      "- https://soundcloud.com/radio-ergo/idaacadda-10-dec-2022\n",
      "- https://soundcloud.com/radio-ergo/idaacadda-3-oct-2022\n",
      "- https://soundcloud.com/radio-ergo/idaacadda-4-aug-2022\n",
      "- https://soundcloud.com/radio-ergo/idaacadda-22-nov-2022\n",
      "- https://soundcloud.com/radio-ergo/idaacadda-01-sep-2022\n",
      "- https://soundcloud.com/radio-ergo/idaacadda-15-dec-2022\n",
      "- https://soundcloud.com/radio-ergo/idaacadda-16-sep-2022\n",
      "- https://soundcloud.com/radio-ergo/idaacadda-6-aug-2022\n",
      "- https://soundcloud.com/radio-ergo/idaacadda-18-sep-2022\n",
      "- https://soundcloud.com/radio-ergo/idaacadda-04-sep-2022\n",
      "- https://soundcloud.com/radio-ergo/idaacadda-21-nov-2022\n",
      "- https://soundcloud.com/radio-ergo/idaacadda-16-oct-2022\n",
      "- https://soundcloud.com/radio-ergo/idaacadda-04-nov-2022\n",
      "- https://soundcloud.com/radio-ergo/idaacadda-2-aug-2022\n",
      "- https://soundcloud.com/radio-ergo/idaacadda-31-oct-2022\n",
      "- https://soundcloud.com/radio-ergo/idaacadda-4-oct-2022\n",
      "- https://soundcloud.com/radio-ergo/idaacadda-18-oct-2022\n",
      "- https://soundcloud.com/radio-ergo/idaacadda-14-aug-2022\n",
      "- https://soundcloud.com/radio-ergo/idaacadda-25-sep-2022\n",
      "- https://soundcloud.com/radio-ergo/idaacadda-13-aug-2022\n",
      "- https://soundcloud.com/radio-ergo/idaacadda-08-sep-2022\n",
      "- https://soundcloud.com/radio-ergo/idaacadda-08-aug-2022\n",
      "- https://soundcloud.com/radio-ergo/idaacadda-03-aug-2022\n",
      "- https://soundcloud.com/radio-ergo/idaacadda-17-oct-2022\n",
      "- https://soundcloud.com/radio-ergo/idaacadda-7-nov-2022\n",
      "- https://soundcloud.com/radio-ergo/idaacadda-24-aug-2022\n",
      "- https://soundcloud.com/radio-ergo/idaacadda-18-nov-2022\n",
      "- https://soundcloud.com/radio-ergo/idaacadda-26-nov-2022\n",
      "- https://soundcloud.com/radio-ergo/idaacadda-5-sep-2022\n",
      "- https://soundcloud.com/radio-ergo/idaacadda-01-oct-2022\n",
      "- https://soundcloud.com/radio-ergo/idaacadda-8-nov-2022\n",
      "- https://soundcloud.com/radio-ergo/idaacadda-27-sep-2022\n",
      "- https://soundcloud.com/radio-ergo/idaacadda-17-aug-2022\n",
      "- https://soundcloud.com/radio-ergo/idaacadda-06-sep-2022\n",
      "- https://soundcloud.com/radio-ergo/idaacadda-4-nov-2022\n",
      "- https://soundcloud.com/radio-ergo/idaacadda-24-sep-2022\n",
      "- https://soundcloud.com/radio-ergo/idaacadda-05-oct-2022\n",
      "- https://soundcloud.com/radio-ergo/idaacadda-17-sep-2022\n",
      "- https://soundcloud.com/radio-ergo/idaacadda-09-nov-2022\n",
      "- https://soundcloud.com/radio-ergo/idaacadda-6-sep-2022\n",
      "- https://soundcloud.com/radio-ergo/idaacadda-09-sep-2022\n",
      "- https://soundcloud.com/radio-ergo/idaacadda-15-sep-2022\n",
      "- https://soundcloud.com/radio-ergo/idaacadda-06-aug-2022\n",
      "- https://soundcloud.com/radio-ergo/idaacadda-23-oct-2022\n",
      "- https://soundcloud.com/radio-ergo/idaacadda-26-oct-2022\n",
      "- https://soundcloud.com/radio-ergo/idaacadda-3-sep-2022\n",
      "- https://soundcloud.com/radio-ergo/idaacadda-9-nov-2022\n",
      "- https://soundcloud.com/radio-ergo/idaacadda-25-nov-2022\n",
      "- https://soundcloud.com/radio-ergo/idaacadda-26-dec-2022\n",
      "- https://soundcloud.com/radio-ergo/idaacadda-19-oct-2022\n",
      "- https://soundcloud.com/radio-ergo/idaacadda-11-aug-2022\n",
      "- https://soundcloud.com/radio-ergo/idaacadda-19-dec-2022\n",
      "- https://soundcloud.com/radio-ergo/idaacadda-05-aug-2022\n",
      "- https://soundcloud.com/radio-ergo/idaacadda-29-aug-2022\n",
      "- https://soundcloud.com/radio-ergo/idaacadda-27-oct-2022\n",
      "- https://soundcloud.com/radio-ergo/idaacadda-21-dec-2022\n",
      "- https://soundcloud.com/radio-ergo/idaacadda-4-sep-2022\n",
      "- https://soundcloud.com/radio-ergo/idaacadda-12-aug-2022\n",
      "- https://soundcloud.com/radio-ergo/idaacadda-20-nov-2022\n",
      "- https://soundcloud.com/radio-ergo/idaacadda-1-aug-2022\n",
      "- https://soundcloud.com/radio-ergo/idaacadda-30-oct-2022\n",
      "- https://soundcloud.com/radio-ergo/idaacadda-14-oct-2022\n",
      "- https://soundcloud.com/radio-ergo/idaacadda-09-oct-2022\n",
      "- https://soundcloud.com/radio-ergo/idaacadda-27-dec-2022\n",
      "- https://soundcloud.com/radio-ergo/idaacadda-13-oct-2022\n",
      "- https://soundcloud.com/radio-ergo/idaacadda-2-oct-2022\n",
      "- https://soundcloud.com/radio-ergo/idaacadda-05-sep-2022\n",
      "- https://soundcloud.com/radio-ergo/idaacadda-1-oct-2022\n",
      "- https://soundcloud.com/radio-ergo/idaacadda-8-oct-2022\n",
      "- https://soundcloud.com/radio-ergo/idaacadda-22-oct-2022\n",
      "- https://soundcloud.com/radio-ergo/idaacadda-27-aug-2022\n",
      "- https://soundcloud.com/radio-ergo/idaacadda-18-dec-2022\n",
      "- https://soundcloud.com/radio-ergo/idaacadda-06-dec-2022\n",
      "- https://soundcloud.com/radio-ergo/idaacadda-04-dec-2022\n",
      "- https://soundcloud.com/radio-ergo/idaacadda-7-aug-2022\n",
      "- https://soundcloud.com/radio-ergo/idaacadda-03-dec-2022\n",
      "- https://soundcloud.com/radio-ergo/idaacadda-07-nov-2022\n",
      "- https://soundcloud.com/radio-ergo/idaacadda-14-nov-2022\n",
      "- https://soundcloud.com/radio-ergo/idaacadda-29-dec-2022\n",
      "- https://soundcloud.com/radio-ergo/idaacadda-01-nov-2022\n",
      "- https://soundcloud.com/radio-ergo/idaacadda-26-aug-2022\n",
      "- https://soundcloud.com/radio-ergo/idaacadda-3-dec-2022\n",
      "- https://soundcloud.com/radio-ergo/idaacadda-14-sep-2022\n",
      "- https://soundcloud.com/radio-ergo/idaacadda-11-oct-2022\n",
      "- https://soundcloud.com/radio-ergo/idaacadda-22-dec-2022\n",
      "- https://soundcloud.com/radio-ergo/idaacadda-12-dec-2022\n",
      "- https://soundcloud.com/radio-ergo/idaacadda-05-nov-2022\n",
      "- https://soundcloud.com/radio-ergo/idaacadda-19-sep-2022\n",
      "- https://soundcloud.com/radio-ergo/idaacadda-21-sep-2022\n",
      "- https://soundcloud.com/radio-ergo/idaacadda-30-aug-2022\n",
      "- https://soundcloud.com/radio-ergo/idaacadda-6-dec-2022\n",
      "- https://soundcloud.com/radio-ergo/idaacadda-01-dec-2022\n",
      "- https://soundcloud.com/radio-ergo/idaacadda-1-nov-2022\n",
      "- https://soundcloud.com/radio-ergo/idaacadda-21-oct-2022\n",
      "- https://soundcloud.com/radio-ergo/idaacadda-04-oct-2022\n",
      "- https://soundcloud.com/radio-ergo/idaacadda-26-sep-2022\n",
      "- https://soundcloud.com/radio-ergo/idaacadda-25-dec-2022\n",
      "- https://soundcloud.com/radio-ergo/idaacadda-19-aug-2022\n",
      "- https://soundcloud.com/radio-ergo/idaacadda-20-aug-2022\n",
      "- https://soundcloud.com/radio-ergo/idaacadda-29-sep-2022\n",
      "- https://soundcloud.com/radio-ergo/idaacadda-7-sep-2022\n",
      "- https://soundcloud.com/radio-ergo/idaacadda-9-oct-2022\n",
      "- https://soundcloud.com/radio-ergo/idaacadda-30-nov-2022\n",
      "- https://soundcloud.com/radio-ergo/idaacadda-28-aug-2022\n",
      "- https://soundcloud.com/radio-ergo/idaacadda-21-aug-2022\n",
      "- https://soundcloud.com/radio-ergo/idaacadda-7-oct-2022\n",
      "- https://soundcloud.com/radio-ergo/idaacadda-11-dec-2022\n",
      "- https://soundcloud.com/radio-ergo/idaacadda-29-oct-2022\n",
      "- https://soundcloud.com/radio-ergo/idaacadda-27-nov-2022\n",
      "- https://soundcloud.com/radio-ergo/idaacadda-09-aug-2022\n",
      "- https://soundcloud.com/radio-ergo/idaacadda-9-dec-2022\n",
      "- https://soundcloud.com/radio-ergo/idaacadda-4-dec-2022\n",
      "- https://soundcloud.com/radio-ergo/idaacadda-15-nov-2022\n",
      "- https://soundcloud.com/radio-ergo/idaacadda-28-sep-2022\n",
      "- https://soundcloud.com/radio-ergo/idaacadda-30-sep-2022\n",
      "- https://soundcloud.com/radio-ergo/idaacadda-2-dec-2022\n",
      "- https://soundcloud.com/radio-ergo/idaacadda-5-dec-2022\n",
      "- https://soundcloud.com/radio-ergo/idaacadda-01-aug-2022\n",
      "- https://soundcloud.com/radio-ergo/idaacadda-13-dec-2022\n",
      "- https://soundcloud.com/radio-ergo/idaacadda-14-dec-2022\n",
      "- https://soundcloud.com/radio-ergo/idaacadda-11-nov-2022\n",
      "- https://soundcloud.com/radio-ergo/idaacadda-02-aug-2022\n",
      "- https://soundcloud.com/radio-ergo/idaacadda-25-aug-2022\n",
      "- https://soundcloud.com/radio-ergo/idaacadda-08-nov-2022\n",
      "- https://soundcloud.com/radio-ergo/idaacadda-3-nov-2022\n",
      "- https://soundcloud.com/radio-ergo/idaacadda-10-sep-2022\n",
      "- https://soundcloud.com/radio-ergo/idaacadda-16-aug-2022\n",
      "- https://soundcloud.com/radio-ergo/idaacadda-8-sep-2022\n",
      "- https://soundcloud.com/radio-ergo/idaacadda-31-dec-2022\n",
      "- https://soundcloud.com/radio-ergo/idaacadda-12-nov-2022\n",
      "- https://soundcloud.com/radio-ergo/idaacadda-9-aug-2022\n",
      "- https://soundcloud.com/radio-ergo/idaacadda-18-aug-2022\n",
      "- https://soundcloud.com/radio-ergo/idaacadda-24-oct-2022\n",
      "- https://soundcloud.com/radio-ergo/idaacadda-5-aug-2022\n",
      "- https://soundcloud.com/radio-ergo/idaacadda-25-oct-2022\n",
      "- https://soundcloud.com/radio-ergo/idaacadda-08-dec-2022\n",
      "- https://soundcloud.com/radio-ergo/idaacadda-23-dec-2022\n",
      "- https://soundcloud.com/radio-ergo/idaacadda-31-aug-2022\n",
      "- https://soundcloud.com/radio-ergo/idaacadda-03-oct-2022\n",
      "- https://soundcloud.com/radio-ergo/idaacadda-20-sep-2022\n",
      "- https://soundcloud.com/radio-ergo/idaacadda-06-oct-2022\n",
      "- https://soundcloud.com/radio-ergo/idaacadda-8-dec-2022\n",
      "- https://soundcloud.com/radio-ergo/idaacadda-17-dec-2022\n",
      "- https://soundcloud.com/radio-ergo/idaacadda-03-nov-2022\n",
      "- https://soundcloud.com/radio-ergo/idaacadda-24-nov-2022\n",
      "- https://soundcloud.com/radio-ergo/idaacadda-09-dec-2022\n",
      "- https://soundcloud.com/radio-ergo/idaacadda-6-oct-2022\n",
      "- https://soundcloud.com/radio-ergo/idaacadda-23-nov-2022\n",
      "- https://soundcloud.com/radio-ergo/idaacadda-28-nov-2022\n",
      "- https://soundcloud.com/radio-ergo/idaacadda-13-sep-2022\n",
      "- https://soundcloud.com/radio-ergo/idaacadda-02-nov-2022\n",
      "- https://soundcloud.com/radio-ergo/idaacadda-12-sep-2022\n",
      "- https://soundcloud.com/radio-ergo/idaacadda-10-oct-2022\n",
      "- https://soundcloud.com/radio-ergo/idaacadda-07-dec-2022\n",
      "- https://soundcloud.com/radio-ergo/idaacadda-28-dec-2022\n",
      "- https://soundcloud.com/radio-ergo/idaacadda-04-aug-2022\n",
      "- https://soundcloud.com/radio-ergo/idaacadda-13-nov-2022\n",
      "- https://soundcloud.com/radio-ergo/idaacadda-1-dec-2022\n",
      "- https://soundcloud.com/radio-ergo/idaacadda-15-oct-2022\n",
      "- https://soundcloud.com/radio-ergo/idaacadda-20-oct-2022\n",
      "- https://soundcloud.com/radio-ergo/idaacadda-28-oct-2022\n",
      "- https://soundcloud.com/radio-ergo/idaacadda-06-nov-2022\n",
      "- https://soundcloud.com/radio-ergo/idaacadda-23-aug-2022\n",
      "- https://soundcloud.com/radio-ergo/idaacadda-10-aug-2022\n",
      "\n",
      "Starting download of 198 SoundCloud audios to: soundcloud_2022-08-01_to_2022-12-31\n",
      "[soundcloud] Extracting URL: https://soundcloud.com/radio-ergo/idaacadda-10-nov-2022\n",
      "[soundcloud] radio-ergo/idaacadda-10-nov-2022: Downloading info JSON\n"
     ]
    },
    {
     "name": "stderr",
     "output_type": "stream",
     "text": [
      "ERROR: [soundcloud] Unable to download JSON metadata: HTTP Error 404: Not Found (caused by <HTTPError 404: Not Found>)\n"
     ]
    },
    {
     "name": "stdout",
     "output_type": "stream",
     "text": [
      "Error downloading https://soundcloud.com/radio-ergo/idaacadda-10-nov-2022: ERROR: [soundcloud] Unable to download JSON metadata: HTTP Error 404: Not Found (caused by <HTTPError 404: Not Found>)\n",
      "[soundcloud] Extracting URL: https://soundcloud.com/radio-ergo/idaacadda-17-nov-2022\n",
      "[soundcloud] radio-ergo/idaacadda-17-nov-2022: Downloading info JSON\n",
      "[soundcloud] 1384916305: Downloading hls_mp3 format info JSON\n",
      "[soundcloud] 1384916305: Downloading http_mp3 format info JSON\n",
      "[soundcloud] 1384916305: Downloading hls_opus format info JSON\n",
      "[info] 1384916305: Downloading 1 format(s): hls_opus_0_0\n",
      "[hlsnative] Downloading m3u8 manifest\n",
      "[hlsnative] Total fragments: 358\n",
      "[download] Destination: soundcloud_2022-08-01_to_2022-12-31/IDAACADDA 17-NOV-2022.opus\n",
      "[download] 100% of   28.28MiB in 00:00:06 at 4.17MiB/s                    \n"
     ]
    },
    {
     "name": "stderr",
     "output_type": "stream",
     "text": [
      "WARNING: 1384916305: Possible MPEG-TS in MP4 container or malformed AAC timestamps. Install ffmpeg to fix this automatically\n",
      "ERROR: Postprocessing: ffprobe and ffmpeg not found. Please install or provide the path using --ffmpeg-location\n"
     ]
    },
    {
     "name": "stdout",
     "output_type": "stream",
     "text": [
      "Error downloading https://soundcloud.com/radio-ergo/idaacadda-17-nov-2022: ERROR: Postprocessing: ffprobe and ffmpeg not found. Please install or provide the path using --ffmpeg-location\n",
      "[soundcloud] Extracting URL: https://soundcloud.com/radio-ergo/idaacadda-05-dec-2022\n",
      "[soundcloud] radio-ergo/idaacadda-05-dec-2022: Downloading info JSON\n"
     ]
    },
    {
     "name": "stderr",
     "output_type": "stream",
     "text": [
      "ERROR: [soundcloud] Unable to download JSON metadata: HTTP Error 404: Not Found (caused by <HTTPError 404: Not Found>)\n"
     ]
    },
    {
     "name": "stdout",
     "output_type": "stream",
     "text": [
      "Error downloading https://soundcloud.com/radio-ergo/idaacadda-05-dec-2022: ERROR: [soundcloud] Unable to download JSON metadata: HTTP Error 404: Not Found (caused by <HTTPError 404: Not Found>)\n",
      "[soundcloud] Extracting URL: https://soundcloud.com/radio-ergo/idaacadda-16-dec-2022\n",
      "[soundcloud] radio-ergo/idaacadda-16-dec-2022: Downloading info JSON\n",
      "[soundcloud] 1403921575: Downloading hls_mp3 format info JSON\n",
      "[soundcloud] 1403921575: Downloading http_mp3 format info JSON\n",
      "[soundcloud] 1403921575: Downloading hls_opus format info JSON\n",
      "[info] 1403921575: Downloading 1 format(s): hls_opus_0_0\n",
      "[hlsnative] Downloading m3u8 manifest\n",
      "[hlsnative] Total fragments: 362\n",
      "[download] Destination: soundcloud_2022-08-01_to_2022-12-31/IDAACADDA 16-DEC-2022.opus\n",
      "[download] 100% of   27.67MiB in 00:00:06 at 4.18MiB/s                    \n"
     ]
    },
    {
     "name": "stderr",
     "output_type": "stream",
     "text": [
      "WARNING: 1403921575: Possible MPEG-TS in MP4 container or malformed AAC timestamps. Install ffmpeg to fix this automatically\n",
      "ERROR: Postprocessing: ffprobe and ffmpeg not found. Please install or provide the path using --ffmpeg-location\n"
     ]
    },
    {
     "name": "stdout",
     "output_type": "stream",
     "text": [
      "Error downloading https://soundcloud.com/radio-ergo/idaacadda-16-dec-2022: ERROR: Postprocessing: ffprobe and ffmpeg not found. Please install or provide the path using --ffmpeg-location\n",
      "[soundcloud] Extracting URL: https://soundcloud.com/radio-ergo/idaacadda-8-aug-2022\n",
      "[soundcloud] radio-ergo/idaacadda-8-aug-2022: Downloading info JSON\n"
     ]
    },
    {
     "name": "stderr",
     "output_type": "stream",
     "text": [
      "ERROR: [soundcloud] Unable to download JSON metadata: HTTP Error 404: Not Found (caused by <HTTPError 404: Not Found>)\n"
     ]
    },
    {
     "name": "stdout",
     "output_type": "stream",
     "text": [
      "Error downloading https://soundcloud.com/radio-ergo/idaacadda-8-aug-2022: ERROR: [soundcloud] Unable to download JSON metadata: HTTP Error 404: Not Found (caused by <HTTPError 404: Not Found>)\n",
      "[soundcloud] Extracting URL: https://soundcloud.com/radio-ergo/idaacadda-19-nov-2022\n",
      "[soundcloud] radio-ergo/idaacadda-19-nov-2022: Downloading info JSON\n",
      "[soundcloud] 1386178387: Downloading hls_mp3 format info JSON\n",
      "[soundcloud] 1386178387: Downloading http_mp3 format info JSON\n",
      "[soundcloud] 1386178387: Downloading hls_opus format info JSON\n",
      "[info] 1386178387: Downloading 1 format(s): hls_opus_0_0\n",
      "[hlsnative] Downloading m3u8 manifest\n",
      "[hlsnative] Total fragments: 359\n",
      "[download] Destination: soundcloud_2022-08-01_to_2022-12-31/IDAACADDA 19-NOV-2022.opus\n",
      "[download] 100% of   31.27MiB in 00:00:07 at 4.45MiB/s                    \n"
     ]
    },
    {
     "name": "stderr",
     "output_type": "stream",
     "text": [
      "WARNING: 1386178387: Possible MPEG-TS in MP4 container or malformed AAC timestamps. Install ffmpeg to fix this automatically\n",
      "ERROR: Postprocessing: ffprobe and ffmpeg not found. Please install or provide the path using --ffmpeg-location\n"
     ]
    },
    {
     "name": "stdout",
     "output_type": "stream",
     "text": [
      "Error downloading https://soundcloud.com/radio-ergo/idaacadda-19-nov-2022: ERROR: Postprocessing: ffprobe and ffmpeg not found. Please install or provide the path using --ffmpeg-location\n",
      "[soundcloud] Extracting URL: https://soundcloud.com/radio-ergo/idaacadda-22-sep-2022\n",
      "[soundcloud] radio-ergo/idaacadda-22-sep-2022: Downloading info JSON\n",
      "[soundcloud] 1348784899: Downloading hls_mp3 format info JSON\n",
      "[soundcloud] 1348784899: Downloading http_mp3 format info JSON\n",
      "[soundcloud] 1348784899: Downloading hls_opus format info JSON\n",
      "[info] 1348784899: Downloading 1 format(s): hls_opus_0_0\n",
      "[hlsnative] Downloading m3u8 manifest\n",
      "[hlsnative] Total fragments: 362\n",
      "[download] Destination: soundcloud_2022-08-01_to_2022-12-31/IDAACADDA 22-SEP-2022.opus\n",
      "[download] 100% of   27.91MiB in 00:00:06 at 4.25MiB/s                    \n"
     ]
    },
    {
     "name": "stderr",
     "output_type": "stream",
     "text": [
      "WARNING: 1348784899: Possible MPEG-TS in MP4 container or malformed AAC timestamps. Install ffmpeg to fix this automatically\n",
      "ERROR: Postprocessing: ffprobe and ffmpeg not found. Please install or provide the path using --ffmpeg-location\n"
     ]
    },
    {
     "name": "stdout",
     "output_type": "stream",
     "text": [
      "Error downloading https://soundcloud.com/radio-ergo/idaacadda-22-sep-2022: ERROR: Postprocessing: ffprobe and ffmpeg not found. Please install or provide the path using --ffmpeg-location\n",
      "[soundcloud] Extracting URL: https://soundcloud.com/radio-ergo/idaacadda-6-nov-2022\n",
      "[soundcloud] radio-ergo/idaacadda-6-nov-2022: Downloading info JSON\n"
     ]
    },
    {
     "name": "stderr",
     "output_type": "stream",
     "text": [
      "ERROR: [soundcloud] Unable to download JSON metadata: HTTP Error 404: Not Found (caused by <HTTPError 404: Not Found>)\n"
     ]
    },
    {
     "name": "stdout",
     "output_type": "stream",
     "text": [
      "Error downloading https://soundcloud.com/radio-ergo/idaacadda-6-nov-2022: ERROR: [soundcloud] Unable to download JSON metadata: HTTP Error 404: Not Found (caused by <HTTPError 404: Not Found>)\n",
      "[soundcloud] Extracting URL: https://soundcloud.com/radio-ergo/idaacadda-7-dec-2022\n",
      "[soundcloud] radio-ergo/idaacadda-7-dec-2022: Downloading info JSON\n"
     ]
    },
    {
     "name": "stderr",
     "output_type": "stream",
     "text": [
      "ERROR: [soundcloud] Unable to download JSON metadata: HTTP Error 404: Not Found (caused by <HTTPError 404: Not Found>)\n"
     ]
    },
    {
     "name": "stdout",
     "output_type": "stream",
     "text": [
      "Error downloading https://soundcloud.com/radio-ergo/idaacadda-7-dec-2022: ERROR: [soundcloud] Unable to download JSON metadata: HTTP Error 404: Not Found (caused by <HTTPError 404: Not Found>)\n",
      "[soundcloud] Extracting URL: https://soundcloud.com/radio-ergo/idaacadda-03-sep-2022\n",
      "[soundcloud] radio-ergo/idaacadda-03-sep-2022: Downloading info JSON\n"
     ]
    },
    {
     "name": "stderr",
     "output_type": "stream",
     "text": [
      "ERROR: [soundcloud] Unable to download JSON metadata: HTTP Error 404: Not Found (caused by <HTTPError 404: Not Found>)\n"
     ]
    },
    {
     "name": "stdout",
     "output_type": "stream",
     "text": [
      "Error downloading https://soundcloud.com/radio-ergo/idaacadda-03-sep-2022: ERROR: [soundcloud] Unable to download JSON metadata: HTTP Error 404: Not Found (caused by <HTTPError 404: Not Found>)\n",
      "[soundcloud] Extracting URL: https://soundcloud.com/radio-ergo/idaacadda-9-sep-2022\n",
      "[soundcloud] radio-ergo/idaacadda-9-sep-2022: Downloading info JSON\n"
     ]
    },
    {
     "name": "stderr",
     "output_type": "stream",
     "text": [
      "ERROR: [soundcloud] Unable to download JSON metadata: HTTP Error 404: Not Found (caused by <HTTPError 404: Not Found>)\n"
     ]
    },
    {
     "name": "stdout",
     "output_type": "stream",
     "text": [
      "Error downloading https://soundcloud.com/radio-ergo/idaacadda-9-sep-2022: ERROR: [soundcloud] Unable to download JSON metadata: HTTP Error 404: Not Found (caused by <HTTPError 404: Not Found>)\n",
      "[soundcloud] Extracting URL: https://soundcloud.com/radio-ergo/idaacadda-2-sep-2022\n",
      "[soundcloud] radio-ergo/idaacadda-2-sep-2022: Downloading info JSON\n"
     ]
    },
    {
     "name": "stderr",
     "output_type": "stream",
     "text": [
      "ERROR: [soundcloud] Unable to download JSON metadata: HTTP Error 404: Not Found (caused by <HTTPError 404: Not Found>)\n"
     ]
    },
    {
     "name": "stdout",
     "output_type": "stream",
     "text": [
      "Error downloading https://soundcloud.com/radio-ergo/idaacadda-2-sep-2022: ERROR: [soundcloud] Unable to download JSON metadata: HTTP Error 404: Not Found (caused by <HTTPError 404: Not Found>)\n",
      "[soundcloud] Extracting URL: https://soundcloud.com/radio-ergo/idaacadda-5-oct-2022\n",
      "[soundcloud] radio-ergo/idaacadda-5-oct-2022: Downloading info JSON\n"
     ]
    },
    {
     "name": "stderr",
     "output_type": "stream",
     "text": [
      "ERROR: [soundcloud] Unable to download JSON metadata: HTTP Error 404: Not Found (caused by <HTTPError 404: Not Found>)\n"
     ]
    },
    {
     "name": "stdout",
     "output_type": "stream",
     "text": [
      "Error downloading https://soundcloud.com/radio-ergo/idaacadda-5-oct-2022: ERROR: [soundcloud] Unable to download JSON metadata: HTTP Error 404: Not Found (caused by <HTTPError 404: Not Found>)\n",
      "[soundcloud] Extracting URL: https://soundcloud.com/radio-ergo/idaacadda-12-oct-2022\n",
      "[soundcloud] radio-ergo/idaacadda-12-oct-2022: Downloading info JSON\n",
      "[soundcloud] 1361586790: Downloading hls_mp3 format info JSON\n",
      "[soundcloud] 1361586790: Downloading http_mp3 format info JSON\n",
      "[soundcloud] 1361586790: Downloading hls_opus format info JSON\n",
      "[info] 1361586790: Downloading 1 format(s): hls_opus_0_0\n",
      "[hlsnative] Downloading m3u8 manifest\n",
      "[hlsnative] Total fragments: 361\n",
      "[download] Destination: soundcloud_2022-08-01_to_2022-12-31/IDAACADDA 12-OCT-2022.opus\n",
      "[download] 100% of   29.19MiB in 00:00:06 at 4.41MiB/s                    \n"
     ]
    },
    {
     "name": "stderr",
     "output_type": "stream",
     "text": [
      "WARNING: 1361586790: Possible MPEG-TS in MP4 container or malformed AAC timestamps. Install ffmpeg to fix this automatically\n",
      "ERROR: Postprocessing: ffprobe and ffmpeg not found. Please install or provide the path using --ffmpeg-location\n"
     ]
    },
    {
     "name": "stdout",
     "output_type": "stream",
     "text": [
      "Error downloading https://soundcloud.com/radio-ergo/idaacadda-12-oct-2022: ERROR: Postprocessing: ffprobe and ffmpeg not found. Please install or provide the path using --ffmpeg-location\n",
      "[soundcloud] Extracting URL: https://soundcloud.com/radio-ergo/idaacadda-16-nov-2022\n",
      "[soundcloud] radio-ergo/idaacadda-16-nov-2022: Downloading info JSON\n",
      "[soundcloud] 1384269373: Downloading hls_mp3 format info JSON\n",
      "[soundcloud] 1384269373: Downloading http_mp3 format info JSON\n",
      "[soundcloud] 1384269373: Downloading hls_opus format info JSON\n",
      "[info] 1384269373: Downloading 1 format(s): hls_opus_0_0\n",
      "[hlsnative] Downloading m3u8 manifest\n",
      "[hlsnative] Total fragments: 362\n",
      "[download] Destination: soundcloud_2022-08-01_to_2022-12-31/IDAACADDA 16-NOV-2022.opus\n",
      "[download] 100% of   28.16MiB in 00:00:06 at 4.15MiB/s                    \n"
     ]
    },
    {
     "name": "stderr",
     "output_type": "stream",
     "text": [
      "WARNING: 1384269373: Possible MPEG-TS in MP4 container or malformed AAC timestamps. Install ffmpeg to fix this automatically\n",
      "ERROR: Postprocessing: ffprobe and ffmpeg not found. Please install or provide the path using --ffmpeg-location\n"
     ]
    },
    {
     "name": "stdout",
     "output_type": "stream",
     "text": [
      "Error downloading https://soundcloud.com/radio-ergo/idaacadda-16-nov-2022: ERROR: Postprocessing: ffprobe and ffmpeg not found. Please install or provide the path using --ffmpeg-location\n",
      "[soundcloud] Extracting URL: https://soundcloud.com/radio-ergo/idaacadda-11-sep-2022\n",
      "[soundcloud] radio-ergo/idaacadda-11-sep-2022: Downloading info JSON\n",
      "[soundcloud] 1340831782: Downloading hls_mp3 format info JSON\n",
      "[soundcloud] 1340831782: Downloading http_mp3 format info JSON\n",
      "[soundcloud] 1340831782: Downloading hls_opus format info JSON\n",
      "[info] 1340831782: Downloading 1 format(s): hls_opus_0_0\n",
      "[hlsnative] Downloading m3u8 manifest\n",
      "[hlsnative] Total fragments: 361\n",
      "[download] Destination: soundcloud_2022-08-01_to_2022-12-31/IDAACADDA 11-SEP-2022.opus\n",
      "[download] 100% of   27.59MiB in 00:00:06 at 4.01MiB/s                    \n"
     ]
    },
    {
     "name": "stderr",
     "output_type": "stream",
     "text": [
      "WARNING: 1340831782: Possible MPEG-TS in MP4 container or malformed AAC timestamps. Install ffmpeg to fix this automatically\n",
      "ERROR: Postprocessing: ffprobe and ffmpeg not found. Please install or provide the path using --ffmpeg-location\n"
     ]
    },
    {
     "name": "stdout",
     "output_type": "stream",
     "text": [
      "Error downloading https://soundcloud.com/radio-ergo/idaacadda-11-sep-2022: ERROR: Postprocessing: ffprobe and ffmpeg not found. Please install or provide the path using --ffmpeg-location\n",
      "[soundcloud] Extracting URL: https://soundcloud.com/radio-ergo/idaacadda-02-dec-2022\n",
      "[soundcloud] radio-ergo/idaacadda-02-dec-2022: Downloading info JSON\n",
      "[soundcloud] 1394742304: Downloading hls_mp3 format info JSON\n",
      "[soundcloud] 1394742304: Downloading http_mp3 format info JSON\n",
      "[soundcloud] 1394742304: Downloading hls_opus format info JSON\n",
      "[info] 1394742304: Downloading 1 format(s): hls_opus_0_0\n",
      "[hlsnative] Downloading m3u8 manifest\n",
      "[hlsnative] Total fragments: 362\n",
      "[download] Destination: soundcloud_2022-08-01_to_2022-12-31/IDAACADDA 02-DEC-2022.opus\n",
      "[download] 100% of   27.98MiB in 00:00:06 at 4.24MiB/s                    \n"
     ]
    },
    {
     "name": "stderr",
     "output_type": "stream",
     "text": [
      "WARNING: 1394742304: Possible MPEG-TS in MP4 container or malformed AAC timestamps. Install ffmpeg to fix this automatically\n",
      "ERROR: Postprocessing: ffprobe and ffmpeg not found. Please install or provide the path using --ffmpeg-location\n"
     ]
    },
    {
     "name": "stdout",
     "output_type": "stream",
     "text": [
      "Error downloading https://soundcloud.com/radio-ergo/idaacadda-02-dec-2022: ERROR: Postprocessing: ffprobe and ffmpeg not found. Please install or provide the path using --ffmpeg-location\n",
      "[soundcloud] Extracting URL: https://soundcloud.com/radio-ergo/idaacadda-08-oct-2022\n",
      "[soundcloud] radio-ergo/idaacadda-08-oct-2022: Downloading info JSON\n"
     ]
    },
    {
     "name": "stderr",
     "output_type": "stream",
     "text": [
      "ERROR: [soundcloud] Unable to download JSON metadata: HTTP Error 404: Not Found (caused by <HTTPError 404: Not Found>)\n"
     ]
    },
    {
     "name": "stdout",
     "output_type": "stream",
     "text": [
      "Error downloading https://soundcloud.com/radio-ergo/idaacadda-08-oct-2022: ERROR: [soundcloud] Unable to download JSON metadata: HTTP Error 404: Not Found (caused by <HTTPError 404: Not Found>)\n",
      "[soundcloud] Extracting URL: https://soundcloud.com/radio-ergo/idaacadda-20-dec-2022\n",
      "[soundcloud] radio-ergo/idaacadda-20-dec-2022: Downloading info JSON\n",
      "[soundcloud] 1406428039: Downloading hls_mp3 format info JSON\n",
      "[soundcloud] 1406428039: Downloading http_mp3 format info JSON\n",
      "[soundcloud] 1406428039: Downloading hls_opus format info JSON\n",
      "[info] 1406428039: Downloading 1 format(s): hls_opus_0_0\n",
      "[hlsnative] Downloading m3u8 manifest\n",
      "[hlsnative] Total fragments: 358\n",
      "[download] Destination: soundcloud_2022-08-01_to_2022-12-31/IDAACADDA 20-DEC-2022.opus\n",
      "[download] 100% of   27.60MiB in 00:00:06 at 4.23MiB/s                    \n"
     ]
    },
    {
     "name": "stderr",
     "output_type": "stream",
     "text": [
      "WARNING: 1406428039: Possible MPEG-TS in MP4 container or malformed AAC timestamps. Install ffmpeg to fix this automatically\n",
      "ERROR: Postprocessing: ffprobe and ffmpeg not found. Please install or provide the path using --ffmpeg-location\n"
     ]
    },
    {
     "name": "stdout",
     "output_type": "stream",
     "text": [
      "Error downloading https://soundcloud.com/radio-ergo/idaacadda-20-dec-2022: ERROR: Postprocessing: ffprobe and ffmpeg not found. Please install or provide the path using --ffmpeg-location\n",
      "[soundcloud] Extracting URL: https://soundcloud.com/radio-ergo/idaacadda-24-dec-2022\n",
      "[soundcloud] radio-ergo/idaacadda-24-dec-2022: Downloading info JSON\n",
      "[soundcloud] 1409355109: Downloading hls_mp3 format info JSON\n",
      "[soundcloud] 1409355109: Downloading http_mp3 format info JSON\n",
      "[soundcloud] 1409355109: Downloading hls_opus format info JSON\n",
      "[info] 1409355109: Downloading 1 format(s): hls_opus_0_0\n",
      "[hlsnative] Downloading m3u8 manifest\n",
      "[hlsnative] Total fragments: 358\n",
      "[download] Destination: soundcloud_2022-08-01_to_2022-12-31/IDAACADDA 24-DEC-2022.opus\n",
      "[download] 100% of   31.86MiB in 00:00:06 at 4.79MiB/s                    \n"
     ]
    },
    {
     "name": "stderr",
     "output_type": "stream",
     "text": [
      "WARNING: 1409355109: Possible MPEG-TS in MP4 container or malformed AAC timestamps. Install ffmpeg to fix this automatically\n",
      "ERROR: Postprocessing: ffprobe and ffmpeg not found. Please install or provide the path using --ffmpeg-location\n"
     ]
    },
    {
     "name": "stdout",
     "output_type": "stream",
     "text": [
      "Error downloading https://soundcloud.com/radio-ergo/idaacadda-24-dec-2022: ERROR: Postprocessing: ffprobe and ffmpeg not found. Please install or provide the path using --ffmpeg-location\n",
      "[soundcloud] Extracting URL: https://soundcloud.com/radio-ergo/idaacadda-23-sep-2022\n",
      "[soundcloud] radio-ergo/idaacadda-23-sep-2022: Downloading info JSON\n",
      "[soundcloud] 1349541196: Downloading hls_mp3 format info JSON\n",
      "[soundcloud] 1349541196: Downloading http_mp3 format info JSON\n",
      "[soundcloud] 1349541196: Downloading hls_opus format info JSON\n",
      "[info] 1349541196: Downloading 1 format(s): hls_opus_0_0\n",
      "[hlsnative] Downloading m3u8 manifest\n",
      "[hlsnative] Total fragments: 361\n",
      "[download] Destination: soundcloud_2022-08-01_to_2022-12-31/IDAACADDA 23-SEP-2022.opus\n",
      "[download] 100% of   26.61MiB in 00:00:06 at 3.97MiB/s                    \n"
     ]
    },
    {
     "name": "stderr",
     "output_type": "stream",
     "text": [
      "WARNING: 1349541196: Possible MPEG-TS in MP4 container or malformed AAC timestamps. Install ffmpeg to fix this automatically\n",
      "ERROR: Postprocessing: ffprobe and ffmpeg not found. Please install or provide the path using --ffmpeg-location\n"
     ]
    },
    {
     "name": "stdout",
     "output_type": "stream",
     "text": [
      "Error downloading https://soundcloud.com/radio-ergo/idaacadda-23-sep-2022: ERROR: Postprocessing: ffprobe and ffmpeg not found. Please install or provide the path using --ffmpeg-location\n",
      "[soundcloud] Extracting URL: https://soundcloud.com/radio-ergo/idaacadda-2-nov-2022\n",
      "[soundcloud] radio-ergo/idaacadda-2-nov-2022: Downloading info JSON\n"
     ]
    },
    {
     "name": "stderr",
     "output_type": "stream",
     "text": [
      "ERROR: [soundcloud] Unable to download JSON metadata: HTTP Error 404: Not Found (caused by <HTTPError 404: Not Found>)\n"
     ]
    },
    {
     "name": "stdout",
     "output_type": "stream",
     "text": [
      "Error downloading https://soundcloud.com/radio-ergo/idaacadda-2-nov-2022: ERROR: [soundcloud] Unable to download JSON metadata: HTTP Error 404: Not Found (caused by <HTTPError 404: Not Found>)\n",
      "[soundcloud] Extracting URL: https://soundcloud.com/radio-ergo/idaacadda-29-nov-2022\n",
      "[soundcloud] radio-ergo/idaacadda-29-nov-2022: Downloading info JSON\n",
      "[soundcloud] 1392497686: Downloading hls_mp3 format info JSON\n",
      "[soundcloud] 1392497686: Downloading http_mp3 format info JSON\n",
      "[soundcloud] 1392497686: Downloading hls_opus format info JSON\n",
      "[info] 1392497686: Downloading 1 format(s): hls_opus_0_0\n",
      "[hlsnative] Downloading m3u8 manifest\n",
      "[hlsnative] Total fragments: 359\n",
      "[download] Destination: soundcloud_2022-08-01_to_2022-12-31/IDAACADDA 29-NOV-2022.opus\n",
      "[download] 100% of   29.60MiB in 00:00:06 at 4.48MiB/s                    \n"
     ]
    },
    {
     "name": "stderr",
     "output_type": "stream",
     "text": [
      "WARNING: 1392497686: Possible MPEG-TS in MP4 container or malformed AAC timestamps. Install ffmpeg to fix this automatically\n",
      "ERROR: Postprocessing: ffprobe and ffmpeg not found. Please install or provide the path using --ffmpeg-location\n"
     ]
    },
    {
     "name": "stdout",
     "output_type": "stream",
     "text": [
      "Error downloading https://soundcloud.com/radio-ergo/idaacadda-29-nov-2022: ERROR: Postprocessing: ffprobe and ffmpeg not found. Please install or provide the path using --ffmpeg-location\n",
      "[soundcloud] Extracting URL: https://soundcloud.com/radio-ergo/idaacadda-1-sep-2022\n",
      "[soundcloud] radio-ergo/idaacadda-1-sep-2022: Downloading info JSON\n"
     ]
    },
    {
     "name": "stderr",
     "output_type": "stream",
     "text": [
      "ERROR: [soundcloud] Unable to download JSON metadata: HTTP Error 404: Not Found (caused by <HTTPError 404: Not Found>)\n"
     ]
    },
    {
     "name": "stdout",
     "output_type": "stream",
     "text": [
      "Error downloading https://soundcloud.com/radio-ergo/idaacadda-1-sep-2022: ERROR: [soundcloud] Unable to download JSON metadata: HTTP Error 404: Not Found (caused by <HTTPError 404: Not Found>)\n",
      "[soundcloud] Extracting URL: https://soundcloud.com/radio-ergo/idaacadda-07-sep-2022\n",
      "[soundcloud] radio-ergo/idaacadda-07-sep-2022: Downloading info JSON\n",
      "[soundcloud] 1339409788: Downloading hls_mp3 format info JSON\n",
      "[soundcloud] 1339409788: Downloading http_mp3 format info JSON\n",
      "[soundcloud] 1339409788: Downloading hls_opus format info JSON\n",
      "[info] 1339409788: Downloading 1 format(s): hls_opus_0_0\n",
      "[hlsnative] Downloading m3u8 manifest\n",
      "[hlsnative] Total fragments: 362\n",
      "[download] Destination: soundcloud_2022-08-01_to_2022-12-31/IDAACADDA 07-SEP-2022.opus\n",
      "[download] 100% of   27.23MiB in 00:00:06 at 4.04MiB/s                    \n"
     ]
    },
    {
     "name": "stderr",
     "output_type": "stream",
     "text": [
      "WARNING: 1339409788: Possible MPEG-TS in MP4 container or malformed AAC timestamps. Install ffmpeg to fix this automatically\n",
      "ERROR: Postprocessing: ffprobe and ffmpeg not found. Please install or provide the path using --ffmpeg-location\n"
     ]
    },
    {
     "name": "stdout",
     "output_type": "stream",
     "text": [
      "Error downloading https://soundcloud.com/radio-ergo/idaacadda-07-sep-2022: ERROR: Postprocessing: ffprobe and ffmpeg not found. Please install or provide the path using --ffmpeg-location\n",
      "[soundcloud] Extracting URL: https://soundcloud.com/radio-ergo/idaacadda-30-dec-2022\n",
      "[soundcloud] radio-ergo/idaacadda-30-dec-2022: Downloading info JSON\n",
      "[soundcloud] 1412953516: Downloading hls_mp3 format info JSON\n",
      "[soundcloud] 1412953516: Downloading http_mp3 format info JSON\n",
      "[soundcloud] 1412953516: Downloading hls_opus format info JSON\n",
      "[info] 1412953516: Downloading 1 format(s): hls_opus_0_0\n",
      "[hlsnative] Downloading m3u8 manifest\n",
      "[hlsnative] Total fragments: 361\n",
      "[download] Destination: soundcloud_2022-08-01_to_2022-12-31/IDAACADDA 30-DEC-2022.opus\n",
      "[download] 100% of   30.45MiB in 00:00:06 at 4.61MiB/s                    \n"
     ]
    },
    {
     "name": "stderr",
     "output_type": "stream",
     "text": [
      "WARNING: 1412953516: Possible MPEG-TS in MP4 container or malformed AAC timestamps. Install ffmpeg to fix this automatically\n",
      "ERROR: Postprocessing: ffprobe and ffmpeg not found. Please install or provide the path using --ffmpeg-location\n"
     ]
    },
    {
     "name": "stdout",
     "output_type": "stream",
     "text": [
      "Error downloading https://soundcloud.com/radio-ergo/idaacadda-30-dec-2022: ERROR: Postprocessing: ffprobe and ffmpeg not found. Please install or provide the path using --ffmpeg-location\n",
      "[soundcloud] Extracting URL: https://soundcloud.com/radio-ergo/idaacadda-02-oct-2022\n",
      "[soundcloud] radio-ergo/idaacadda-02-oct-2022: Downloading info JSON\n",
      "[soundcloud] 1354315939: Downloading hls_mp3 format info JSON\n",
      "[soundcloud] 1354315939: Downloading http_mp3 format info JSON\n",
      "[soundcloud] 1354315939: Downloading hls_opus format info JSON\n",
      "[info] 1354315939: Downloading 1 format(s): hls_opus_0_0\n",
      "[hlsnative] Downloading m3u8 manifest\n",
      "[hlsnative] Total fragments: 360\n",
      "[download] Destination: soundcloud_2022-08-01_to_2022-12-31/IDAACADDA 01-OCT-2022.opus\n",
      "[download] 100% of   29.30MiB in 00:00:06 at 4.54MiB/s                    \n"
     ]
    },
    {
     "name": "stderr",
     "output_type": "stream",
     "text": [
      "WARNING: 1354315939: Possible MPEG-TS in MP4 container or malformed AAC timestamps. Install ffmpeg to fix this automatically\n",
      "ERROR: Postprocessing: ffprobe and ffmpeg not found. Please install or provide the path using --ffmpeg-location\n"
     ]
    },
    {
     "name": "stdout",
     "output_type": "stream",
     "text": [
      "Error downloading https://soundcloud.com/radio-ergo/idaacadda-02-oct-2022: ERROR: Postprocessing: ffprobe and ffmpeg not found. Please install or provide the path using --ffmpeg-location\n",
      "[soundcloud] Extracting URL: https://soundcloud.com/radio-ergo/idaacadda-15-aug-2022\n",
      "[soundcloud] radio-ergo/idaacadda-15-aug-2022: Downloading info JSON\n",
      "[soundcloud] 1324483468: Downloading hls_mp3 format info JSON\n",
      "[soundcloud] 1324483468: Downloading http_mp3 format info JSON\n",
      "[soundcloud] 1324483468: Downloading hls_opus format info JSON\n",
      "[info] 1324483468: Downloading 1 format(s): hls_opus_0_0\n",
      "[hlsnative] Downloading m3u8 manifest\n",
      "[hlsnative] Total fragments: 359\n",
      "[download] Destination: soundcloud_2022-08-01_to_2022-12-31/IDAACADDA 15-AUG-2022.opus\n",
      "[download] 100% of   27.75MiB in 00:00:06 at 4.31MiB/s                    \n"
     ]
    },
    {
     "name": "stderr",
     "output_type": "stream",
     "text": [
      "WARNING: 1324483468: Possible MPEG-TS in MP4 container or malformed AAC timestamps. Install ffmpeg to fix this automatically\n",
      "ERROR: Postprocessing: ffprobe and ffmpeg not found. Please install or provide the path using --ffmpeg-location\n"
     ]
    },
    {
     "name": "stdout",
     "output_type": "stream",
     "text": [
      "Error downloading https://soundcloud.com/radio-ergo/idaacadda-15-aug-2022: ERROR: Postprocessing: ffprobe and ffmpeg not found. Please install or provide the path using --ffmpeg-location\n",
      "[soundcloud] Extracting URL: https://soundcloud.com/radio-ergo/idaacadda-3-aug-2022\n",
      "[soundcloud] radio-ergo/idaacadda-3-aug-2022: Downloading info JSON\n"
     ]
    },
    {
     "name": "stderr",
     "output_type": "stream",
     "text": [
      "ERROR: [soundcloud] Unable to download JSON metadata: HTTP Error 404: Not Found (caused by <HTTPError 404: Not Found>)\n"
     ]
    },
    {
     "name": "stdout",
     "output_type": "stream",
     "text": [
      "Error downloading https://soundcloud.com/radio-ergo/idaacadda-3-aug-2022: ERROR: [soundcloud] Unable to download JSON metadata: HTTP Error 404: Not Found (caused by <HTTPError 404: Not Found>)\n",
      "[soundcloud] Extracting URL: https://soundcloud.com/radio-ergo/idaacadda-22-aug-2022\n",
      "[soundcloud] radio-ergo/idaacadda-22-aug-2022: Downloading info JSON\n",
      "[soundcloud] 1328896798: Downloading hls_mp3 format info JSON\n",
      "[soundcloud] 1328896798: Downloading http_mp3 format info JSON\n",
      "[soundcloud] 1328896798: Downloading hls_opus format info JSON\n",
      "[info] 1328896798: Downloading 1 format(s): hls_opus_0_0\n",
      "[hlsnative] Downloading m3u8 manifest\n",
      "[hlsnative] Total fragments: 362\n",
      "[download] Destination: soundcloud_2022-08-01_to_2022-12-31/IDAACADDA 22-AUG-2022.opus\n",
      "[download] 100% of   27.82MiB in 00:00:06 at 4.09MiB/s                    \n"
     ]
    },
    {
     "name": "stderr",
     "output_type": "stream",
     "text": [
      "WARNING: 1328896798: Possible MPEG-TS in MP4 container or malformed AAC timestamps. Install ffmpeg to fix this automatically\n",
      "ERROR: Postprocessing: ffprobe and ffmpeg not found. Please install or provide the path using --ffmpeg-location\n"
     ]
    },
    {
     "name": "stdout",
     "output_type": "stream",
     "text": [
      "Error downloading https://soundcloud.com/radio-ergo/idaacadda-22-aug-2022: ERROR: Postprocessing: ffprobe and ffmpeg not found. Please install or provide the path using --ffmpeg-location\n",
      "[soundcloud] Extracting URL: https://soundcloud.com/radio-ergo/idaacadda-07-aug-2022\n",
      "[soundcloud] radio-ergo/idaacadda-07-aug-2022: Downloading info JSON\n",
      "[soundcloud] 1318592203: Downloading hls_mp3 format info JSON\n",
      "[soundcloud] 1318592203: Downloading http_mp3 format info JSON\n",
      "[soundcloud] 1318592203: Downloading hls_opus format info JSON\n",
      "[info] 1318592203: Downloading 1 format(s): hls_opus_0_0\n",
      "[hlsnative] Downloading m3u8 manifest\n",
      "[hlsnative] Total fragments: 360\n",
      "[download] Destination: soundcloud_2022-08-01_to_2022-12-31/IDAACADDA 07-AUG-2022.opus\n",
      "[download] 100% of   27.24MiB in 00:00:06 at 4.10MiB/s                    \n"
     ]
    },
    {
     "name": "stderr",
     "output_type": "stream",
     "text": [
      "WARNING: 1318592203: Possible MPEG-TS in MP4 container or malformed AAC timestamps. Install ffmpeg to fix this automatically\n",
      "ERROR: Postprocessing: ffprobe and ffmpeg not found. Please install or provide the path using --ffmpeg-location\n"
     ]
    },
    {
     "name": "stdout",
     "output_type": "stream",
     "text": [
      "Error downloading https://soundcloud.com/radio-ergo/idaacadda-07-aug-2022: ERROR: Postprocessing: ffprobe and ffmpeg not found. Please install or provide the path using --ffmpeg-location\n",
      "[soundcloud] Extracting URL: https://soundcloud.com/radio-ergo/idaacadda-02-sep-2022\n",
      "[soundcloud] radio-ergo/idaacadda-02-sep-2022: Downloading info JSON\n",
      "[soundcloud] 1336301485: Downloading hls_mp3 format info JSON\n",
      "[soundcloud] 1336301485: Downloading http_mp3 format info JSON\n",
      "[soundcloud] 1336301485: Downloading hls_opus format info JSON\n",
      "[info] 1336301485: Downloading 1 format(s): hls_opus_0_0\n",
      "[hlsnative] Downloading m3u8 manifest\n",
      "[hlsnative] Total fragments: 359\n",
      "[download] Destination: soundcloud_2022-08-01_to_2022-12-31/IDAACADDA 02-SEP-2022.opus\n",
      "[download] 100% of   26.97MiB in 00:00:06 at 4.01MiB/s                    \n"
     ]
    },
    {
     "name": "stderr",
     "output_type": "stream",
     "text": [
      "WARNING: 1336301485: Possible MPEG-TS in MP4 container or malformed AAC timestamps. Install ffmpeg to fix this automatically\n",
      "ERROR: Postprocessing: ffprobe and ffmpeg not found. Please install or provide the path using --ffmpeg-location\n"
     ]
    },
    {
     "name": "stdout",
     "output_type": "stream",
     "text": [
      "Error downloading https://soundcloud.com/radio-ergo/idaacadda-02-sep-2022: ERROR: Postprocessing: ffprobe and ffmpeg not found. Please install or provide the path using --ffmpeg-location\n",
      "[soundcloud] Extracting URL: https://soundcloud.com/radio-ergo/idaacadda-5-nov-2022\n",
      "[soundcloud] radio-ergo/idaacadda-5-nov-2022: Downloading info JSON\n"
     ]
    },
    {
     "name": "stderr",
     "output_type": "stream",
     "text": [
      "ERROR: [soundcloud] Unable to download JSON metadata: HTTP Error 404: Not Found (caused by <HTTPError 404: Not Found>)\n"
     ]
    },
    {
     "name": "stdout",
     "output_type": "stream",
     "text": [
      "Error downloading https://soundcloud.com/radio-ergo/idaacadda-5-nov-2022: ERROR: [soundcloud] Unable to download JSON metadata: HTTP Error 404: Not Found (caused by <HTTPError 404: Not Found>)\n",
      "[soundcloud] Extracting URL: https://soundcloud.com/radio-ergo/idaacadda-07-oct-2022\n",
      "[soundcloud] radio-ergo/idaacadda-07-oct-2022: Downloading info JSON\n",
      "[soundcloud] 1358620204: Downloading hls_mp3 format info JSON\n",
      "[soundcloud] 1358620204: Downloading http_mp3 format info JSON\n",
      "[soundcloud] 1358620204: Downloading hls_opus format info JSON\n",
      "[info] 1358620204: Downloading 1 format(s): hls_opus_0_0\n",
      "[hlsnative] Downloading m3u8 manifest\n",
      "[hlsnative] Total fragments: 358\n",
      "[download] Destination: soundcloud_2022-08-01_to_2022-12-31/IDAACADDA 07-OCT-2022.opus\n",
      "[download] 100% of   27.85MiB in 00:00:06 at 4.22MiB/s                    \n"
     ]
    },
    {
     "name": "stderr",
     "output_type": "stream",
     "text": [
      "WARNING: 1358620204: Possible MPEG-TS in MP4 container or malformed AAC timestamps. Install ffmpeg to fix this automatically\n",
      "ERROR: Postprocessing: ffprobe and ffmpeg not found. Please install or provide the path using --ffmpeg-location\n"
     ]
    },
    {
     "name": "stdout",
     "output_type": "stream",
     "text": [
      "Error downloading https://soundcloud.com/radio-ergo/idaacadda-07-oct-2022: ERROR: Postprocessing: ffprobe and ffmpeg not found. Please install or provide the path using --ffmpeg-location\n",
      "[soundcloud] Extracting URL: https://soundcloud.com/radio-ergo/idaacadda-10-dec-2022\n",
      "[soundcloud] radio-ergo/idaacadda-10-dec-2022: Downloading info JSON\n",
      "[soundcloud] 1399839541: Downloading hls_mp3 format info JSON\n",
      "[soundcloud] 1399839541: Downloading http_mp3 format info JSON\n",
      "[soundcloud] 1399839541: Downloading hls_opus format info JSON\n",
      "[info] 1399839541: Downloading 1 format(s): hls_opus_0_0\n",
      "[hlsnative] Downloading m3u8 manifest\n",
      "[hlsnative] Total fragments: 358\n",
      "[download] Destination: soundcloud_2022-08-01_to_2022-12-31/IDAACADDA 10-DEC-2022.opus\n",
      "[download] 100% of   31.85MiB in 00:00:06 at 4.81MiB/s                    \n"
     ]
    },
    {
     "name": "stderr",
     "output_type": "stream",
     "text": [
      "WARNING: 1399839541: Possible MPEG-TS in MP4 container or malformed AAC timestamps. Install ffmpeg to fix this automatically\n",
      "ERROR: Postprocessing: ffprobe and ffmpeg not found. Please install or provide the path using --ffmpeg-location\n"
     ]
    },
    {
     "name": "stdout",
     "output_type": "stream",
     "text": [
      "Error downloading https://soundcloud.com/radio-ergo/idaacadda-10-dec-2022: ERROR: Postprocessing: ffprobe and ffmpeg not found. Please install or provide the path using --ffmpeg-location\n",
      "[soundcloud] Extracting URL: https://soundcloud.com/radio-ergo/idaacadda-3-oct-2022\n",
      "[soundcloud] radio-ergo/idaacadda-3-oct-2022: Downloading info JSON\n"
     ]
    },
    {
     "name": "stderr",
     "output_type": "stream",
     "text": [
      "ERROR: [soundcloud] Unable to download JSON metadata: HTTP Error 404: Not Found (caused by <HTTPError 404: Not Found>)\n"
     ]
    },
    {
     "name": "stdout",
     "output_type": "stream",
     "text": [
      "Error downloading https://soundcloud.com/radio-ergo/idaacadda-3-oct-2022: ERROR: [soundcloud] Unable to download JSON metadata: HTTP Error 404: Not Found (caused by <HTTPError 404: Not Found>)\n",
      "[soundcloud] Extracting URL: https://soundcloud.com/radio-ergo/idaacadda-4-aug-2022\n",
      "[soundcloud] radio-ergo/idaacadda-4-aug-2022: Downloading info JSON\n"
     ]
    },
    {
     "name": "stderr",
     "output_type": "stream",
     "text": [
      "ERROR: [soundcloud] Unable to download JSON metadata: HTTP Error 404: Not Found (caused by <HTTPError 404: Not Found>)\n"
     ]
    },
    {
     "name": "stdout",
     "output_type": "stream",
     "text": [
      "Error downloading https://soundcloud.com/radio-ergo/idaacadda-4-aug-2022: ERROR: [soundcloud] Unable to download JSON metadata: HTTP Error 404: Not Found (caused by <HTTPError 404: Not Found>)\n",
      "[soundcloud] Extracting URL: https://soundcloud.com/radio-ergo/idaacadda-22-nov-2022\n",
      "[soundcloud] radio-ergo/idaacadda-22-nov-2022: Downloading info JSON\n",
      "[soundcloud] 1388119699: Downloading hls_mp3 format info JSON\n",
      "[soundcloud] 1388119699: Downloading http_mp3 format info JSON\n",
      "[soundcloud] 1388119699: Downloading hls_opus format info JSON\n",
      "[info] 1388119699: Downloading 1 format(s): hls_opus_0_0\n",
      "[hlsnative] Downloading m3u8 manifest\n",
      "[hlsnative] Total fragments: 359\n",
      "[download] Destination: soundcloud_2022-08-01_to_2022-12-31/IDAACADDA 22-NOV-2022.opus\n",
      "[download] 100% of   30.76MiB in 00:00:06 at 4.69MiB/s                    \n"
     ]
    },
    {
     "name": "stderr",
     "output_type": "stream",
     "text": [
      "WARNING: 1388119699: Possible MPEG-TS in MP4 container or malformed AAC timestamps. Install ffmpeg to fix this automatically\n",
      "ERROR: Postprocessing: ffprobe and ffmpeg not found. Please install or provide the path using --ffmpeg-location\n"
     ]
    },
    {
     "name": "stdout",
     "output_type": "stream",
     "text": [
      "Error downloading https://soundcloud.com/radio-ergo/idaacadda-22-nov-2022: ERROR: Postprocessing: ffprobe and ffmpeg not found. Please install or provide the path using --ffmpeg-location\n",
      "[soundcloud] Extracting URL: https://soundcloud.com/radio-ergo/idaacadda-01-sep-2022\n",
      "[soundcloud] radio-ergo/idaacadda-01-sep-2022: Downloading info JSON\n"
     ]
    },
    {
     "name": "stderr",
     "output_type": "stream",
     "text": [
      "ERROR: [soundcloud] Unable to download JSON metadata: HTTP Error 404: Not Found (caused by <HTTPError 404: Not Found>)\n"
     ]
    },
    {
     "name": "stdout",
     "output_type": "stream",
     "text": [
      "Error downloading https://soundcloud.com/radio-ergo/idaacadda-01-sep-2022: ERROR: [soundcloud] Unable to download JSON metadata: HTTP Error 404: Not Found (caused by <HTTPError 404: Not Found>)\n",
      "[soundcloud] Extracting URL: https://soundcloud.com/radio-ergo/idaacadda-15-dec-2022\n",
      "[soundcloud] radio-ergo/idaacadda-15-dec-2022: Downloading info JSON\n",
      "[soundcloud] 1403183149: Downloading hls_mp3 format info JSON\n",
      "[soundcloud] 1403183149: Downloading http_mp3 format info JSON\n",
      "[soundcloud] 1403183149: Downloading hls_opus format info JSON\n",
      "[info] 1403183149: Downloading 1 format(s): hls_opus_0_0\n",
      "[hlsnative] Downloading m3u8 manifest\n",
      "[hlsnative] Total fragments: 357\n",
      "[download] Destination: soundcloud_2022-08-01_to_2022-12-31/IDAACADDA 15-DEC-2022.opus\n",
      "[download] 100% of   26.58MiB in 00:00:06 at 4.11MiB/s                    \n"
     ]
    },
    {
     "name": "stderr",
     "output_type": "stream",
     "text": [
      "WARNING: 1403183149: Possible MPEG-TS in MP4 container or malformed AAC timestamps. Install ffmpeg to fix this automatically\n",
      "ERROR: Postprocessing: ffprobe and ffmpeg not found. Please install or provide the path using --ffmpeg-location\n"
     ]
    },
    {
     "name": "stdout",
     "output_type": "stream",
     "text": [
      "Error downloading https://soundcloud.com/radio-ergo/idaacadda-15-dec-2022: ERROR: Postprocessing: ffprobe and ffmpeg not found. Please install or provide the path using --ffmpeg-location\n",
      "[soundcloud] Extracting URL: https://soundcloud.com/radio-ergo/idaacadda-16-sep-2022\n",
      "[soundcloud] radio-ergo/idaacadda-16-sep-2022: Downloading info JSON\n",
      "[soundcloud] 1345039942: Downloading hls_mp3 format info JSON\n",
      "[soundcloud] 1345039942: Downloading http_mp3 format info JSON\n",
      "[soundcloud] 1345039942: Downloading hls_opus format info JSON\n",
      "[info] 1345039942: Downloading 1 format(s): hls_opus_0_0\n",
      "[hlsnative] Downloading m3u8 manifest\n",
      "[hlsnative] Total fragments: 357\n",
      "[download] Destination: soundcloud_2022-08-01_to_2022-12-31/IDAACADDA 16-SEP-2022.opus\n",
      "[download] 100% of   27.82MiB in 00:00:06 at 4.28MiB/s                    \n"
     ]
    },
    {
     "name": "stderr",
     "output_type": "stream",
     "text": [
      "WARNING: 1345039942: Possible MPEG-TS in MP4 container or malformed AAC timestamps. Install ffmpeg to fix this automatically\n",
      "ERROR: Postprocessing: ffprobe and ffmpeg not found. Please install or provide the path using --ffmpeg-location\n"
     ]
    },
    {
     "name": "stdout",
     "output_type": "stream",
     "text": [
      "Error downloading https://soundcloud.com/radio-ergo/idaacadda-16-sep-2022: ERROR: Postprocessing: ffprobe and ffmpeg not found. Please install or provide the path using --ffmpeg-location\n",
      "[soundcloud] Extracting URL: https://soundcloud.com/radio-ergo/idaacadda-6-aug-2022\n",
      "[soundcloud] radio-ergo/idaacadda-6-aug-2022: Downloading info JSON\n"
     ]
    },
    {
     "name": "stderr",
     "output_type": "stream",
     "text": [
      "ERROR: [soundcloud] Unable to download JSON metadata: HTTP Error 404: Not Found (caused by <HTTPError 404: Not Found>)\n"
     ]
    },
    {
     "name": "stdout",
     "output_type": "stream",
     "text": [
      "Error downloading https://soundcloud.com/radio-ergo/idaacadda-6-aug-2022: ERROR: [soundcloud] Unable to download JSON metadata: HTTP Error 404: Not Found (caused by <HTTPError 404: Not Found>)\n",
      "[soundcloud] Extracting URL: https://soundcloud.com/radio-ergo/idaacadda-18-sep-2022\n",
      "[soundcloud] radio-ergo/idaacadda-18-sep-2022: Downloading info JSON\n",
      "[soundcloud] 1346559205: Downloading hls_mp3 format info JSON\n",
      "[soundcloud] 1346559205: Downloading http_mp3 format info JSON\n",
      "[soundcloud] 1346559205: Downloading hls_opus format info JSON\n",
      "[info] 1346559205: Downloading 1 format(s): hls_opus_0_0\n",
      "[hlsnative] Downloading m3u8 manifest\n",
      "[hlsnative] Total fragments: 361\n",
      "[download] Destination: soundcloud_2022-08-01_to_2022-12-31/IDAACADDA 18-SEP-2022.opus\n",
      "[download] 100% of   27.47MiB in 00:00:07 at 3.90MiB/s                    \n"
     ]
    },
    {
     "name": "stderr",
     "output_type": "stream",
     "text": [
      "WARNING: 1346559205: Possible MPEG-TS in MP4 container or malformed AAC timestamps. Install ffmpeg to fix this automatically\n",
      "ERROR: Postprocessing: ffprobe and ffmpeg not found. Please install or provide the path using --ffmpeg-location\n"
     ]
    },
    {
     "name": "stdout",
     "output_type": "stream",
     "text": [
      "Error downloading https://soundcloud.com/radio-ergo/idaacadda-18-sep-2022: ERROR: Postprocessing: ffprobe and ffmpeg not found. Please install or provide the path using --ffmpeg-location\n",
      "[soundcloud] Extracting URL: https://soundcloud.com/radio-ergo/idaacadda-04-sep-2022\n",
      "[soundcloud] radio-ergo/idaacadda-04-sep-2022: Downloading info JSON\n",
      "[soundcloud] 1336437688: Downloading hls_mp3 format info JSON\n",
      "[soundcloud] 1336437688: Downloading http_mp3 format info JSON\n",
      "[soundcloud] 1336437688: Downloading hls_opus format info JSON\n",
      "[info] 1336437688: Downloading 1 format(s): hls_opus_0_0\n",
      "[hlsnative] Downloading m3u8 manifest\n",
      "[hlsnative] Total fragments: 361\n",
      "[download] Destination: soundcloud_2022-08-01_to_2022-12-31/IDAACADDA 04-SEP-2022.opus\n",
      "[download] 100% of   26.46MiB in 00:00:06 at 4.04MiB/s                    \n"
     ]
    },
    {
     "name": "stderr",
     "output_type": "stream",
     "text": [
      "WARNING: 1336437688: Possible MPEG-TS in MP4 container or malformed AAC timestamps. Install ffmpeg to fix this automatically\n",
      "ERROR: Postprocessing: ffprobe and ffmpeg not found. Please install or provide the path using --ffmpeg-location\n"
     ]
    },
    {
     "name": "stdout",
     "output_type": "stream",
     "text": [
      "Error downloading https://soundcloud.com/radio-ergo/idaacadda-04-sep-2022: ERROR: Postprocessing: ffprobe and ffmpeg not found. Please install or provide the path using --ffmpeg-location\n",
      "[soundcloud] Extracting URL: https://soundcloud.com/radio-ergo/idaacadda-21-nov-2022\n",
      "[soundcloud] radio-ergo/idaacadda-21-nov-2022: Downloading info JSON\n",
      "[soundcloud] 1387468900: Downloading hls_mp3 format info JSON\n",
      "[soundcloud] 1387468900: Downloading http_mp3 format info JSON\n",
      "[soundcloud] 1387468900: Downloading hls_opus format info JSON\n",
      "[info] 1387468900: Downloading 1 format(s): hls_opus_0_0\n",
      "[hlsnative] Downloading m3u8 manifest\n",
      "[hlsnative] Total fragments: 357\n",
      "[download] Destination: soundcloud_2022-08-01_to_2022-12-31/IDAACADDA 21-NOV-2022.opus\n",
      "[download] 100% of   27.58MiB in 00:00:06 at 4.24MiB/s                    \n"
     ]
    },
    {
     "name": "stderr",
     "output_type": "stream",
     "text": [
      "WARNING: 1387468900: Possible MPEG-TS in MP4 container or malformed AAC timestamps. Install ffmpeg to fix this automatically\n",
      "ERROR: Postprocessing: ffprobe and ffmpeg not found. Please install or provide the path using --ffmpeg-location\n"
     ]
    },
    {
     "name": "stdout",
     "output_type": "stream",
     "text": [
      "Error downloading https://soundcloud.com/radio-ergo/idaacadda-21-nov-2022: ERROR: Postprocessing: ffprobe and ffmpeg not found. Please install or provide the path using --ffmpeg-location\n",
      "[soundcloud] Extracting URL: https://soundcloud.com/radio-ergo/idaacadda-16-oct-2022\n",
      "[soundcloud] radio-ergo/idaacadda-16-oct-2022: Downloading info JSON\n",
      "[soundcloud] 1363523584: Downloading hls_mp3 format info JSON\n",
      "[soundcloud] 1363523584: Downloading http_mp3 format info JSON\n",
      "[soundcloud] 1363523584: Downloading hls_opus format info JSON\n",
      "[info] 1363523584: Downloading 1 format(s): hls_opus_0_0\n",
      "[hlsnative] Downloading m3u8 manifest\n",
      "[hlsnative] Total fragments: 358\n",
      "[download] Destination: soundcloud_2022-08-01_to_2022-12-31/IDAACADDA 16-OCT-2022.opus\n",
      "[download] 100% of   27.41MiB in 00:00:06 at 4.27MiB/s                    \n"
     ]
    },
    {
     "name": "stderr",
     "output_type": "stream",
     "text": [
      "WARNING: 1363523584: Possible MPEG-TS in MP4 container or malformed AAC timestamps. Install ffmpeg to fix this automatically\n",
      "ERROR: Postprocessing: ffprobe and ffmpeg not found. Please install or provide the path using --ffmpeg-location\n"
     ]
    },
    {
     "name": "stdout",
     "output_type": "stream",
     "text": [
      "Error downloading https://soundcloud.com/radio-ergo/idaacadda-16-oct-2022: ERROR: Postprocessing: ffprobe and ffmpeg not found. Please install or provide the path using --ffmpeg-location\n",
      "[soundcloud] Extracting URL: https://soundcloud.com/radio-ergo/idaacadda-04-nov-2022\n",
      "[soundcloud] radio-ergo/idaacadda-04-nov-2022: Downloading info JSON\n",
      "[soundcloud] 1376292628: Downloading hls_mp3 format info JSON\n",
      "[soundcloud] 1376292628: Downloading http_mp3 format info JSON\n",
      "[soundcloud] 1376292628: Downloading hls_opus format info JSON\n",
      "[info] 1376292628: Downloading 1 format(s): hls_opus_0_0\n",
      "[hlsnative] Downloading m3u8 manifest\n",
      "[hlsnative] Total fragments: 358\n",
      "[download] Destination: soundcloud_2022-08-01_to_2022-12-31/IDAACADDA 04-NOV-2022.opus\n",
      "[download] 100% of   28.39MiB in 00:00:06 at 4.34MiB/s                    \n"
     ]
    },
    {
     "name": "stderr",
     "output_type": "stream",
     "text": [
      "WARNING: 1376292628: Possible MPEG-TS in MP4 container or malformed AAC timestamps. Install ffmpeg to fix this automatically\n",
      "ERROR: Postprocessing: ffprobe and ffmpeg not found. Please install or provide the path using --ffmpeg-location\n"
     ]
    },
    {
     "name": "stdout",
     "output_type": "stream",
     "text": [
      "Error downloading https://soundcloud.com/radio-ergo/idaacadda-04-nov-2022: ERROR: Postprocessing: ffprobe and ffmpeg not found. Please install or provide the path using --ffmpeg-location\n",
      "[soundcloud] Extracting URL: https://soundcloud.com/radio-ergo/idaacadda-2-aug-2022\n",
      "[soundcloud] radio-ergo/idaacadda-2-aug-2022: Downloading info JSON\n"
     ]
    },
    {
     "name": "stderr",
     "output_type": "stream",
     "text": [
      "ERROR: [soundcloud] Unable to download JSON metadata: HTTP Error 404: Not Found (caused by <HTTPError 404: Not Found>)\n"
     ]
    },
    {
     "name": "stdout",
     "output_type": "stream",
     "text": [
      "Error downloading https://soundcloud.com/radio-ergo/idaacadda-2-aug-2022: ERROR: [soundcloud] Unable to download JSON metadata: HTTP Error 404: Not Found (caused by <HTTPError 404: Not Found>)\n",
      "[soundcloud] Extracting URL: https://soundcloud.com/radio-ergo/idaacadda-31-oct-2022\n",
      "[soundcloud] radio-ergo/idaacadda-31-oct-2022: Downloading info JSON\n",
      "[soundcloud] 1373484391: Downloading hls_mp3 format info JSON\n",
      "[soundcloud] 1373484391: Downloading http_mp3 format info JSON\n",
      "[soundcloud] 1373484391: Downloading hls_opus format info JSON\n",
      "[info] 1373484391: Downloading 1 format(s): hls_opus_0_0\n",
      "[hlsnative] Downloading m3u8 manifest\n",
      "[hlsnative] Total fragments: 359\n",
      "[download] Destination: soundcloud_2022-08-01_to_2022-12-31/IDAACADDA 31-OCT-2022.opus\n",
      "[download] 100% of   27.54MiB in 00:00:06 at 3.97MiB/s                    \n"
     ]
    },
    {
     "name": "stderr",
     "output_type": "stream",
     "text": [
      "WARNING: 1373484391: Possible MPEG-TS in MP4 container or malformed AAC timestamps. Install ffmpeg to fix this automatically\n",
      "ERROR: Postprocessing: ffprobe and ffmpeg not found. Please install or provide the path using --ffmpeg-location\n"
     ]
    },
    {
     "name": "stdout",
     "output_type": "stream",
     "text": [
      "Error downloading https://soundcloud.com/radio-ergo/idaacadda-31-oct-2022: ERROR: Postprocessing: ffprobe and ffmpeg not found. Please install or provide the path using --ffmpeg-location\n",
      "[soundcloud] Extracting URL: https://soundcloud.com/radio-ergo/idaacadda-4-oct-2022\n",
      "[soundcloud] radio-ergo/idaacadda-4-oct-2022: Downloading info JSON\n"
     ]
    },
    {
     "name": "stderr",
     "output_type": "stream",
     "text": [
      "ERROR: [soundcloud] Unable to download JSON metadata: HTTP Error 404: Not Found (caused by <HTTPError 404: Not Found>)\n"
     ]
    },
    {
     "name": "stdout",
     "output_type": "stream",
     "text": [
      "Error downloading https://soundcloud.com/radio-ergo/idaacadda-4-oct-2022: ERROR: [soundcloud] Unable to download JSON metadata: HTTP Error 404: Not Found (caused by <HTTPError 404: Not Found>)\n",
      "[soundcloud] Extracting URL: https://soundcloud.com/radio-ergo/idaacadda-18-oct-2022\n",
      "[soundcloud] radio-ergo/idaacadda-18-oct-2022: Downloading info JSON\n",
      "[soundcloud] 1365384901: Downloading hls_mp3 format info JSON\n",
      "[soundcloud] 1365384901: Downloading http_mp3 format info JSON\n",
      "[soundcloud] 1365384901: Downloading hls_opus format info JSON\n",
      "[info] 1365384901: Downloading 1 format(s): hls_opus_0_0\n",
      "[hlsnative] Downloading m3u8 manifest\n",
      "[hlsnative] Total fragments: 361\n",
      "[download] Destination: soundcloud_2022-08-01_to_2022-12-31/IDAACADDA 18-OCT-2022.opus\n",
      "[download] 100% of   28.87MiB in 00:00:06 at 4.36MiB/s                    \n"
     ]
    },
    {
     "name": "stderr",
     "output_type": "stream",
     "text": [
      "WARNING: 1365384901: Possible MPEG-TS in MP4 container or malformed AAC timestamps. Install ffmpeg to fix this automatically\n",
      "ERROR: Postprocessing: ffprobe and ffmpeg not found. Please install or provide the path using --ffmpeg-location\n"
     ]
    },
    {
     "name": "stdout",
     "output_type": "stream",
     "text": [
      "Error downloading https://soundcloud.com/radio-ergo/idaacadda-18-oct-2022: ERROR: Postprocessing: ffprobe and ffmpeg not found. Please install or provide the path using --ffmpeg-location\n",
      "[soundcloud] Extracting URL: https://soundcloud.com/radio-ergo/idaacadda-14-aug-2022\n",
      "[soundcloud] radio-ergo/idaacadda-14-aug-2022: Downloading info JSON\n",
      "[soundcloud] 1324374532: Downloading hls_mp3 format info JSON\n",
      "[soundcloud] 1324374532: Downloading http_mp3 format info JSON\n",
      "[soundcloud] 1324374532: Downloading hls_opus format info JSON\n",
      "[info] 1324374532: Downloading 1 format(s): hls_opus_0_0\n",
      "[hlsnative] Downloading m3u8 manifest\n",
      "[hlsnative] Total fragments: 358\n",
      "[download] Destination: soundcloud_2022-08-01_to_2022-12-31/IDAACADDA 14-AUG-2022.opus\n",
      "[download] 100% of   27.73MiB in 00:00:06 at 4.07MiB/s                    \n"
     ]
    },
    {
     "name": "stderr",
     "output_type": "stream",
     "text": [
      "WARNING: 1324374532: Possible MPEG-TS in MP4 container or malformed AAC timestamps. Install ffmpeg to fix this automatically\n",
      "ERROR: Postprocessing: ffprobe and ffmpeg not found. Please install or provide the path using --ffmpeg-location\n"
     ]
    },
    {
     "name": "stdout",
     "output_type": "stream",
     "text": [
      "Error downloading https://soundcloud.com/radio-ergo/idaacadda-14-aug-2022: ERROR: Postprocessing: ffprobe and ffmpeg not found. Please install or provide the path using --ffmpeg-location\n",
      "[soundcloud] Extracting URL: https://soundcloud.com/radio-ergo/idaacadda-25-sep-2022\n",
      "[soundcloud] radio-ergo/idaacadda-25-sep-2022: Downloading info JSON\n",
      "[soundcloud] 1351168174: Downloading hls_mp3 format info JSON\n",
      "[soundcloud] 1351168174: Downloading http_mp3 format info JSON\n",
      "[soundcloud] 1351168174: Downloading hls_opus format info JSON\n",
      "[info] 1351168174: Downloading 1 format(s): hls_opus_0_0\n",
      "[hlsnative] Downloading m3u8 manifest\n",
      "[hlsnative] Total fragments: 360\n",
      "[download] Destination: soundcloud_2022-08-01_to_2022-12-31/IDAACADDA 25- SEP-2022.opus\n",
      "[download] 100% of   29.10MiB in 00:00:06 at 4.36MiB/s                    \n"
     ]
    },
    {
     "name": "stderr",
     "output_type": "stream",
     "text": [
      "WARNING: 1351168174: Possible MPEG-TS in MP4 container or malformed AAC timestamps. Install ffmpeg to fix this automatically\n",
      "ERROR: Postprocessing: ffprobe and ffmpeg not found. Please install or provide the path using --ffmpeg-location\n"
     ]
    },
    {
     "name": "stdout",
     "output_type": "stream",
     "text": [
      "Error downloading https://soundcloud.com/radio-ergo/idaacadda-25-sep-2022: ERROR: Postprocessing: ffprobe and ffmpeg not found. Please install or provide the path using --ffmpeg-location\n",
      "[soundcloud] Extracting URL: https://soundcloud.com/radio-ergo/idaacadda-13-aug-2022\n",
      "[soundcloud] radio-ergo/idaacadda-13-aug-2022: Downloading info JSON\n"
     ]
    },
    {
     "name": "stderr",
     "output_type": "stream",
     "text": [
      "ERROR: [soundcloud] Unable to download JSON metadata: HTTP Error 404: Not Found (caused by <HTTPError 404: Not Found>)\n"
     ]
    },
    {
     "name": "stdout",
     "output_type": "stream",
     "text": [
      "Error downloading https://soundcloud.com/radio-ergo/idaacadda-13-aug-2022: ERROR: [soundcloud] Unable to download JSON metadata: HTTP Error 404: Not Found (caused by <HTTPError 404: Not Found>)\n",
      "[soundcloud] Extracting URL: https://soundcloud.com/radio-ergo/idaacadda-08-sep-2022\n",
      "[soundcloud] radio-ergo/idaacadda-08-sep-2022: Downloading info JSON\n"
     ]
    },
    {
     "name": "stderr",
     "output_type": "stream",
     "text": [
      "ERROR: [soundcloud] Unable to download JSON metadata: HTTP Error 404: Not Found (caused by <HTTPError 404: Not Found>)\n"
     ]
    },
    {
     "name": "stdout",
     "output_type": "stream",
     "text": [
      "Error downloading https://soundcloud.com/radio-ergo/idaacadda-08-sep-2022: ERROR: [soundcloud] Unable to download JSON metadata: HTTP Error 404: Not Found (caused by <HTTPError 404: Not Found>)\n",
      "[soundcloud] Extracting URL: https://soundcloud.com/radio-ergo/idaacadda-08-aug-2022\n",
      "[soundcloud] radio-ergo/idaacadda-08-aug-2022: Downloading info JSON\n",
      "[soundcloud] 1105826485: Downloading hls_mp3 format info JSON\n",
      "[soundcloud] 1105826485: Downloading http_mp3 format info JSON\n",
      "[soundcloud] 1105826485: Downloading hls_opus format info JSON\n",
      "[info] 1105826485: Downloading 1 format(s): hls_opus_0_0\n",
      "[hlsnative] Downloading m3u8 manifest\n",
      "[hlsnative] Total fragments: 360\n",
      "[download] Destination: soundcloud_2022-08-01_to_2022-12-31/IDAACADDA 14-AUG-2021.opus\n",
      "[download] 100% of   31.28MiB in 00:00:06 at 4.65MiB/s                    \n"
     ]
    },
    {
     "name": "stderr",
     "output_type": "stream",
     "text": [
      "WARNING: 1105826485: Possible MPEG-TS in MP4 container or malformed AAC timestamps. Install ffmpeg to fix this automatically\n",
      "ERROR: Postprocessing: ffprobe and ffmpeg not found. Please install or provide the path using --ffmpeg-location\n"
     ]
    },
    {
     "name": "stdout",
     "output_type": "stream",
     "text": [
      "Error downloading https://soundcloud.com/radio-ergo/idaacadda-08-aug-2022: ERROR: Postprocessing: ffprobe and ffmpeg not found. Please install or provide the path using --ffmpeg-location\n",
      "[soundcloud] Extracting URL: https://soundcloud.com/radio-ergo/idaacadda-03-aug-2022\n",
      "[soundcloud] radio-ergo/idaacadda-03-aug-2022: Downloading info JSON\n"
     ]
    },
    {
     "name": "stderr",
     "output_type": "stream",
     "text": [
      "ERROR: [soundcloud] Unable to download JSON metadata: HTTP Error 404: Not Found (caused by <HTTPError 404: Not Found>)\n"
     ]
    },
    {
     "name": "stdout",
     "output_type": "stream",
     "text": [
      "Error downloading https://soundcloud.com/radio-ergo/idaacadda-03-aug-2022: ERROR: [soundcloud] Unable to download JSON metadata: HTTP Error 404: Not Found (caused by <HTTPError 404: Not Found>)\n",
      "[soundcloud] Extracting URL: https://soundcloud.com/radio-ergo/idaacadda-17-oct-2022\n",
      "[soundcloud] radio-ergo/idaacadda-17-oct-2022: Downloading info JSON\n",
      "[soundcloud] 1364537776: Downloading hls_mp3 format info JSON\n",
      "[soundcloud] 1364537776: Downloading http_mp3 format info JSON\n",
      "[soundcloud] 1364537776: Downloading hls_opus format info JSON\n",
      "[info] 1364537776: Downloading 1 format(s): hls_opus_0_0\n",
      "[hlsnative] Downloading m3u8 manifest\n",
      "[hlsnative] Total fragments: 361\n",
      "[download] Destination: soundcloud_2022-08-01_to_2022-12-31/IDAACADDA 17-OCT-2022.opus\n",
      "[download] 100% of   28.09MiB in 00:00:06 at 4.32MiB/s                    \n"
     ]
    },
    {
     "name": "stderr",
     "output_type": "stream",
     "text": [
      "WARNING: 1364537776: Possible MPEG-TS in MP4 container or malformed AAC timestamps. Install ffmpeg to fix this automatically\n",
      "ERROR: Postprocessing: ffprobe and ffmpeg not found. Please install or provide the path using --ffmpeg-location\n"
     ]
    },
    {
     "name": "stdout",
     "output_type": "stream",
     "text": [
      "Error downloading https://soundcloud.com/radio-ergo/idaacadda-17-oct-2022: ERROR: Postprocessing: ffprobe and ffmpeg not found. Please install or provide the path using --ffmpeg-location\n",
      "[soundcloud] Extracting URL: https://soundcloud.com/radio-ergo/idaacadda-7-nov-2022\n",
      "[soundcloud] radio-ergo/idaacadda-7-nov-2022: Downloading info JSON\n"
     ]
    },
    {
     "name": "stderr",
     "output_type": "stream",
     "text": [
      "ERROR: [soundcloud] Unable to download JSON metadata: HTTP Error 404: Not Found (caused by <HTTPError 404: Not Found>)\n"
     ]
    },
    {
     "name": "stdout",
     "output_type": "stream",
     "text": [
      "Error downloading https://soundcloud.com/radio-ergo/idaacadda-7-nov-2022: ERROR: [soundcloud] Unable to download JSON metadata: HTTP Error 404: Not Found (caused by <HTTPError 404: Not Found>)\n",
      "[soundcloud] Extracting URL: https://soundcloud.com/radio-ergo/idaacadda-24-aug-2022\n",
      "[soundcloud] radio-ergo/idaacadda-24-aug-2022: Downloading info JSON\n",
      "[soundcloud] 1330367083: Downloading hls_mp3 format info JSON\n",
      "[soundcloud] 1330367083: Downloading http_mp3 format info JSON\n",
      "[soundcloud] 1330367083: Downloading hls_opus format info JSON\n",
      "[info] 1330367083: Downloading 1 format(s): hls_opus_0_0\n",
      "[hlsnative] Downloading m3u8 manifest\n",
      "[hlsnative] Total fragments: 362\n",
      "[download] Destination: soundcloud_2022-08-01_to_2022-12-31/IDAACADDA 24-AUG-2022.opus\n",
      "[download] 100% of   27.07MiB in 00:00:06 at 4.04MiB/s                    \n"
     ]
    },
    {
     "name": "stderr",
     "output_type": "stream",
     "text": [
      "WARNING: 1330367083: Possible MPEG-TS in MP4 container or malformed AAC timestamps. Install ffmpeg to fix this automatically\n",
      "ERROR: Postprocessing: ffprobe and ffmpeg not found. Please install or provide the path using --ffmpeg-location\n"
     ]
    },
    {
     "name": "stdout",
     "output_type": "stream",
     "text": [
      "Error downloading https://soundcloud.com/radio-ergo/idaacadda-24-aug-2022: ERROR: Postprocessing: ffprobe and ffmpeg not found. Please install or provide the path using --ffmpeg-location\n",
      "[soundcloud] Extracting URL: https://soundcloud.com/radio-ergo/idaacadda-18-nov-2022\n",
      "[soundcloud] radio-ergo/idaacadda-18-nov-2022: Downloading info JSON\n",
      "[soundcloud] 1383601207: Downloading hls_mp3 format info JSON\n",
      "[soundcloud] 1383601207: Downloading http_mp3 format info JSON\n",
      "[soundcloud] 1383601207: Downloading hls_opus format info JSON\n",
      "[info] 1383601207: Downloading 1 format(s): hls_opus_0_0\n",
      "[hlsnative] Downloading m3u8 manifest\n",
      "[hlsnative] Total fragments: 359\n",
      "[download] Destination: soundcloud_2022-08-01_to_2022-12-31/IDAACADDA 18-NOV-2022.opus\n",
      "[download] 100% of   27.66MiB in 00:00:06 at 4.20MiB/s                    \n"
     ]
    },
    {
     "name": "stderr",
     "output_type": "stream",
     "text": [
      "WARNING: 1383601207: Possible MPEG-TS in MP4 container or malformed AAC timestamps. Install ffmpeg to fix this automatically\n",
      "ERROR: Postprocessing: ffprobe and ffmpeg not found. Please install or provide the path using --ffmpeg-location\n"
     ]
    },
    {
     "name": "stdout",
     "output_type": "stream",
     "text": [
      "Error downloading https://soundcloud.com/radio-ergo/idaacadda-18-nov-2022: ERROR: Postprocessing: ffprobe and ffmpeg not found. Please install or provide the path using --ffmpeg-location\n",
      "[soundcloud] Extracting URL: https://soundcloud.com/radio-ergo/idaacadda-26-nov-2022\n",
      "[soundcloud] radio-ergo/idaacadda-26-nov-2022: Downloading info JSON\n"
     ]
    },
    {
     "name": "stderr",
     "output_type": "stream",
     "text": [
      "ERROR: [soundcloud] Unable to download JSON metadata: HTTP Error 404: Not Found (caused by <HTTPError 404: Not Found>)\n"
     ]
    },
    {
     "name": "stdout",
     "output_type": "stream",
     "text": [
      "Error downloading https://soundcloud.com/radio-ergo/idaacadda-26-nov-2022: ERROR: [soundcloud] Unable to download JSON metadata: HTTP Error 404: Not Found (caused by <HTTPError 404: Not Found>)\n",
      "[soundcloud] Extracting URL: https://soundcloud.com/radio-ergo/idaacadda-5-sep-2022\n",
      "[soundcloud] radio-ergo/idaacadda-5-sep-2022: Downloading info JSON\n"
     ]
    },
    {
     "name": "stderr",
     "output_type": "stream",
     "text": [
      "ERROR: [soundcloud] Unable to download JSON metadata: HTTP Error 404: Not Found (caused by <HTTPError 404: Not Found>)\n"
     ]
    },
    {
     "name": "stdout",
     "output_type": "stream",
     "text": [
      "Error downloading https://soundcloud.com/radio-ergo/idaacadda-5-sep-2022: ERROR: [soundcloud] Unable to download JSON metadata: HTTP Error 404: Not Found (caused by <HTTPError 404: Not Found>)\n",
      "[soundcloud] Extracting URL: https://soundcloud.com/radio-ergo/idaacadda-01-oct-2022\n",
      "[soundcloud] radio-ergo/idaacadda-01-oct-2022: Downloading info JSON\n"
     ]
    },
    {
     "name": "stderr",
     "output_type": "stream",
     "text": [
      "ERROR: [soundcloud] Unable to download JSON metadata: HTTP Error 404: Not Found (caused by <HTTPError 404: Not Found>)\n"
     ]
    },
    {
     "name": "stdout",
     "output_type": "stream",
     "text": [
      "Error downloading https://soundcloud.com/radio-ergo/idaacadda-01-oct-2022: ERROR: [soundcloud] Unable to download JSON metadata: HTTP Error 404: Not Found (caused by <HTTPError 404: Not Found>)\n",
      "[soundcloud] Extracting URL: https://soundcloud.com/radio-ergo/idaacadda-8-nov-2022\n",
      "[soundcloud] radio-ergo/idaacadda-8-nov-2022: Downloading info JSON\n"
     ]
    },
    {
     "name": "stderr",
     "output_type": "stream",
     "text": [
      "ERROR: [soundcloud] Unable to download JSON metadata: HTTP Error 404: Not Found (caused by <HTTPError 404: Not Found>)\n"
     ]
    },
    {
     "name": "stdout",
     "output_type": "stream",
     "text": [
      "Error downloading https://soundcloud.com/radio-ergo/idaacadda-8-nov-2022: ERROR: [soundcloud] Unable to download JSON metadata: HTTP Error 404: Not Found (caused by <HTTPError 404: Not Found>)\n",
      "[soundcloud] Extracting URL: https://soundcloud.com/radio-ergo/idaacadda-27-sep-2022\n",
      "[soundcloud] radio-ergo/idaacadda-27-sep-2022: Downloading info JSON\n",
      "[soundcloud] 1351843483: Downloading hls_mp3 format info JSON\n",
      "[soundcloud] 1351843483: Downloading http_mp3 format info JSON\n",
      "[soundcloud] 1351843483: Downloading hls_opus format info JSON\n",
      "[info] 1351843483: Downloading 1 format(s): hls_opus_0_0\n",
      "[hlsnative] Downloading m3u8 manifest\n",
      "[hlsnative] Total fragments: 362\n",
      "[download] Destination: soundcloud_2022-08-01_to_2022-12-31/IDAACADDA 27-SEP-2022.opus\n",
      "[download] 100% of   28.47MiB in 00:00:06 at 4.31MiB/s                    \n"
     ]
    },
    {
     "name": "stderr",
     "output_type": "stream",
     "text": [
      "WARNING: 1351843483: Possible MPEG-TS in MP4 container or malformed AAC timestamps. Install ffmpeg to fix this automatically\n",
      "ERROR: Postprocessing: ffprobe and ffmpeg not found. Please install or provide the path using --ffmpeg-location\n"
     ]
    },
    {
     "name": "stdout",
     "output_type": "stream",
     "text": [
      "Error downloading https://soundcloud.com/radio-ergo/idaacadda-27-sep-2022: ERROR: Postprocessing: ffprobe and ffmpeg not found. Please install or provide the path using --ffmpeg-location\n",
      "[soundcloud] Extracting URL: https://soundcloud.com/radio-ergo/idaacadda-17-aug-2022\n",
      "[soundcloud] radio-ergo/idaacadda-17-aug-2022: Downloading info JSON\n"
     ]
    },
    {
     "name": "stderr",
     "output_type": "stream",
     "text": [
      "ERROR: [soundcloud] Unable to download JSON metadata: HTTP Error 404: Not Found (caused by <HTTPError 404: Not Found>)\n"
     ]
    },
    {
     "name": "stdout",
     "output_type": "stream",
     "text": [
      "Error downloading https://soundcloud.com/radio-ergo/idaacadda-17-aug-2022: ERROR: [soundcloud] Unable to download JSON metadata: HTTP Error 404: Not Found (caused by <HTTPError 404: Not Found>)\n",
      "[soundcloud] Extracting URL: https://soundcloud.com/radio-ergo/idaacadda-06-sep-2022\n",
      "[soundcloud] radio-ergo/idaacadda-06-sep-2022: Downloading info JSON\n"
     ]
    },
    {
     "name": "stderr",
     "output_type": "stream",
     "text": [
      "ERROR: [soundcloud] Unable to download JSON metadata: HTTP Error 404: Not Found (caused by <HTTPError 404: Not Found>)\n"
     ]
    },
    {
     "name": "stdout",
     "output_type": "stream",
     "text": [
      "Error downloading https://soundcloud.com/radio-ergo/idaacadda-06-sep-2022: ERROR: [soundcloud] Unable to download JSON metadata: HTTP Error 404: Not Found (caused by <HTTPError 404: Not Found>)\n",
      "[soundcloud] Extracting URL: https://soundcloud.com/radio-ergo/idaacadda-4-nov-2022\n",
      "[soundcloud] radio-ergo/idaacadda-4-nov-2022: Downloading info JSON\n"
     ]
    },
    {
     "name": "stderr",
     "output_type": "stream",
     "text": [
      "ERROR: [soundcloud] Unable to download JSON metadata: HTTP Error 404: Not Found (caused by <HTTPError 404: Not Found>)\n"
     ]
    },
    {
     "name": "stdout",
     "output_type": "stream",
     "text": [
      "Error downloading https://soundcloud.com/radio-ergo/idaacadda-4-nov-2022: ERROR: [soundcloud] Unable to download JSON metadata: HTTP Error 404: Not Found (caused by <HTTPError 404: Not Found>)\n",
      "[soundcloud] Extracting URL: https://soundcloud.com/radio-ergo/idaacadda-24-sep-2022\n",
      "[soundcloud] radio-ergo/idaacadda-24-sep-2022: Downloading info JSON\n",
      "[soundcloud] 1350049291: Downloading hls_mp3 format info JSON\n",
      "[soundcloud] 1350049291: Downloading http_mp3 format info JSON\n",
      "[soundcloud] 1350049291: Downloading hls_opus format info JSON\n",
      "[info] 1350049291: Downloading 1 format(s): hls_opus_0_0\n",
      "[hlsnative] Downloading m3u8 manifest\n",
      "[hlsnative] Total fragments: 358\n",
      "[download] Destination: soundcloud_2022-08-01_to_2022-12-31/IDAACADDA 24-SEP-2022.opus\n",
      "[download] 100% of   31.80MiB in 00:00:06 at 4.81MiB/s                    \n"
     ]
    },
    {
     "name": "stderr",
     "output_type": "stream",
     "text": [
      "WARNING: 1350049291: Possible MPEG-TS in MP4 container or malformed AAC timestamps. Install ffmpeg to fix this automatically\n",
      "ERROR: Postprocessing: ffprobe and ffmpeg not found. Please install or provide the path using --ffmpeg-location\n"
     ]
    },
    {
     "name": "stdout",
     "output_type": "stream",
     "text": [
      "Error downloading https://soundcloud.com/radio-ergo/idaacadda-24-sep-2022: ERROR: Postprocessing: ffprobe and ffmpeg not found. Please install or provide the path using --ffmpeg-location\n",
      "[soundcloud] Extracting URL: https://soundcloud.com/radio-ergo/idaacadda-05-oct-2022\n",
      "[soundcloud] radio-ergo/idaacadda-05-oct-2022: Downloading info JSON\n",
      "[soundcloud] 1357169656: Downloading hls_mp3 format info JSON\n",
      "[soundcloud] 1357169656: Downloading http_mp3 format info JSON\n",
      "[soundcloud] 1357169656: Downloading hls_opus format info JSON\n",
      "[info] 1357169656: Downloading 1 format(s): hls_opus_0_0\n",
      "[hlsnative] Downloading m3u8 manifest\n",
      "[hlsnative] Total fragments: 362\n",
      "[download] Destination: soundcloud_2022-08-01_to_2022-12-31/IDAACADDA 05-OCT-2022.opus\n",
      "[download] 100% of   25.80MiB in 00:00:06 at 3.90MiB/s                    \n"
     ]
    },
    {
     "name": "stderr",
     "output_type": "stream",
     "text": [
      "WARNING: 1357169656: Possible MPEG-TS in MP4 container or malformed AAC timestamps. Install ffmpeg to fix this automatically\n",
      "ERROR: Postprocessing: ffprobe and ffmpeg not found. Please install or provide the path using --ffmpeg-location\n"
     ]
    },
    {
     "name": "stdout",
     "output_type": "stream",
     "text": [
      "Error downloading https://soundcloud.com/radio-ergo/idaacadda-05-oct-2022: ERROR: Postprocessing: ffprobe and ffmpeg not found. Please install or provide the path using --ffmpeg-location\n",
      "[soundcloud] Extracting URL: https://soundcloud.com/radio-ergo/idaacadda-17-sep-2022\n",
      "[soundcloud] radio-ergo/idaacadda-17-sep-2022: Downloading info JSON\n"
     ]
    },
    {
     "name": "stderr",
     "output_type": "stream",
     "text": [
      "ERROR: [soundcloud] Unable to download JSON metadata: HTTP Error 404: Not Found (caused by <HTTPError 404: Not Found>)\n"
     ]
    },
    {
     "name": "stdout",
     "output_type": "stream",
     "text": [
      "Error downloading https://soundcloud.com/radio-ergo/idaacadda-17-sep-2022: ERROR: [soundcloud] Unable to download JSON metadata: HTTP Error 404: Not Found (caused by <HTTPError 404: Not Found>)\n",
      "[soundcloud] Extracting URL: https://soundcloud.com/radio-ergo/idaacadda-09-nov-2022\n",
      "[soundcloud] radio-ergo/idaacadda-09-nov-2022: Downloading info JSON\n"
     ]
    },
    {
     "name": "stderr",
     "output_type": "stream",
     "text": [
      "ERROR: [soundcloud] Unable to download JSON metadata: HTTP Error 404: Not Found (caused by <HTTPError 404: Not Found>)\n"
     ]
    },
    {
     "name": "stdout",
     "output_type": "stream",
     "text": [
      "Error downloading https://soundcloud.com/radio-ergo/idaacadda-09-nov-2022: ERROR: [soundcloud] Unable to download JSON metadata: HTTP Error 404: Not Found (caused by <HTTPError 404: Not Found>)\n",
      "[soundcloud] Extracting URL: https://soundcloud.com/radio-ergo/idaacadda-6-sep-2022\n",
      "[soundcloud] radio-ergo/idaacadda-6-sep-2022: Downloading info JSON\n",
      "[soundcloud] 1338660151: Downloading hls_mp3 format info JSON\n",
      "[soundcloud] 1338660151: Downloading http_mp3 format info JSON\n",
      "[soundcloud] 1338660151: Downloading hls_opus format info JSON\n",
      "[info] 1338660151: Downloading 1 format(s): hls_opus_0_0\n",
      "[hlsnative] Downloading m3u8 manifest\n",
      "[hlsnative] Total fragments: 362\n",
      "[download] Destination: soundcloud_2022-08-01_to_2022-12-31/IDAACADDA 6-SEP-2022.opus\n",
      "[download] 100% of   27.47MiB in 00:00:06 at 4.18MiB/s                    \n"
     ]
    },
    {
     "name": "stderr",
     "output_type": "stream",
     "text": [
      "WARNING: 1338660151: Possible MPEG-TS in MP4 container or malformed AAC timestamps. Install ffmpeg to fix this automatically\n",
      "ERROR: Postprocessing: ffprobe and ffmpeg not found. Please install or provide the path using --ffmpeg-location\n"
     ]
    },
    {
     "name": "stdout",
     "output_type": "stream",
     "text": [
      "Error downloading https://soundcloud.com/radio-ergo/idaacadda-6-sep-2022: ERROR: Postprocessing: ffprobe and ffmpeg not found. Please install or provide the path using --ffmpeg-location\n",
      "[soundcloud] Extracting URL: https://soundcloud.com/radio-ergo/idaacadda-09-sep-2022\n",
      "[soundcloud] radio-ergo/idaacadda-09-sep-2022: Downloading info JSON\n",
      "[soundcloud] 1340675512: Downloading hls_mp3 format info JSON\n",
      "[soundcloud] 1340675512: Downloading http_mp3 format info JSON\n",
      "[soundcloud] 1340675512: Downloading hls_opus format info JSON\n",
      "[info] 1340675512: Downloading 1 format(s): hls_opus_0_0\n",
      "[hlsnative] Downloading m3u8 manifest\n",
      "[hlsnative] Total fragments: 362\n",
      "[download] Destination: soundcloud_2022-08-01_to_2022-12-31/IDAACADDA 09-SEP-2022.opus\n",
      "[download] 100% of   27.36MiB in 00:00:06 at 4.15MiB/s                    \n"
     ]
    },
    {
     "name": "stderr",
     "output_type": "stream",
     "text": [
      "WARNING: 1340675512: Possible MPEG-TS in MP4 container or malformed AAC timestamps. Install ffmpeg to fix this automatically\n",
      "ERROR: Postprocessing: ffprobe and ffmpeg not found. Please install or provide the path using --ffmpeg-location\n"
     ]
    },
    {
     "name": "stdout",
     "output_type": "stream",
     "text": [
      "Error downloading https://soundcloud.com/radio-ergo/idaacadda-09-sep-2022: ERROR: Postprocessing: ffprobe and ffmpeg not found. Please install or provide the path using --ffmpeg-location\n",
      "[soundcloud] Extracting URL: https://soundcloud.com/radio-ergo/idaacadda-15-sep-2022\n",
      "[soundcloud] radio-ergo/idaacadda-15-sep-2022: Downloading info JSON\n",
      "[soundcloud] 1344283180: Downloading hls_mp3 format info JSON\n",
      "[soundcloud] 1344283180: Downloading http_mp3 format info JSON\n",
      "[soundcloud] 1344283180: Downloading hls_opus format info JSON\n",
      "[info] 1344283180: Downloading 1 format(s): hls_opus_0_0\n",
      "[hlsnative] Downloading m3u8 manifest\n",
      "[hlsnative] Total fragments: 357\n",
      "[download] Destination: soundcloud_2022-08-01_to_2022-12-31/IDAACADDA 15-SEP-2022.opus\n",
      "[download] 100% of   27.70MiB in 00:00:06 at 4.24MiB/s                    \n"
     ]
    },
    {
     "name": "stderr",
     "output_type": "stream",
     "text": [
      "WARNING: 1344283180: Possible MPEG-TS in MP4 container or malformed AAC timestamps. Install ffmpeg to fix this automatically\n",
      "ERROR: Postprocessing: ffprobe and ffmpeg not found. Please install or provide the path using --ffmpeg-location\n"
     ]
    },
    {
     "name": "stdout",
     "output_type": "stream",
     "text": [
      "Error downloading https://soundcloud.com/radio-ergo/idaacadda-15-sep-2022: ERROR: Postprocessing: ffprobe and ffmpeg not found. Please install or provide the path using --ffmpeg-location\n",
      "[soundcloud] Extracting URL: https://soundcloud.com/radio-ergo/idaacadda-06-aug-2022\n",
      "[soundcloud] radio-ergo/idaacadda-06-aug-2022: Downloading info JSON\n",
      "[soundcloud] 1318974043: Downloading hls_mp3 format info JSON\n",
      "[soundcloud] 1318974043: Downloading http_mp3 format info JSON\n",
      "[soundcloud] 1318974043: Downloading hls_opus format info JSON\n",
      "[info] 1318974043: Downloading 1 format(s): hls_opus_0_0\n",
      "[hlsnative] Downloading m3u8 manifest\n",
      "[hlsnative] Total fragments: 359\n",
      "[download] Destination: soundcloud_2022-08-01_to_2022-12-31/IDAACADDA 06-AUG-2022.opus\n",
      "[download] 100% of   31.96MiB in 00:00:06 at 4.59MiB/s                    \n"
     ]
    },
    {
     "name": "stderr",
     "output_type": "stream",
     "text": [
      "WARNING: 1318974043: Possible MPEG-TS in MP4 container or malformed AAC timestamps. Install ffmpeg to fix this automatically\n",
      "ERROR: Postprocessing: ffprobe and ffmpeg not found. Please install or provide the path using --ffmpeg-location\n"
     ]
    },
    {
     "name": "stdout",
     "output_type": "stream",
     "text": [
      "Error downloading https://soundcloud.com/radio-ergo/idaacadda-06-aug-2022: ERROR: Postprocessing: ffprobe and ffmpeg not found. Please install or provide the path using --ffmpeg-location\n",
      "[soundcloud] Extracting URL: https://soundcloud.com/radio-ergo/idaacadda-23-oct-2022\n",
      "[soundcloud] radio-ergo/idaacadda-23-oct-2022: Downloading info JSON\n",
      "[soundcloud] 1368078811: Downloading hls_mp3 format info JSON\n",
      "[soundcloud] 1368078811: Downloading http_mp3 format info JSON\n",
      "[soundcloud] 1368078811: Downloading hls_opus format info JSON\n",
      "[info] 1368078811: Downloading 1 format(s): hls_opus_0_0\n",
      "[hlsnative] Downloading m3u8 manifest\n",
      "[hlsnative] Total fragments: 357\n",
      "[download] Destination: soundcloud_2022-08-01_to_2022-12-31/IDAACADDA 23-OCT-2022.opus\n",
      "[download] 100% of   27.81MiB in 00:00:06 at 4.34MiB/s                    \n"
     ]
    },
    {
     "name": "stderr",
     "output_type": "stream",
     "text": [
      "WARNING: 1368078811: Possible MPEG-TS in MP4 container or malformed AAC timestamps. Install ffmpeg to fix this automatically\n",
      "ERROR: Postprocessing: ffprobe and ffmpeg not found. Please install or provide the path using --ffmpeg-location\n"
     ]
    },
    {
     "name": "stdout",
     "output_type": "stream",
     "text": [
      "Error downloading https://soundcloud.com/radio-ergo/idaacadda-23-oct-2022: ERROR: Postprocessing: ffprobe and ffmpeg not found. Please install or provide the path using --ffmpeg-location\n",
      "[soundcloud] Extracting URL: https://soundcloud.com/radio-ergo/idaacadda-26-oct-2022\n",
      "[soundcloud] radio-ergo/idaacadda-26-oct-2022: Downloading info JSON\n",
      "[soundcloud] 1370326492: Downloading hls_mp3 format info JSON\n",
      "[soundcloud] 1370326492: Downloading http_mp3 format info JSON\n",
      "[soundcloud] 1370326492: Downloading hls_opus format info JSON\n",
      "[info] 1370326492: Downloading 1 format(s): hls_opus_0_0\n",
      "[hlsnative] Downloading m3u8 manifest\n",
      "[hlsnative] Total fragments: 361\n",
      "[download] Destination: soundcloud_2022-08-01_to_2022-12-31/IDAACADDA 26-OCT-2022.opus\n",
      "[download] 100% of   32.25MiB in 00:00:06 at 4.92MiB/s                    \n"
     ]
    },
    {
     "name": "stderr",
     "output_type": "stream",
     "text": [
      "WARNING: 1370326492: Possible MPEG-TS in MP4 container or malformed AAC timestamps. Install ffmpeg to fix this automatically\n",
      "ERROR: Postprocessing: ffprobe and ffmpeg not found. Please install or provide the path using --ffmpeg-location\n"
     ]
    },
    {
     "name": "stdout",
     "output_type": "stream",
     "text": [
      "Error downloading https://soundcloud.com/radio-ergo/idaacadda-26-oct-2022: ERROR: Postprocessing: ffprobe and ffmpeg not found. Please install or provide the path using --ffmpeg-location\n",
      "[soundcloud] Extracting URL: https://soundcloud.com/radio-ergo/idaacadda-3-sep-2022\n",
      "[soundcloud] radio-ergo/idaacadda-3-sep-2022: Downloading info JSON\n",
      "[soundcloud] 1336855336: Downloading hls_mp3 format info JSON\n",
      "[soundcloud] 1336855336: Downloading http_mp3 format info JSON\n",
      "[soundcloud] 1336855336: Downloading hls_opus format info JSON\n",
      "[info] 1336855336: Downloading 1 format(s): hls_opus_0_0\n",
      "[hlsnative] Downloading m3u8 manifest\n",
      "[hlsnative] Total fragments: 359\n",
      "[download] Destination: soundcloud_2022-08-01_to_2022-12-31/IDAACADDA 03-SEP-2022.opus\n",
      "[download] 100% of   30.81MiB in 00:00:06 at 4.68MiB/s                    \n"
     ]
    },
    {
     "name": "stderr",
     "output_type": "stream",
     "text": [
      "WARNING: 1336855336: Possible MPEG-TS in MP4 container or malformed AAC timestamps. Install ffmpeg to fix this automatically\n",
      "ERROR: Postprocessing: ffprobe and ffmpeg not found. Please install or provide the path using --ffmpeg-location\n"
     ]
    },
    {
     "name": "stdout",
     "output_type": "stream",
     "text": [
      "Error downloading https://soundcloud.com/radio-ergo/idaacadda-3-sep-2022: ERROR: Postprocessing: ffprobe and ffmpeg not found. Please install or provide the path using --ffmpeg-location\n",
      "[soundcloud] Extracting URL: https://soundcloud.com/radio-ergo/idaacadda-9-nov-2022\n",
      "[soundcloud] radio-ergo/idaacadda-9-nov-2022: Downloading info JSON\n"
     ]
    },
    {
     "name": "stderr",
     "output_type": "stream",
     "text": [
      "ERROR: [soundcloud] Unable to download JSON metadata: HTTP Error 404: Not Found (caused by <HTTPError 404: Not Found>)\n"
     ]
    },
    {
     "name": "stdout",
     "output_type": "stream",
     "text": [
      "Error downloading https://soundcloud.com/radio-ergo/idaacadda-9-nov-2022: ERROR: [soundcloud] Unable to download JSON metadata: HTTP Error 404: Not Found (caused by <HTTPError 404: Not Found>)\n",
      "[soundcloud] Extracting URL: https://soundcloud.com/radio-ergo/idaacadda-25-nov-2022\n",
      "[soundcloud] radio-ergo/idaacadda-25-nov-2022: Downloading info JSON\n",
      "[soundcloud] 1390248679: Downloading hls_mp3 format info JSON\n",
      "[soundcloud] 1390248679: Downloading http_mp3 format info JSON\n",
      "[soundcloud] 1390248679: Downloading hls_opus format info JSON\n",
      "[info] 1390248679: Downloading 1 format(s): hls_opus_0_0\n",
      "[hlsnative] Downloading m3u8 manifest\n",
      "[hlsnative] Total fragments: 357\n",
      "[download] Destination: soundcloud_2022-08-01_to_2022-12-31/IDAACADDA-25-NOV-2022.opus\n",
      "[download] 100% of   28.62MiB in 00:00:06 at 4.41MiB/s                    \n"
     ]
    },
    {
     "name": "stderr",
     "output_type": "stream",
     "text": [
      "WARNING: 1390248679: Possible MPEG-TS in MP4 container or malformed AAC timestamps. Install ffmpeg to fix this automatically\n",
      "ERROR: Postprocessing: ffprobe and ffmpeg not found. Please install or provide the path using --ffmpeg-location\n"
     ]
    },
    {
     "name": "stdout",
     "output_type": "stream",
     "text": [
      "Error downloading https://soundcloud.com/radio-ergo/idaacadda-25-nov-2022: ERROR: Postprocessing: ffprobe and ffmpeg not found. Please install or provide the path using --ffmpeg-location\n",
      "[soundcloud] Extracting URL: https://soundcloud.com/radio-ergo/idaacadda-26-dec-2022\n",
      "[soundcloud] radio-ergo/idaacadda-26-dec-2022: Downloading info JSON\n",
      "[soundcloud] 1410404272: Downloading hls_mp3 format info JSON\n",
      "[soundcloud] 1410404272: Downloading http_mp3 format info JSON\n",
      "[soundcloud] 1410404272: Downloading hls_opus format info JSON\n",
      "[info] 1410404272: Downloading 1 format(s): hls_opus_0_0\n",
      "[hlsnative] Downloading m3u8 manifest\n",
      "[hlsnative] Total fragments: 362\n",
      "[download] Destination: soundcloud_2022-08-01_to_2022-12-31/IDAACADDA 26-DEC-2022.opus\n",
      "[download] 100% of   27.17MiB in 00:00:06 at 4.08MiB/s                    \n"
     ]
    },
    {
     "name": "stderr",
     "output_type": "stream",
     "text": [
      "WARNING: 1410404272: Possible MPEG-TS in MP4 container or malformed AAC timestamps. Install ffmpeg to fix this automatically\n",
      "ERROR: Postprocessing: ffprobe and ffmpeg not found. Please install or provide the path using --ffmpeg-location\n"
     ]
    },
    {
     "name": "stdout",
     "output_type": "stream",
     "text": [
      "Error downloading https://soundcloud.com/radio-ergo/idaacadda-26-dec-2022: ERROR: Postprocessing: ffprobe and ffmpeg not found. Please install or provide the path using --ffmpeg-location\n",
      "[soundcloud] Extracting URL: https://soundcloud.com/radio-ergo/idaacadda-19-oct-2022\n",
      "[soundcloud] radio-ergo/idaacadda-19-oct-2022: Downloading info JSON\n",
      "[soundcloud] 1366014862: Downloading hls_mp3 format info JSON\n",
      "[soundcloud] 1366014862: Downloading http_mp3 format info JSON\n",
      "[soundcloud] 1366014862: Downloading hls_opus format info JSON\n",
      "[info] 1366014862: Downloading 1 format(s): hls_opus_0_0\n",
      "[hlsnative] Downloading m3u8 manifest\n",
      "[hlsnative] Total fragments: 360\n",
      "[download] Destination: soundcloud_2022-08-01_to_2022-12-31/IDAACADDA 19-OCT-2022.opus\n",
      "[download] 100% of   27.70MiB in 00:00:06 at 4.20MiB/s                    \n"
     ]
    },
    {
     "name": "stderr",
     "output_type": "stream",
     "text": [
      "WARNING: 1366014862: Possible MPEG-TS in MP4 container or malformed AAC timestamps. Install ffmpeg to fix this automatically\n",
      "ERROR: Postprocessing: ffprobe and ffmpeg not found. Please install or provide the path using --ffmpeg-location\n"
     ]
    },
    {
     "name": "stdout",
     "output_type": "stream",
     "text": [
      "Error downloading https://soundcloud.com/radio-ergo/idaacadda-19-oct-2022: ERROR: Postprocessing: ffprobe and ffmpeg not found. Please install or provide the path using --ffmpeg-location\n",
      "[soundcloud] Extracting URL: https://soundcloud.com/radio-ergo/idaacadda-11-aug-2022\n",
      "[soundcloud] radio-ergo/idaacadda-11-aug-2022: Downloading info JSON\n",
      "[soundcloud] 1322759404: Downloading hls_mp3 format info JSON\n",
      "[soundcloud] 1322759404: Downloading http_mp3 format info JSON\n",
      "[soundcloud] 1322759404: Downloading hls_opus format info JSON\n",
      "[info] 1322759404: Downloading 1 format(s): hls_opus_0_0\n",
      "[hlsnative] Downloading m3u8 manifest\n",
      "[hlsnative] Total fragments: 361\n",
      "[download] Destination: soundcloud_2022-08-01_to_2022-12-31/IDAACADDA 11-AUG-2022.opus\n",
      "[download] 100% of   26.38MiB in 00:00:06 at 4.06MiB/s                    \n"
     ]
    },
    {
     "name": "stderr",
     "output_type": "stream",
     "text": [
      "WARNING: 1322759404: Possible MPEG-TS in MP4 container or malformed AAC timestamps. Install ffmpeg to fix this automatically\n",
      "ERROR: Postprocessing: ffprobe and ffmpeg not found. Please install or provide the path using --ffmpeg-location\n"
     ]
    },
    {
     "name": "stdout",
     "output_type": "stream",
     "text": [
      "Error downloading https://soundcloud.com/radio-ergo/idaacadda-11-aug-2022: ERROR: Postprocessing: ffprobe and ffmpeg not found. Please install or provide the path using --ffmpeg-location\n",
      "[soundcloud] Extracting URL: https://soundcloud.com/radio-ergo/idaacadda-19-dec-2022\n",
      "[soundcloud] radio-ergo/idaacadda-19-dec-2022: Downloading info JSON\n",
      "[soundcloud] 1405724194: Downloading hls_mp3 format info JSON\n",
      "[soundcloud] 1405724194: Downloading http_mp3 format info JSON\n",
      "[soundcloud] 1405724194: Downloading hls_opus format info JSON\n",
      "[info] 1405724194: Downloading 1 format(s): hls_opus_0_0\n",
      "[hlsnative] Downloading m3u8 manifest\n",
      "[hlsnative] Total fragments: 357\n",
      "[download] Destination: soundcloud_2022-08-01_to_2022-12-31/IDAACADDA 19-DEC-2022.opus\n",
      "[download] 100% of   27.53MiB in 00:00:06 at 4.18MiB/s                    \n"
     ]
    },
    {
     "name": "stderr",
     "output_type": "stream",
     "text": [
      "WARNING: 1405724194: Possible MPEG-TS in MP4 container or malformed AAC timestamps. Install ffmpeg to fix this automatically\n",
      "ERROR: Postprocessing: ffprobe and ffmpeg not found. Please install or provide the path using --ffmpeg-location\n"
     ]
    },
    {
     "name": "stdout",
     "output_type": "stream",
     "text": [
      "Error downloading https://soundcloud.com/radio-ergo/idaacadda-19-dec-2022: ERROR: Postprocessing: ffprobe and ffmpeg not found. Please install or provide the path using --ffmpeg-location\n",
      "[soundcloud] Extracting URL: https://soundcloud.com/radio-ergo/idaacadda-05-aug-2022\n",
      "[soundcloud] radio-ergo/idaacadda-05-aug-2022: Downloading info JSON\n",
      "[soundcloud] 1318468912: Downloading hls_mp3 format info JSON\n",
      "[soundcloud] 1318468912: Downloading http_mp3 format info JSON\n",
      "[soundcloud] 1318468912: Downloading hls_opus format info JSON\n",
      "[info] 1318468912: Downloading 1 format(s): hls_opus_0_0\n",
      "[hlsnative] Downloading m3u8 manifest\n",
      "[hlsnative] Total fragments: 360\n",
      "[download] Destination: soundcloud_2022-08-01_to_2022-12-31/IDAACADDA 05-AUG-2022.opus\n",
      "[download] 100% of   26.92MiB in 00:00:06 at 4.02MiB/s                    \n"
     ]
    },
    {
     "name": "stderr",
     "output_type": "stream",
     "text": [
      "WARNING: 1318468912: Possible MPEG-TS in MP4 container or malformed AAC timestamps. Install ffmpeg to fix this automatically\n",
      "ERROR: Postprocessing: ffprobe and ffmpeg not found. Please install or provide the path using --ffmpeg-location\n"
     ]
    },
    {
     "name": "stdout",
     "output_type": "stream",
     "text": [
      "Error downloading https://soundcloud.com/radio-ergo/idaacadda-05-aug-2022: ERROR: Postprocessing: ffprobe and ffmpeg not found. Please install or provide the path using --ffmpeg-location\n",
      "[soundcloud] Extracting URL: https://soundcloud.com/radio-ergo/idaacadda-29-aug-2022\n",
      "[soundcloud] radio-ergo/idaacadda-29-aug-2022: Downloading info JSON\n",
      "[soundcloud] 1333327636: Downloading hls_mp3 format info JSON\n",
      "[soundcloud] 1333327636: Downloading http_mp3 format info JSON\n",
      "[soundcloud] 1333327636: Downloading hls_opus format info JSON\n",
      "[info] 1333327636: Downloading 1 format(s): hls_opus_0_0\n",
      "[hlsnative] Downloading m3u8 manifest\n",
      "[hlsnative] Total fragments: 360\n",
      "[download] Destination: soundcloud_2022-08-01_to_2022-12-31/IDAACADDA 29-AUG-2022.opus\n",
      "[download] 100% of   27.72MiB in 00:00:06 at 4.14MiB/s                    \n"
     ]
    },
    {
     "name": "stderr",
     "output_type": "stream",
     "text": [
      "WARNING: 1333327636: Possible MPEG-TS in MP4 container or malformed AAC timestamps. Install ffmpeg to fix this automatically\n",
      "ERROR: Postprocessing: ffprobe and ffmpeg not found. Please install or provide the path using --ffmpeg-location\n"
     ]
    },
    {
     "name": "stdout",
     "output_type": "stream",
     "text": [
      "Error downloading https://soundcloud.com/radio-ergo/idaacadda-29-aug-2022: ERROR: Postprocessing: ffprobe and ffmpeg not found. Please install or provide the path using --ffmpeg-location\n",
      "[soundcloud] Extracting URL: https://soundcloud.com/radio-ergo/idaacadda-27-oct-2022\n",
      "[soundcloud] radio-ergo/idaacadda-27-oct-2022: Downloading info JSON\n"
     ]
    },
    {
     "name": "stderr",
     "output_type": "stream",
     "text": [
      "ERROR: [soundcloud] Unable to download JSON metadata: HTTP Error 404: Not Found (caused by <HTTPError 404: Not Found>)\n"
     ]
    },
    {
     "name": "stdout",
     "output_type": "stream",
     "text": [
      "Error downloading https://soundcloud.com/radio-ergo/idaacadda-27-oct-2022: ERROR: [soundcloud] Unable to download JSON metadata: HTTP Error 404: Not Found (caused by <HTTPError 404: Not Found>)\n",
      "[soundcloud] Extracting URL: https://soundcloud.com/radio-ergo/idaacadda-21-dec-2022\n",
      "[soundcloud] radio-ergo/idaacadda-21-dec-2022: Downloading info JSON\n"
     ]
    },
    {
     "name": "stderr",
     "output_type": "stream",
     "text": [
      "ERROR: [soundcloud] Unable to download JSON metadata: HTTP Error 404: Not Found (caused by <HTTPError 404: Not Found>)\n"
     ]
    },
    {
     "name": "stdout",
     "output_type": "stream",
     "text": [
      "Error downloading https://soundcloud.com/radio-ergo/idaacadda-21-dec-2022: ERROR: [soundcloud] Unable to download JSON metadata: HTTP Error 404: Not Found (caused by <HTTPError 404: Not Found>)\n",
      "[soundcloud] Extracting URL: https://soundcloud.com/radio-ergo/idaacadda-4-sep-2022\n",
      "[soundcloud] radio-ergo/idaacadda-4-sep-2022: Downloading info JSON\n"
     ]
    },
    {
     "name": "stderr",
     "output_type": "stream",
     "text": [
      "ERROR: [soundcloud] Unable to download JSON metadata: HTTP Error 404: Not Found (caused by <HTTPError 404: Not Found>)\n"
     ]
    },
    {
     "name": "stdout",
     "output_type": "stream",
     "text": [
      "Error downloading https://soundcloud.com/radio-ergo/idaacadda-4-sep-2022: ERROR: [soundcloud] Unable to download JSON metadata: HTTP Error 404: Not Found (caused by <HTTPError 404: Not Found>)\n",
      "[soundcloud] Extracting URL: https://soundcloud.com/radio-ergo/idaacadda-12-aug-2022\n",
      "[soundcloud] radio-ergo/idaacadda-12-aug-2022: Downloading info JSON\n",
      "[soundcloud] 1322855806: Downloading hls_mp3 format info JSON\n",
      "[soundcloud] 1322855806: Downloading http_mp3 format info JSON\n",
      "[soundcloud] 1322855806: Downloading hls_opus format info JSON\n",
      "[info] 1322855806: Downloading 1 format(s): hls_opus_0_0\n",
      "[hlsnative] Downloading m3u8 manifest\n",
      "[hlsnative] Total fragments: 361\n",
      "[download] Destination: soundcloud_2022-08-01_to_2022-12-31/IDAACADDA 12-AUG-2022.opus\n",
      "[download]   0.4% of ~   7.76MiB at      0.00B/s ETA Unknown (frag 1/361)"
     ]
    },
    {
     "ename": "KeyboardInterrupt",
     "evalue": "",
     "output_type": "error",
     "traceback": [
      "\u001b[0;31m---------------------------------------------------------------------------\u001b[0m",
      "\u001b[0;31mKeyboardInterrupt\u001b[0m                         Traceback (most recent call last)",
      "Cell \u001b[0;32mIn[2], line 6\u001b[0m\n\u001b[1;32m      3\u001b[0m end_date \u001b[38;5;241m=\u001b[39m \u001b[38;5;124m\"\u001b[39m\u001b[38;5;124m2022-12-31\u001b[39m\u001b[38;5;124m\"\u001b[39m    \u001b[38;5;66;03m# Format: YYYY-MM-DD\u001b[39;00m\n\u001b[1;32m      4\u001b[0m save_to_drive \u001b[38;5;241m=\u001b[39m \u001b[38;5;28;01mFalse\u001b[39;00m       \u001b[38;5;66;03m# Set to False if you don't want to save to Google Drive\u001b[39;00m\n\u001b[0;32m----> 6\u001b[0m downloaded_files \u001b[38;5;241m=\u001b[39m \u001b[43mdownload_by_date_range\u001b[49m\u001b[43m(\u001b[49m\u001b[43mprofile_url\u001b[49m\u001b[43m,\u001b[49m\u001b[43m \u001b[49m\u001b[43mstart_date\u001b[49m\u001b[43m,\u001b[49m\u001b[43m \u001b[49m\u001b[43mend_date\u001b[49m\u001b[43m,\u001b[49m\u001b[43m \u001b[49m\u001b[43msave_to_drive\u001b[49m\u001b[38;5;241;43m=\u001b[39;49m\u001b[43msave_to_drive\u001b[49m\u001b[43m)\u001b[49m\n",
      "Cell \u001b[0;32mIn[1], line 195\u001b[0m, in \u001b[0;36mdownload_by_date_range\u001b[0;34m(profile_url, start_date_str, end_date_str, output_dir, save_to_drive)\u001b[0m\n\u001b[1;32m    193\u001b[0m downloaded_files \u001b[38;5;241m=\u001b[39m []\n\u001b[1;32m    194\u001b[0m \u001b[38;5;28;01mfor\u001b[39;00m url \u001b[38;5;129;01min\u001b[39;00m all_urls:\n\u001b[0;32m--> 195\u001b[0m     result \u001b[38;5;241m=\u001b[39m \u001b[43mdownload_soundcloud_audio\u001b[49m\u001b[43m(\u001b[49m\u001b[43murl\u001b[49m\u001b[43m,\u001b[49m\u001b[43m \u001b[49m\u001b[43moutput_dir\u001b[49m\u001b[43m)\u001b[49m\n\u001b[1;32m    196\u001b[0m     \u001b[38;5;28;01mif\u001b[39;00m result:\n\u001b[1;32m    197\u001b[0m         downloaded_files\u001b[38;5;241m.\u001b[39mappend(result)\n",
      "Cell \u001b[0;32mIn[1], line 41\u001b[0m, in \u001b[0;36mdownload_soundcloud_audio\u001b[0;34m(url, output_dir)\u001b[0m\n\u001b[1;32m     39\u001b[0m \u001b[38;5;28;01mtry\u001b[39;00m:\n\u001b[1;32m     40\u001b[0m     \u001b[38;5;28;01mwith\u001b[39;00m yt_dlp\u001b[38;5;241m.\u001b[39mYoutubeDL(ydl_opts) \u001b[38;5;28;01mas\u001b[39;00m ydl:\n\u001b[0;32m---> 41\u001b[0m         info \u001b[38;5;241m=\u001b[39m \u001b[43mydl\u001b[49m\u001b[38;5;241;43m.\u001b[39;49m\u001b[43mextract_info\u001b[49m\u001b[43m(\u001b[49m\u001b[43murl\u001b[49m\u001b[43m,\u001b[49m\u001b[43m \u001b[49m\u001b[43mdownload\u001b[49m\u001b[38;5;241;43m=\u001b[39;49m\u001b[38;5;28;43;01mTrue\u001b[39;49;00m\u001b[43m)\u001b[49m\n\u001b[1;32m     42\u001b[0m         filename \u001b[38;5;241m=\u001b[39m ydl\u001b[38;5;241m.\u001b[39mprepare_filename(info)\n\u001b[1;32m     43\u001b[0m         base, _ \u001b[38;5;241m=\u001b[39m os\u001b[38;5;241m.\u001b[39mpath\u001b[38;5;241m.\u001b[39msplitext(filename)\n",
      "File \u001b[0;32m/home/zeus/miniconda3/envs/cloudspace/lib/python3.10/site-packages/yt_dlp/YoutubeDL.py:1642\u001b[0m, in \u001b[0;36mYoutubeDL.extract_info\u001b[0;34m(self, url, download, ie_key, extra_info, process, force_generic_extractor)\u001b[0m\n\u001b[1;32m   1640\u001b[0m             \u001b[38;5;28;01mraise\u001b[39;00m ExistingVideoReached\n\u001b[1;32m   1641\u001b[0m         \u001b[38;5;28;01mbreak\u001b[39;00m\n\u001b[0;32m-> 1642\u001b[0m     \u001b[38;5;28;01mreturn\u001b[39;00m \u001b[38;5;28;43mself\u001b[39;49m\u001b[38;5;241;43m.\u001b[39;49m\u001b[43m__extract_info\u001b[49m\u001b[43m(\u001b[49m\u001b[43murl\u001b[49m\u001b[43m,\u001b[49m\u001b[43m \u001b[49m\u001b[38;5;28;43mself\u001b[39;49m\u001b[38;5;241;43m.\u001b[39;49m\u001b[43mget_info_extractor\u001b[49m\u001b[43m(\u001b[49m\u001b[43mkey\u001b[49m\u001b[43m)\u001b[49m\u001b[43m,\u001b[49m\u001b[43m \u001b[49m\u001b[43mdownload\u001b[49m\u001b[43m,\u001b[49m\u001b[43m \u001b[49m\u001b[43mextra_info\u001b[49m\u001b[43m,\u001b[49m\u001b[43m \u001b[49m\u001b[43mprocess\u001b[49m\u001b[43m)\u001b[49m\n\u001b[1;32m   1643\u001b[0m \u001b[38;5;28;01melse\u001b[39;00m:\n\u001b[1;32m   1644\u001b[0m     extractors_restricted \u001b[38;5;241m=\u001b[39m \u001b[38;5;28mself\u001b[39m\u001b[38;5;241m.\u001b[39mparams\u001b[38;5;241m.\u001b[39mget(\u001b[38;5;124m'\u001b[39m\u001b[38;5;124mallowed_extractors\u001b[39m\u001b[38;5;124m'\u001b[39m) \u001b[38;5;129;01mnot\u001b[39;00m \u001b[38;5;129;01min\u001b[39;00m (\u001b[38;5;28;01mNone\u001b[39;00m, [\u001b[38;5;124m'\u001b[39m\u001b[38;5;124mdefault\u001b[39m\u001b[38;5;124m'\u001b[39m])\n",
      "File \u001b[0;32m/home/zeus/miniconda3/envs/cloudspace/lib/python3.10/site-packages/yt_dlp/YoutubeDL.py:1653\u001b[0m, in \u001b[0;36mYoutubeDL._handle_extraction_exceptions.<locals>.wrapper\u001b[0;34m(self, *args, **kwargs)\u001b[0m\n\u001b[1;32m   1651\u001b[0m \u001b[38;5;28;01mwhile\u001b[39;00m \u001b[38;5;28;01mTrue\u001b[39;00m:\n\u001b[1;32m   1652\u001b[0m     \u001b[38;5;28;01mtry\u001b[39;00m:\n\u001b[0;32m-> 1653\u001b[0m         \u001b[38;5;28;01mreturn\u001b[39;00m \u001b[43mfunc\u001b[49m\u001b[43m(\u001b[49m\u001b[38;5;28;43mself\u001b[39;49m\u001b[43m,\u001b[49m\u001b[43m \u001b[49m\u001b[38;5;241;43m*\u001b[39;49m\u001b[43margs\u001b[49m\u001b[43m,\u001b[49m\u001b[43m \u001b[49m\u001b[38;5;241;43m*\u001b[39;49m\u001b[38;5;241;43m*\u001b[39;49m\u001b[43mkwargs\u001b[49m\u001b[43m)\u001b[49m\n\u001b[1;32m   1654\u001b[0m     \u001b[38;5;28;01mexcept\u001b[39;00m (CookieLoadError, DownloadCancelled, LazyList\u001b[38;5;241m.\u001b[39mIndexError, PagedList\u001b[38;5;241m.\u001b[39mIndexError):\n\u001b[1;32m   1655\u001b[0m         \u001b[38;5;28;01mraise\u001b[39;00m\n",
      "File \u001b[0;32m/home/zeus/miniconda3/envs/cloudspace/lib/python3.10/site-packages/yt_dlp/YoutubeDL.py:1809\u001b[0m, in \u001b[0;36mYoutubeDL.__extract_info\u001b[0;34m(self, url, ie, download, extra_info, process)\u001b[0m\n\u001b[1;32m   1807\u001b[0m \u001b[38;5;28;01mif\u001b[39;00m process:\n\u001b[1;32m   1808\u001b[0m     \u001b[38;5;28mself\u001b[39m\u001b[38;5;241m.\u001b[39m_wait_for_video(ie_result)\n\u001b[0;32m-> 1809\u001b[0m     \u001b[38;5;28;01mreturn\u001b[39;00m \u001b[38;5;28;43mself\u001b[39;49m\u001b[38;5;241;43m.\u001b[39;49m\u001b[43mprocess_ie_result\u001b[49m\u001b[43m(\u001b[49m\u001b[43mie_result\u001b[49m\u001b[43m,\u001b[49m\u001b[43m \u001b[49m\u001b[43mdownload\u001b[49m\u001b[43m,\u001b[49m\u001b[43m \u001b[49m\u001b[43mextra_info\u001b[49m\u001b[43m)\u001b[49m\n\u001b[1;32m   1810\u001b[0m \u001b[38;5;28;01melse\u001b[39;00m:\n\u001b[1;32m   1811\u001b[0m     \u001b[38;5;28;01mreturn\u001b[39;00m ie_result\n",
      "File \u001b[0;32m/home/zeus/miniconda3/envs/cloudspace/lib/python3.10/site-packages/yt_dlp/YoutubeDL.py:1868\u001b[0m, in \u001b[0;36mYoutubeDL.process_ie_result\u001b[0;34m(self, ie_result, download, extra_info)\u001b[0m\n\u001b[1;32m   1866\u001b[0m \u001b[38;5;28;01mif\u001b[39;00m result_type \u001b[38;5;241m==\u001b[39m \u001b[38;5;124m'\u001b[39m\u001b[38;5;124mvideo\u001b[39m\u001b[38;5;124m'\u001b[39m:\n\u001b[1;32m   1867\u001b[0m     \u001b[38;5;28mself\u001b[39m\u001b[38;5;241m.\u001b[39madd_extra_info(ie_result, extra_info)\n\u001b[0;32m-> 1868\u001b[0m     ie_result \u001b[38;5;241m=\u001b[39m \u001b[38;5;28;43mself\u001b[39;49m\u001b[38;5;241;43m.\u001b[39;49m\u001b[43mprocess_video_result\u001b[49m\u001b[43m(\u001b[49m\u001b[43mie_result\u001b[49m\u001b[43m,\u001b[49m\u001b[43m \u001b[49m\u001b[43mdownload\u001b[49m\u001b[38;5;241;43m=\u001b[39;49m\u001b[43mdownload\u001b[49m\u001b[43m)\u001b[49m\n\u001b[1;32m   1869\u001b[0m     \u001b[38;5;28mself\u001b[39m\u001b[38;5;241m.\u001b[39m_raise_pending_errors(ie_result)\n\u001b[1;32m   1870\u001b[0m     additional_urls \u001b[38;5;241m=\u001b[39m (ie_result \u001b[38;5;129;01mor\u001b[39;00m {})\u001b[38;5;241m.\u001b[39mget(\u001b[38;5;124m'\u001b[39m\u001b[38;5;124madditional_urls\u001b[39m\u001b[38;5;124m'\u001b[39m)\n",
      "File \u001b[0;32m/home/zeus/miniconda3/envs/cloudspace/lib/python3.10/site-packages/yt_dlp/YoutubeDL.py:3040\u001b[0m, in \u001b[0;36mYoutubeDL.process_video_result\u001b[0;34m(self, info_dict, download)\u001b[0m\n\u001b[1;32m   3038\u001b[0m downloaded_formats\u001b[38;5;241m.\u001b[39mappend(new_info)\n\u001b[1;32m   3039\u001b[0m \u001b[38;5;28;01mtry\u001b[39;00m:\n\u001b[0;32m-> 3040\u001b[0m     \u001b[38;5;28;43mself\u001b[39;49m\u001b[38;5;241;43m.\u001b[39;49m\u001b[43mprocess_info\u001b[49m\u001b[43m(\u001b[49m\u001b[43mnew_info\u001b[49m\u001b[43m)\u001b[49m\n\u001b[1;32m   3041\u001b[0m \u001b[38;5;28;01mexcept\u001b[39;00m MaxDownloadsReached:\n\u001b[1;32m   3042\u001b[0m     max_downloads_reached \u001b[38;5;241m=\u001b[39m \u001b[38;5;28;01mTrue\u001b[39;00m\n",
      "File \u001b[0;32m/home/zeus/miniconda3/envs/cloudspace/lib/python3.10/site-packages/yt_dlp/YoutubeDL.py:185\u001b[0m, in \u001b[0;36m_catch_unsafe_extension_error.<locals>.wrapper\u001b[0;34m(self, *args, **kwargs)\u001b[0m\n\u001b[1;32m    182\u001b[0m \u001b[38;5;129m@functools\u001b[39m\u001b[38;5;241m.\u001b[39mwraps(func)\n\u001b[1;32m    183\u001b[0m \u001b[38;5;28;01mdef\u001b[39;00m\u001b[38;5;250m \u001b[39m\u001b[38;5;21mwrapper\u001b[39m(\u001b[38;5;28mself\u001b[39m, \u001b[38;5;241m*\u001b[39margs, \u001b[38;5;241m*\u001b[39m\u001b[38;5;241m*\u001b[39mkwargs):\n\u001b[1;32m    184\u001b[0m     \u001b[38;5;28;01mtry\u001b[39;00m:\n\u001b[0;32m--> 185\u001b[0m         \u001b[38;5;28;01mreturn\u001b[39;00m \u001b[43mfunc\u001b[49m\u001b[43m(\u001b[49m\u001b[38;5;28;43mself\u001b[39;49m\u001b[43m,\u001b[49m\u001b[43m \u001b[49m\u001b[38;5;241;43m*\u001b[39;49m\u001b[43margs\u001b[49m\u001b[43m,\u001b[49m\u001b[43m \u001b[49m\u001b[38;5;241;43m*\u001b[39;49m\u001b[38;5;241;43m*\u001b[39;49m\u001b[43mkwargs\u001b[49m\u001b[43m)\u001b[49m\n\u001b[1;32m    186\u001b[0m     \u001b[38;5;28;01mexcept\u001b[39;00m _UnsafeExtensionError \u001b[38;5;28;01mas\u001b[39;00m error:\n\u001b[1;32m    187\u001b[0m         \u001b[38;5;28mself\u001b[39m\u001b[38;5;241m.\u001b[39mreport_error(\n\u001b[1;32m    188\u001b[0m             \u001b[38;5;124mf\u001b[39m\u001b[38;5;124m'\u001b[39m\u001b[38;5;124mThe extracted extension (\u001b[39m\u001b[38;5;132;01m{\u001b[39;00merror\u001b[38;5;241m.\u001b[39mextension\u001b[38;5;132;01m!r}\u001b[39;00m\u001b[38;5;124m) is unusual \u001b[39m\u001b[38;5;124m'\u001b[39m\n\u001b[1;32m    189\u001b[0m             \u001b[38;5;124m'\u001b[39m\u001b[38;5;124mand will be skipped for safety reasons. \u001b[39m\u001b[38;5;124m'\u001b[39m\n\u001b[1;32m    190\u001b[0m             \u001b[38;5;124mf\u001b[39m\u001b[38;5;124m'\u001b[39m\u001b[38;5;124mIf you believe this is an error\u001b[39m\u001b[38;5;132;01m{\u001b[39;00mbug_reports_message(\u001b[38;5;124m\"\u001b[39m\u001b[38;5;124m,\u001b[39m\u001b[38;5;124m\"\u001b[39m)\u001b[38;5;132;01m}\u001b[39;00m\u001b[38;5;124m'\u001b[39m)\n",
      "File \u001b[0;32m/home/zeus/miniconda3/envs/cloudspace/lib/python3.10/site-packages/yt_dlp/YoutubeDL.py:3508\u001b[0m, in \u001b[0;36mYoutubeDL.process_info\u001b[0;34m(self, info_dict)\u001b[0m\n\u001b[1;32m   3504\u001b[0m dl_filename \u001b[38;5;241m=\u001b[39m existing_video_file(full_filename, temp_filename)\n\u001b[1;32m   3505\u001b[0m \u001b[38;5;28;01mif\u001b[39;00m dl_filename \u001b[38;5;129;01mis\u001b[39;00m \u001b[38;5;28;01mNone\u001b[39;00m \u001b[38;5;129;01mor\u001b[39;00m dl_filename \u001b[38;5;241m==\u001b[39m temp_filename:\n\u001b[1;32m   3506\u001b[0m     \u001b[38;5;66;03m# dl_filename == temp_filename could mean that the file was partially downloaded with --no-part.\u001b[39;00m\n\u001b[1;32m   3507\u001b[0m     \u001b[38;5;66;03m# So we should try to resume the download\u001b[39;00m\n\u001b[0;32m-> 3508\u001b[0m     success, real_download \u001b[38;5;241m=\u001b[39m \u001b[38;5;28;43mself\u001b[39;49m\u001b[38;5;241;43m.\u001b[39;49m\u001b[43mdl\u001b[49m\u001b[43m(\u001b[49m\u001b[43mtemp_filename\u001b[49m\u001b[43m,\u001b[49m\u001b[43m \u001b[49m\u001b[43minfo_dict\u001b[49m\u001b[43m)\u001b[49m\n\u001b[1;32m   3509\u001b[0m     info_dict[\u001b[38;5;124m'\u001b[39m\u001b[38;5;124m__real_download\u001b[39m\u001b[38;5;124m'\u001b[39m] \u001b[38;5;241m=\u001b[39m real_download\n\u001b[1;32m   3510\u001b[0m \u001b[38;5;28;01melse\u001b[39;00m:\n",
      "File \u001b[0;32m/home/zeus/miniconda3/envs/cloudspace/lib/python3.10/site-packages/yt_dlp/YoutubeDL.py:3228\u001b[0m, in \u001b[0;36mYoutubeDL.dl\u001b[0;34m(self, name, info, subtitle, test)\u001b[0m\n\u001b[1;32m   3226\u001b[0m \u001b[38;5;28;01mif\u001b[39;00m new_info\u001b[38;5;241m.\u001b[39mget(\u001b[38;5;124m'\u001b[39m\u001b[38;5;124mhttp_headers\u001b[39m\u001b[38;5;124m'\u001b[39m) \u001b[38;5;129;01mis\u001b[39;00m \u001b[38;5;28;01mNone\u001b[39;00m:\n\u001b[1;32m   3227\u001b[0m     new_info[\u001b[38;5;124m'\u001b[39m\u001b[38;5;124mhttp_headers\u001b[39m\u001b[38;5;124m'\u001b[39m] \u001b[38;5;241m=\u001b[39m \u001b[38;5;28mself\u001b[39m\u001b[38;5;241m.\u001b[39m_calc_headers(new_info)\n\u001b[0;32m-> 3228\u001b[0m \u001b[38;5;28;01mreturn\u001b[39;00m \u001b[43mfd\u001b[49m\u001b[38;5;241;43m.\u001b[39;49m\u001b[43mdownload\u001b[49m\u001b[43m(\u001b[49m\u001b[43mname\u001b[49m\u001b[43m,\u001b[49m\u001b[43m \u001b[49m\u001b[43mnew_info\u001b[49m\u001b[43m,\u001b[49m\u001b[43m \u001b[49m\u001b[43msubtitle\u001b[49m\u001b[43m)\u001b[49m\n",
      "File \u001b[0;32m/home/zeus/miniconda3/envs/cloudspace/lib/python3.10/site-packages/yt_dlp/downloader/common.py:468\u001b[0m, in \u001b[0;36mFileDownloader.download\u001b[0;34m(self, filename, info_dict, subtitle)\u001b[0m\n\u001b[1;32m    465\u001b[0m     \u001b[38;5;28mself\u001b[39m\u001b[38;5;241m.\u001b[39mto_screen(\u001b[38;5;124mf\u001b[39m\u001b[38;5;124m'\u001b[39m\u001b[38;5;124m[download] Sleeping \u001b[39m\u001b[38;5;132;01m{\u001b[39;00msleep_interval\u001b[38;5;132;01m:\u001b[39;00m\u001b[38;5;124m.2f\u001b[39m\u001b[38;5;132;01m}\u001b[39;00m\u001b[38;5;124m seconds ...\u001b[39m\u001b[38;5;124m'\u001b[39m)\n\u001b[1;32m    466\u001b[0m     time\u001b[38;5;241m.\u001b[39msleep(sleep_interval)\n\u001b[0;32m--> 468\u001b[0m ret \u001b[38;5;241m=\u001b[39m \u001b[38;5;28;43mself\u001b[39;49m\u001b[38;5;241;43m.\u001b[39;49m\u001b[43mreal_download\u001b[49m\u001b[43m(\u001b[49m\u001b[43mfilename\u001b[49m\u001b[43m,\u001b[49m\u001b[43m \u001b[49m\u001b[43minfo_dict\u001b[49m\u001b[43m)\u001b[49m\n\u001b[1;32m    469\u001b[0m \u001b[38;5;28mself\u001b[39m\u001b[38;5;241m.\u001b[39m_finish_multiline_status()\n\u001b[1;32m    470\u001b[0m \u001b[38;5;28;01mreturn\u001b[39;00m ret, \u001b[38;5;28;01mTrue\u001b[39;00m\n",
      "File \u001b[0;32m/home/zeus/miniconda3/envs/cloudspace/lib/python3.10/site-packages/yt_dlp/downloader/hls.py:402\u001b[0m, in \u001b[0;36mHlsFD.real_download\u001b[0;34m(self, filename, info_dict)\u001b[0m\n\u001b[1;32m    399\u001b[0m         \u001b[38;5;28mself\u001b[39m\u001b[38;5;241m.\u001b[39mdownload_and_append_fragments(\n\u001b[1;32m    400\u001b[0m             ctx, fragments, info_dict, pack_func\u001b[38;5;241m=\u001b[39mpack_fragment, finish_func\u001b[38;5;241m=\u001b[39mfin_fragments)\n\u001b[1;32m    401\u001b[0m \u001b[38;5;28;01melse\u001b[39;00m:\n\u001b[0;32m--> 402\u001b[0m     \u001b[38;5;28;01mreturn\u001b[39;00m \u001b[38;5;28;43mself\u001b[39;49m\u001b[38;5;241;43m.\u001b[39;49m\u001b[43mdownload_and_append_fragments\u001b[49m\u001b[43m(\u001b[49m\u001b[43mctx\u001b[49m\u001b[43m,\u001b[49m\u001b[43m \u001b[49m\u001b[43mfragments\u001b[49m\u001b[43m,\u001b[49m\u001b[43m \u001b[49m\u001b[43minfo_dict\u001b[49m\u001b[43m)\u001b[49m\n",
      "File \u001b[0;32m/home/zeus/miniconda3/envs/cloudspace/lib/python3.10/site-packages/yt_dlp/downloader/fragment.py:513\u001b[0m, in \u001b[0;36mFragmentFD.download_and_append_fragments\u001b[0;34m(self, ctx, fragments, info_dict, is_fatal, pack_func, finish_func, tpe, interrupt_trigger)\u001b[0m\n\u001b[1;32m    511\u001b[0m     \u001b[38;5;28;01mbreak\u001b[39;00m\n\u001b[1;32m    512\u001b[0m \u001b[38;5;28;01mtry\u001b[39;00m:\n\u001b[0;32m--> 513\u001b[0m     \u001b[43mdownload_fragment\u001b[49m\u001b[43m(\u001b[49m\u001b[43mfragment\u001b[49m\u001b[43m,\u001b[49m\u001b[43m \u001b[49m\u001b[43mctx\u001b[49m\u001b[43m)\u001b[49m\n\u001b[1;32m    514\u001b[0m     result \u001b[38;5;241m=\u001b[39m append_fragment(\n\u001b[1;32m    515\u001b[0m         decrypt_fragment(fragment, \u001b[38;5;28mself\u001b[39m\u001b[38;5;241m.\u001b[39m_read_fragment(ctx)), fragment[\u001b[38;5;124m'\u001b[39m\u001b[38;5;124mfrag_index\u001b[39m\u001b[38;5;124m'\u001b[39m], ctx)\n\u001b[1;32m    516\u001b[0m \u001b[38;5;28;01mexcept\u001b[39;00m \u001b[38;5;167;01mKeyboardInterrupt\u001b[39;00m:\n",
      "File \u001b[0;32m/home/zeus/miniconda3/envs/cloudspace/lib/python3.10/site-packages/yt_dlp/downloader/fragment.py:462\u001b[0m, in \u001b[0;36mFragmentFD.download_and_append_fragments.<locals>.download_fragment\u001b[0;34m(fragment, ctx)\u001b[0m\n\u001b[1;32m    460\u001b[0m \u001b[38;5;28;01mtry\u001b[39;00m:\n\u001b[1;32m    461\u001b[0m     ctx[\u001b[38;5;124m'\u001b[39m\u001b[38;5;124mfragment_count\u001b[39m\u001b[38;5;124m'\u001b[39m] \u001b[38;5;241m=\u001b[39m fragment\u001b[38;5;241m.\u001b[39mget(\u001b[38;5;124m'\u001b[39m\u001b[38;5;124mfragment_count\u001b[39m\u001b[38;5;124m'\u001b[39m)\n\u001b[0;32m--> 462\u001b[0m     \u001b[38;5;28;01mif\u001b[39;00m \u001b[38;5;129;01mnot\u001b[39;00m \u001b[38;5;28;43mself\u001b[39;49m\u001b[38;5;241;43m.\u001b[39;49m\u001b[43m_download_fragment\u001b[49m\u001b[43m(\u001b[49m\n\u001b[1;32m    463\u001b[0m \u001b[43m            \u001b[49m\u001b[43mctx\u001b[49m\u001b[43m,\u001b[49m\u001b[43m \u001b[49m\u001b[43mfragment\u001b[49m\u001b[43m[\u001b[49m\u001b[38;5;124;43m'\u001b[39;49m\u001b[38;5;124;43murl\u001b[39;49m\u001b[38;5;124;43m'\u001b[39;49m\u001b[43m]\u001b[49m\u001b[43m,\u001b[49m\u001b[43m \u001b[49m\u001b[43minfo_dict\u001b[49m\u001b[43m,\u001b[49m\u001b[43m \u001b[49m\u001b[43mheaders\u001b[49m\u001b[43m,\u001b[49m\u001b[43m \u001b[49m\u001b[43minfo_dict\u001b[49m\u001b[38;5;241;43m.\u001b[39;49m\u001b[43mget\u001b[49m\u001b[43m(\u001b[49m\u001b[38;5;124;43m'\u001b[39;49m\u001b[38;5;124;43mrequest_data\u001b[39;49m\u001b[38;5;124;43m'\u001b[39;49m\u001b[43m)\u001b[49m\u001b[43m)\u001b[49m:\n\u001b[1;32m    464\u001b[0m         \u001b[38;5;28;01mreturn\u001b[39;00m\n\u001b[1;32m    465\u001b[0m \u001b[38;5;28;01mexcept\u001b[39;00m (HTTPError, IncompleteRead) \u001b[38;5;28;01mas\u001b[39;00m err:\n",
      "File \u001b[0;32m/home/zeus/miniconda3/envs/cloudspace/lib/python3.10/site-packages/yt_dlp/downloader/fragment.py:124\u001b[0m, in \u001b[0;36mFragmentFD._download_fragment\u001b[0;34m(self, ctx, frag_url, info_dict, headers, request_data)\u001b[0m\n\u001b[1;32m    121\u001b[0m     frag_resume_len \u001b[38;5;241m=\u001b[39m \u001b[38;5;28mself\u001b[39m\u001b[38;5;241m.\u001b[39mfilesize_or_none(\u001b[38;5;28mself\u001b[39m\u001b[38;5;241m.\u001b[39mtemp_name(fragment_filename))\n\u001b[1;32m    122\u001b[0m fragment_info_dict[\u001b[38;5;124m'\u001b[39m\u001b[38;5;124mfrag_resume_len\u001b[39m\u001b[38;5;124m'\u001b[39m] \u001b[38;5;241m=\u001b[39m ctx[\u001b[38;5;124m'\u001b[39m\u001b[38;5;124mfrag_resume_len\u001b[39m\u001b[38;5;124m'\u001b[39m] \u001b[38;5;241m=\u001b[39m frag_resume_len\n\u001b[0;32m--> 124\u001b[0m success, _ \u001b[38;5;241m=\u001b[39m \u001b[43mctx\u001b[49m\u001b[43m[\u001b[49m\u001b[38;5;124;43m'\u001b[39;49m\u001b[38;5;124;43mdl\u001b[39;49m\u001b[38;5;124;43m'\u001b[39;49m\u001b[43m]\u001b[49m\u001b[38;5;241;43m.\u001b[39;49m\u001b[43mdownload\u001b[49m\u001b[43m(\u001b[49m\u001b[43mfragment_filename\u001b[49m\u001b[43m,\u001b[49m\u001b[43m \u001b[49m\u001b[43mfragment_info_dict\u001b[49m\u001b[43m)\u001b[49m\n\u001b[1;32m    125\u001b[0m \u001b[38;5;28;01mif\u001b[39;00m \u001b[38;5;129;01mnot\u001b[39;00m success:\n\u001b[1;32m    126\u001b[0m     \u001b[38;5;28;01mreturn\u001b[39;00m \u001b[38;5;28;01mFalse\u001b[39;00m\n",
      "File \u001b[0;32m/home/zeus/miniconda3/envs/cloudspace/lib/python3.10/site-packages/yt_dlp/downloader/common.py:468\u001b[0m, in \u001b[0;36mFileDownloader.download\u001b[0;34m(self, filename, info_dict, subtitle)\u001b[0m\n\u001b[1;32m    465\u001b[0m     \u001b[38;5;28mself\u001b[39m\u001b[38;5;241m.\u001b[39mto_screen(\u001b[38;5;124mf\u001b[39m\u001b[38;5;124m'\u001b[39m\u001b[38;5;124m[download] Sleeping \u001b[39m\u001b[38;5;132;01m{\u001b[39;00msleep_interval\u001b[38;5;132;01m:\u001b[39;00m\u001b[38;5;124m.2f\u001b[39m\u001b[38;5;132;01m}\u001b[39;00m\u001b[38;5;124m seconds ...\u001b[39m\u001b[38;5;124m'\u001b[39m)\n\u001b[1;32m    466\u001b[0m     time\u001b[38;5;241m.\u001b[39msleep(sleep_interval)\n\u001b[0;32m--> 468\u001b[0m ret \u001b[38;5;241m=\u001b[39m \u001b[38;5;28;43mself\u001b[39;49m\u001b[38;5;241;43m.\u001b[39;49m\u001b[43mreal_download\u001b[49m\u001b[43m(\u001b[49m\u001b[43mfilename\u001b[49m\u001b[43m,\u001b[49m\u001b[43m \u001b[49m\u001b[43minfo_dict\u001b[49m\u001b[43m)\u001b[49m\n\u001b[1;32m    469\u001b[0m \u001b[38;5;28mself\u001b[39m\u001b[38;5;241m.\u001b[39m_finish_multiline_status()\n\u001b[1;32m    470\u001b[0m \u001b[38;5;28;01mreturn\u001b[39;00m ret, \u001b[38;5;28;01mTrue\u001b[39;00m\n",
      "File \u001b[0;32m/home/zeus/miniconda3/envs/cloudspace/lib/python3.10/site-packages/yt_dlp/downloader/http.py:368\u001b[0m, in \u001b[0;36mHttpFD.real_download\u001b[0;34m(self, filename, info_dict)\u001b[0m\n\u001b[1;32m    366\u001b[0m \u001b[38;5;28;01mtry\u001b[39;00m:\n\u001b[1;32m    367\u001b[0m     establish_connection()\n\u001b[0;32m--> 368\u001b[0m     \u001b[38;5;28;01mreturn\u001b[39;00m \u001b[43mdownload\u001b[49m\u001b[43m(\u001b[49m\u001b[43m)\u001b[49m\n\u001b[1;32m    369\u001b[0m \u001b[38;5;28;01mexcept\u001b[39;00m RetryDownload \u001b[38;5;28;01mas\u001b[39;00m err:\n\u001b[1;32m    370\u001b[0m     retry\u001b[38;5;241m.\u001b[39merror \u001b[38;5;241m=\u001b[39m err\u001b[38;5;241m.\u001b[39msource_error\n",
      "File \u001b[0;32m/home/zeus/miniconda3/envs/cloudspace/lib/python3.10/site-packages/yt_dlp/downloader/http.py:305\u001b[0m, in \u001b[0;36mHttpFD.real_download.<locals>.download\u001b[0;34m()\u001b[0m\n\u001b[1;32m    302\u001b[0m \u001b[38;5;28;01melse\u001b[39;00m:\n\u001b[1;32m    303\u001b[0m     eta \u001b[38;5;241m=\u001b[39m \u001b[38;5;28mself\u001b[39m\u001b[38;5;241m.\u001b[39mcalc_eta(start, time\u001b[38;5;241m.\u001b[39mtime(), ctx\u001b[38;5;241m.\u001b[39mdata_len \u001b[38;5;241m-\u001b[39m ctx\u001b[38;5;241m.\u001b[39mresume_len, byte_counter \u001b[38;5;241m-\u001b[39m ctx\u001b[38;5;241m.\u001b[39mresume_len)\n\u001b[0;32m--> 305\u001b[0m \u001b[38;5;28;43mself\u001b[39;49m\u001b[38;5;241;43m.\u001b[39;49m\u001b[43m_hook_progress\u001b[49m\u001b[43m(\u001b[49m\u001b[43m{\u001b[49m\n\u001b[1;32m    306\u001b[0m \u001b[43m    \u001b[49m\u001b[38;5;124;43m'\u001b[39;49m\u001b[38;5;124;43mstatus\u001b[39;49m\u001b[38;5;124;43m'\u001b[39;49m\u001b[43m:\u001b[49m\u001b[43m \u001b[49m\u001b[38;5;124;43m'\u001b[39;49m\u001b[38;5;124;43mdownloading\u001b[39;49m\u001b[38;5;124;43m'\u001b[39;49m\u001b[43m,\u001b[49m\n\u001b[1;32m    307\u001b[0m \u001b[43m    \u001b[49m\u001b[38;5;124;43m'\u001b[39;49m\u001b[38;5;124;43mdownloaded_bytes\u001b[39;49m\u001b[38;5;124;43m'\u001b[39;49m\u001b[43m:\u001b[49m\u001b[43m \u001b[49m\u001b[43mbyte_counter\u001b[49m\u001b[43m,\u001b[49m\n\u001b[1;32m    308\u001b[0m \u001b[43m    \u001b[49m\u001b[38;5;124;43m'\u001b[39;49m\u001b[38;5;124;43mtotal_bytes\u001b[39;49m\u001b[38;5;124;43m'\u001b[39;49m\u001b[43m:\u001b[49m\u001b[43m \u001b[49m\u001b[43mctx\u001b[49m\u001b[38;5;241;43m.\u001b[39;49m\u001b[43mdata_len\u001b[49m\u001b[43m,\u001b[49m\n\u001b[1;32m    309\u001b[0m \u001b[43m    \u001b[49m\u001b[38;5;124;43m'\u001b[39;49m\u001b[38;5;124;43mtmpfilename\u001b[39;49m\u001b[38;5;124;43m'\u001b[39;49m\u001b[43m:\u001b[49m\u001b[43m \u001b[49m\u001b[43mctx\u001b[49m\u001b[38;5;241;43m.\u001b[39;49m\u001b[43mtmpfilename\u001b[49m\u001b[43m,\u001b[49m\n\u001b[1;32m    310\u001b[0m \u001b[43m    \u001b[49m\u001b[38;5;124;43m'\u001b[39;49m\u001b[38;5;124;43mfilename\u001b[39;49m\u001b[38;5;124;43m'\u001b[39;49m\u001b[43m:\u001b[49m\u001b[43m \u001b[49m\u001b[43mctx\u001b[49m\u001b[38;5;241;43m.\u001b[39;49m\u001b[43mfilename\u001b[49m\u001b[43m,\u001b[49m\n\u001b[1;32m    311\u001b[0m \u001b[43m    \u001b[49m\u001b[38;5;124;43m'\u001b[39;49m\u001b[38;5;124;43meta\u001b[39;49m\u001b[38;5;124;43m'\u001b[39;49m\u001b[43m:\u001b[49m\u001b[43m \u001b[49m\u001b[43meta\u001b[49m\u001b[43m,\u001b[49m\n\u001b[1;32m    312\u001b[0m \u001b[43m    \u001b[49m\u001b[38;5;124;43m'\u001b[39;49m\u001b[38;5;124;43mspeed\u001b[39;49m\u001b[38;5;124;43m'\u001b[39;49m\u001b[43m:\u001b[49m\u001b[43m \u001b[49m\u001b[43mspeed\u001b[49m\u001b[43m,\u001b[49m\n\u001b[1;32m    313\u001b[0m \u001b[43m    \u001b[49m\u001b[38;5;124;43m'\u001b[39;49m\u001b[38;5;124;43melapsed\u001b[39;49m\u001b[38;5;124;43m'\u001b[39;49m\u001b[43m:\u001b[49m\u001b[43m \u001b[49m\u001b[43mnow\u001b[49m\u001b[43m \u001b[49m\u001b[38;5;241;43m-\u001b[39;49m\u001b[43m \u001b[49m\u001b[43mctx\u001b[49m\u001b[38;5;241;43m.\u001b[39;49m\u001b[43mstart_time\u001b[49m\u001b[43m,\u001b[49m\n\u001b[1;32m    314\u001b[0m \u001b[43m    \u001b[49m\u001b[38;5;124;43m'\u001b[39;49m\u001b[38;5;124;43mctx_id\u001b[39;49m\u001b[38;5;124;43m'\u001b[39;49m\u001b[43m:\u001b[49m\u001b[43m \u001b[49m\u001b[43minfo_dict\u001b[49m\u001b[38;5;241;43m.\u001b[39;49m\u001b[43mget\u001b[49m\u001b[43m(\u001b[49m\u001b[38;5;124;43m'\u001b[39;49m\u001b[38;5;124;43mctx_id\u001b[39;49m\u001b[38;5;124;43m'\u001b[39;49m\u001b[43m)\u001b[49m\u001b[43m,\u001b[49m\n\u001b[1;32m    315\u001b[0m \u001b[43m\u001b[49m\u001b[43m}\u001b[49m\u001b[43m,\u001b[49m\u001b[43m \u001b[49m\u001b[43minfo_dict\u001b[49m\u001b[43m)\u001b[49m\n\u001b[1;32m    317\u001b[0m \u001b[38;5;28;01mif\u001b[39;00m data_len \u001b[38;5;129;01mis\u001b[39;00m \u001b[38;5;129;01mnot\u001b[39;00m \u001b[38;5;28;01mNone\u001b[39;00m \u001b[38;5;129;01mand\u001b[39;00m byte_counter \u001b[38;5;241m==\u001b[39m data_len:\n\u001b[1;32m    318\u001b[0m     \u001b[38;5;28;01mbreak\u001b[39;00m\n",
      "File \u001b[0;32m/home/zeus/miniconda3/envs/cloudspace/lib/python3.10/site-packages/yt_dlp/downloader/common.py:483\u001b[0m, in \u001b[0;36mFileDownloader._hook_progress\u001b[0;34m(self, status, info_dict)\u001b[0m\n\u001b[1;32m    479\u001b[0m \u001b[38;5;66;03m# youtube-dl passes the same status object to all the hooks.\u001b[39;00m\n\u001b[1;32m    480\u001b[0m \u001b[38;5;66;03m# Some third party scripts seems to be relying on this.\u001b[39;00m\n\u001b[1;32m    481\u001b[0m \u001b[38;5;66;03m# So keep this behavior if possible\u001b[39;00m\n\u001b[1;32m    482\u001b[0m \u001b[38;5;28;01mfor\u001b[39;00m ph \u001b[38;5;129;01min\u001b[39;00m \u001b[38;5;28mself\u001b[39m\u001b[38;5;241m.\u001b[39m_progress_hooks:\n\u001b[0;32m--> 483\u001b[0m     \u001b[43mph\u001b[49m\u001b[43m(\u001b[49m\u001b[43mstatus\u001b[49m\u001b[43m)\u001b[49m\n",
      "File \u001b[0;32m/home/zeus/miniconda3/envs/cloudspace/lib/python3.10/site-packages/yt_dlp/downloader/fragment.py:279\u001b[0m, in \u001b[0;36mFragmentFD._start_frag_download.<locals>.frag_progress_hook\u001b[0;34m(s)\u001b[0m\n\u001b[1;32m    276\u001b[0m state[\u001b[38;5;124m'\u001b[39m\u001b[38;5;124mspeed\u001b[39m\u001b[38;5;124m'\u001b[39m] \u001b[38;5;241m=\u001b[39m ctx[\u001b[38;5;124m'\u001b[39m\u001b[38;5;124mspeed\u001b[39m\u001b[38;5;124m'\u001b[39m] \u001b[38;5;241m=\u001b[39m progress\u001b[38;5;241m.\u001b[39mspeed\u001b[38;5;241m.\u001b[39msmooth\n\u001b[1;32m    277\u001b[0m state[\u001b[38;5;124m'\u001b[39m\u001b[38;5;124meta\u001b[39m\u001b[38;5;124m'\u001b[39m] \u001b[38;5;241m=\u001b[39m progress\u001b[38;5;241m.\u001b[39meta\u001b[38;5;241m.\u001b[39msmooth\n\u001b[0;32m--> 279\u001b[0m \u001b[38;5;28;43mself\u001b[39;49m\u001b[38;5;241;43m.\u001b[39;49m\u001b[43m_hook_progress\u001b[49m\u001b[43m(\u001b[49m\u001b[43mstate\u001b[49m\u001b[43m,\u001b[49m\u001b[43m \u001b[49m\u001b[43minfo_dict\u001b[49m\u001b[43m)\u001b[49m\n",
      "File \u001b[0;32m/home/zeus/miniconda3/envs/cloudspace/lib/python3.10/site-packages/yt_dlp/downloader/common.py:483\u001b[0m, in \u001b[0;36mFileDownloader._hook_progress\u001b[0;34m(self, status, info_dict)\u001b[0m\n\u001b[1;32m    479\u001b[0m \u001b[38;5;66;03m# youtube-dl passes the same status object to all the hooks.\u001b[39;00m\n\u001b[1;32m    480\u001b[0m \u001b[38;5;66;03m# Some third party scripts seems to be relying on this.\u001b[39;00m\n\u001b[1;32m    481\u001b[0m \u001b[38;5;66;03m# So keep this behavior if possible\u001b[39;00m\n\u001b[1;32m    482\u001b[0m \u001b[38;5;28;01mfor\u001b[39;00m ph \u001b[38;5;129;01min\u001b[39;00m \u001b[38;5;28mself\u001b[39m\u001b[38;5;241m.\u001b[39m_progress_hooks:\n\u001b[0;32m--> 483\u001b[0m     \u001b[43mph\u001b[49m\u001b[43m(\u001b[49m\u001b[43mstatus\u001b[49m\u001b[43m)\u001b[49m\n",
      "File \u001b[0;32m/home/zeus/miniconda3/envs/cloudspace/lib/python3.10/site-packages/yt_dlp/downloader/common.py:405\u001b[0m, in \u001b[0;36mFileDownloader.report_progress\u001b[0;34m(self, s)\u001b[0m\n\u001b[1;32m    395\u001b[0m msg_template \u001b[38;5;241m=\u001b[39m with_fields(\n\u001b[1;32m    396\u001b[0m     (\u001b[38;5;124m'\u001b[39m\u001b[38;5;124mtotal_bytes\u001b[39m\u001b[38;5;124m'\u001b[39m, \u001b[38;5;124m'\u001b[39m\u001b[38;5;132;01m%(_percent_str)s\u001b[39;00m\u001b[38;5;124m of \u001b[39m\u001b[38;5;132;01m%(_total_bytes_str)s\u001b[39;00m\u001b[38;5;124m at \u001b[39m\u001b[38;5;132;01m%(_speed_str)s\u001b[39;00m\u001b[38;5;124m ETA \u001b[39m\u001b[38;5;132;01m%(_eta_str)s\u001b[39;00m\u001b[38;5;124m'\u001b[39m),\n\u001b[1;32m    397\u001b[0m     (\u001b[38;5;124m'\u001b[39m\u001b[38;5;124mtotal_bytes_estimate\u001b[39m\u001b[38;5;124m'\u001b[39m, \u001b[38;5;124m'\u001b[39m\u001b[38;5;132;01m%(_percent_str)s\u001b[39;00m\u001b[38;5;124m of ~\u001b[39m\u001b[38;5;132;01m%(_total_bytes_estimate_str)s\u001b[39;00m\u001b[38;5;124m at \u001b[39m\u001b[38;5;132;01m%(_speed_str)s\u001b[39;00m\u001b[38;5;124m ETA \u001b[39m\u001b[38;5;132;01m%(_eta_str)s\u001b[39;00m\u001b[38;5;124m'\u001b[39m),\n\u001b[1;32m    398\u001b[0m     (\u001b[38;5;124m'\u001b[39m\u001b[38;5;124mdownloaded_bytes\u001b[39m\u001b[38;5;124m'\u001b[39m, \u001b[38;5;124m'\u001b[39m\u001b[38;5;124melapsed\u001b[39m\u001b[38;5;124m'\u001b[39m, \u001b[38;5;124m'\u001b[39m\u001b[38;5;132;01m%(_downloaded_bytes_str)s\u001b[39;00m\u001b[38;5;124m at \u001b[39m\u001b[38;5;132;01m%(_speed_str)s\u001b[39;00m\u001b[38;5;124m (\u001b[39m\u001b[38;5;132;01m%(_elapsed_str)s\u001b[39;00m\u001b[38;5;124m)\u001b[39m\u001b[38;5;124m'\u001b[39m),\n\u001b[1;32m    399\u001b[0m     (\u001b[38;5;124m'\u001b[39m\u001b[38;5;124mdownloaded_bytes\u001b[39m\u001b[38;5;124m'\u001b[39m, \u001b[38;5;124m'\u001b[39m\u001b[38;5;132;01m%(_downloaded_bytes_str)s\u001b[39;00m\u001b[38;5;124m at \u001b[39m\u001b[38;5;132;01m%(_speed_str)s\u001b[39;00m\u001b[38;5;124m'\u001b[39m),\n\u001b[1;32m    400\u001b[0m     default\u001b[38;5;241m=\u001b[39m\u001b[38;5;124m'\u001b[39m\u001b[38;5;132;01m%(_percent_str)s\u001b[39;00m\u001b[38;5;124m at \u001b[39m\u001b[38;5;132;01m%(_speed_str)s\u001b[39;00m\u001b[38;5;124m ETA \u001b[39m\u001b[38;5;132;01m%(_eta_str)s\u001b[39;00m\u001b[38;5;124m'\u001b[39m)\n\u001b[1;32m    402\u001b[0m msg_template \u001b[38;5;241m+\u001b[39m\u001b[38;5;241m=\u001b[39m with_fields(\n\u001b[1;32m    403\u001b[0m     (\u001b[38;5;124m'\u001b[39m\u001b[38;5;124mfragment_index\u001b[39m\u001b[38;5;124m'\u001b[39m, \u001b[38;5;124m'\u001b[39m\u001b[38;5;124mfragment_count\u001b[39m\u001b[38;5;124m'\u001b[39m, \u001b[38;5;124m'\u001b[39m\u001b[38;5;124m (frag \u001b[39m\u001b[38;5;132;01m%(fragment_index)s\u001b[39;00m\u001b[38;5;124m/\u001b[39m\u001b[38;5;132;01m%(fragment_count)s\u001b[39;00m\u001b[38;5;124m)\u001b[39m\u001b[38;5;124m'\u001b[39m),\n\u001b[1;32m    404\u001b[0m     (\u001b[38;5;124m'\u001b[39m\u001b[38;5;124mfragment_index\u001b[39m\u001b[38;5;124m'\u001b[39m, \u001b[38;5;124m'\u001b[39m\u001b[38;5;124m (frag \u001b[39m\u001b[38;5;132;01m%(fragment_index)s\u001b[39;00m\u001b[38;5;124m)\u001b[39m\u001b[38;5;124m'\u001b[39m))\n\u001b[0;32m--> 405\u001b[0m \u001b[38;5;28;43mself\u001b[39;49m\u001b[38;5;241;43m.\u001b[39;49m\u001b[43m_report_progress_status\u001b[49m\u001b[43m(\u001b[49m\u001b[43ms\u001b[49m\u001b[43m,\u001b[49m\u001b[43m \u001b[49m\u001b[43mmsg_template\u001b[49m\u001b[43m)\u001b[49m\n",
      "File \u001b[0;32m/home/zeus/miniconda3/envs/cloudspace/lib/python3.10/site-packages/yt_dlp/downloader/common.py:332\u001b[0m, in \u001b[0;36mFileDownloader._report_progress_status\u001b[0;34m(self, s, default_template)\u001b[0m\n\u001b[1;32m    329\u001b[0m progress_dict \u001b[38;5;241m=\u001b[39m {\u001b[38;5;124m'\u001b[39m\u001b[38;5;124minfo\u001b[39m\u001b[38;5;124m'\u001b[39m: s[\u001b[38;5;124m'\u001b[39m\u001b[38;5;124minfo_dict\u001b[39m\u001b[38;5;124m'\u001b[39m], \u001b[38;5;124m'\u001b[39m\u001b[38;5;124mprogress\u001b[39m\u001b[38;5;124m'\u001b[39m: progress_dict}\n\u001b[1;32m    331\u001b[0m progress_template \u001b[38;5;241m=\u001b[39m \u001b[38;5;28mself\u001b[39m\u001b[38;5;241m.\u001b[39mparams\u001b[38;5;241m.\u001b[39mget(\u001b[38;5;124m'\u001b[39m\u001b[38;5;124mprogress_template\u001b[39m\u001b[38;5;124m'\u001b[39m, {})\n\u001b[0;32m--> 332\u001b[0m \u001b[38;5;28;43mself\u001b[39;49m\u001b[38;5;241;43m.\u001b[39;49m\u001b[43m_multiline\u001b[49m\u001b[38;5;241;43m.\u001b[39;49m\u001b[43mprint_at_line\u001b[49m\u001b[43m(\u001b[49m\u001b[38;5;28;43mself\u001b[39;49m\u001b[38;5;241;43m.\u001b[39;49m\u001b[43mydl\u001b[49m\u001b[38;5;241;43m.\u001b[39;49m\u001b[43mevaluate_outtmpl\u001b[49m\u001b[43m(\u001b[49m\n\u001b[1;32m    333\u001b[0m \u001b[43m    \u001b[49m\u001b[43mprogress_template\u001b[49m\u001b[38;5;241;43m.\u001b[39;49m\u001b[43mget\u001b[49m\u001b[43m(\u001b[49m\u001b[38;5;124;43m'\u001b[39;49m\u001b[38;5;124;43mdownload\u001b[39;49m\u001b[38;5;124;43m'\u001b[39;49m\u001b[43m)\u001b[49m\u001b[43m \u001b[49m\u001b[38;5;129;43;01mor\u001b[39;49;00m\u001b[43m \u001b[49m\u001b[38;5;124;43m'\u001b[39;49m\u001b[38;5;124;43m[download] \u001b[39;49m\u001b[38;5;124;43m%\u001b[39;49m\u001b[38;5;124;43m(progress._default_template)s\u001b[39;49m\u001b[38;5;124;43m'\u001b[39;49m\u001b[43m,\u001b[49m\n\u001b[1;32m    334\u001b[0m \u001b[43m    \u001b[49m\u001b[43mprogress_dict\u001b[49m\u001b[43m)\u001b[49m\u001b[43m,\u001b[49m\u001b[43m \u001b[49m\u001b[43ms\u001b[49m\u001b[38;5;241;43m.\u001b[39;49m\u001b[43mget\u001b[49m\u001b[43m(\u001b[49m\u001b[38;5;124;43m'\u001b[39;49m\u001b[38;5;124;43mprogress_idx\u001b[39;49m\u001b[38;5;124;43m'\u001b[39;49m\u001b[43m)\u001b[49m\u001b[43m \u001b[49m\u001b[38;5;129;43;01mor\u001b[39;49;00m\u001b[43m \u001b[49m\u001b[38;5;241;43m0\u001b[39;49m\u001b[43m)\u001b[49m\n\u001b[1;32m    335\u001b[0m \u001b[38;5;28mself\u001b[39m\u001b[38;5;241m.\u001b[39mto_console_title(\u001b[38;5;28mself\u001b[39m\u001b[38;5;241m.\u001b[39mydl\u001b[38;5;241m.\u001b[39mevaluate_outtmpl(\n\u001b[1;32m    336\u001b[0m     progress_template\u001b[38;5;241m.\u001b[39mget(\u001b[38;5;124m'\u001b[39m\u001b[38;5;124mdownload-title\u001b[39m\u001b[38;5;124m'\u001b[39m) \u001b[38;5;129;01mor\u001b[39;00m \u001b[38;5;124m'\u001b[39m\u001b[38;5;124myt-dlp \u001b[39m\u001b[38;5;124m%\u001b[39m\u001b[38;5;124m(progress._default_template)s\u001b[39m\u001b[38;5;124m'\u001b[39m,\n\u001b[1;32m    337\u001b[0m     progress_dict), _ProgressState\u001b[38;5;241m.\u001b[39mfrom_dict(s), s\u001b[38;5;241m.\u001b[39mget(\u001b[38;5;124m'\u001b[39m\u001b[38;5;124m_percent\u001b[39m\u001b[38;5;124m'\u001b[39m))\n",
      "File \u001b[0;32m/home/zeus/miniconda3/envs/cloudspace/lib/python3.10/site-packages/yt_dlp/minicurses.py:134\u001b[0m, in \u001b[0;36mMultilinePrinter.lock.<locals>.wrapper\u001b[0;34m(self, *args, **kwargs)\u001b[0m\n\u001b[1;32m    131\u001b[0m \u001b[38;5;129m@functools\u001b[39m\u001b[38;5;241m.\u001b[39mwraps(func)\n\u001b[1;32m    132\u001b[0m \u001b[38;5;28;01mdef\u001b[39;00m\u001b[38;5;250m \u001b[39m\u001b[38;5;21mwrapper\u001b[39m(\u001b[38;5;28mself\u001b[39m, \u001b[38;5;241m*\u001b[39margs, \u001b[38;5;241m*\u001b[39m\u001b[38;5;241m*\u001b[39mkwargs):\n\u001b[1;32m    133\u001b[0m     \u001b[38;5;28;01mwith\u001b[39;00m \u001b[38;5;28mself\u001b[39m\u001b[38;5;241m.\u001b[39m_movelock:\n\u001b[0;32m--> 134\u001b[0m         \u001b[38;5;28;01mreturn\u001b[39;00m \u001b[43mfunc\u001b[49m\u001b[43m(\u001b[49m\u001b[38;5;28;43mself\u001b[39;49m\u001b[43m,\u001b[49m\u001b[43m \u001b[49m\u001b[38;5;241;43m*\u001b[39;49m\u001b[43margs\u001b[49m\u001b[43m,\u001b[49m\u001b[43m \u001b[49m\u001b[38;5;241;43m*\u001b[39;49m\u001b[38;5;241;43m*\u001b[39;49m\u001b[43mkwargs\u001b[49m\u001b[43m)\u001b[49m\n",
      "File \u001b[0;32m/home/zeus/miniconda3/envs/cloudspace/lib/python3.10/site-packages/yt_dlp/minicurses.py:165\u001b[0m, in \u001b[0;36mMultilinePrinter.print_at_line\u001b[0;34m(self, text, pos)\u001b[0m\n\u001b[1;32m    163\u001b[0m     prefix \u001b[38;5;241m=\u001b[39m \u001b[38;5;124m'\u001b[39m\u001b[38;5;130;01m\\n\u001b[39;00m\u001b[38;5;124m'\u001b[39m\n\u001b[1;32m    164\u001b[0m     \u001b[38;5;28mself\u001b[39m\u001b[38;5;241m.\u001b[39m_lastlength \u001b[38;5;241m=\u001b[39m textlen\n\u001b[0;32m--> 165\u001b[0m \u001b[38;5;28;43mself\u001b[39;49m\u001b[38;5;241;43m.\u001b[39;49m\u001b[43mwrite\u001b[49m\u001b[43m(\u001b[49m\u001b[43mprefix\u001b[49m\u001b[43m,\u001b[49m\u001b[43m \u001b[49m\u001b[43mtext\u001b[49m\u001b[43m)\u001b[49m\n\u001b[1;32m    166\u001b[0m \u001b[38;5;28mself\u001b[39m\u001b[38;5;241m.\u001b[39m_lastline \u001b[38;5;241m=\u001b[39m pos\n",
      "File \u001b[0;32m/home/zeus/miniconda3/envs/cloudspace/lib/python3.10/site-packages/yt_dlp/minicurses.py:102\u001b[0m, in \u001b[0;36mMultilinePrinterBase.write\u001b[0;34m(self, *text)\u001b[0m\n\u001b[1;32m    101\u001b[0m \u001b[38;5;28;01mdef\u001b[39;00m\u001b[38;5;250m \u001b[39m\u001b[38;5;21mwrite\u001b[39m(\u001b[38;5;28mself\u001b[39m, \u001b[38;5;241m*\u001b[39mtext):\n\u001b[0;32m--> 102\u001b[0m     \u001b[43mwrite_string\u001b[49m\u001b[43m(\u001b[49m\u001b[38;5;124;43m'\u001b[39;49m\u001b[38;5;124;43m'\u001b[39;49m\u001b[38;5;241;43m.\u001b[39;49m\u001b[43mjoin\u001b[49m\u001b[43m(\u001b[49m\u001b[43mtext\u001b[49m\u001b[43m)\u001b[49m\u001b[43m,\u001b[49m\u001b[43m \u001b[49m\u001b[38;5;28;43mself\u001b[39;49m\u001b[38;5;241;43m.\u001b[39;49m\u001b[43mstream\u001b[49m\u001b[43m)\u001b[49m\n",
      "File \u001b[0;32m/home/zeus/miniconda3/envs/cloudspace/lib/python3.10/site-packages/yt_dlp/utils/_utils.py:1486\u001b[0m, in \u001b[0;36mwrite_string\u001b[0;34m(s, out, encoding)\u001b[0m\n\u001b[1;32m   1483\u001b[0m     enc \u001b[38;5;241m=\u001b[39m encoding \u001b[38;5;129;01mor\u001b[39;00m \u001b[38;5;28mgetattr\u001b[39m(out, \u001b[38;5;124m'\u001b[39m\u001b[38;5;124mencoding\u001b[39m\u001b[38;5;124m'\u001b[39m, \u001b[38;5;28;01mNone\u001b[39;00m) \u001b[38;5;129;01mor\u001b[39;00m preferredencoding()\n\u001b[1;32m   1485\u001b[0m buffer\u001b[38;5;241m.\u001b[39mwrite(s\u001b[38;5;241m.\u001b[39mencode(enc, \u001b[38;5;124m'\u001b[39m\u001b[38;5;124mignore\u001b[39m\u001b[38;5;124m'\u001b[39m) \u001b[38;5;28;01mif\u001b[39;00m enc \u001b[38;5;28;01melse\u001b[39;00m s)\n\u001b[0;32m-> 1486\u001b[0m \u001b[43mout\u001b[49m\u001b[38;5;241;43m.\u001b[39;49m\u001b[43mflush\u001b[49m\u001b[43m(\u001b[49m\u001b[43m)\u001b[49m\n",
      "File \u001b[0;32m/home/zeus/miniconda3/envs/cloudspace/lib/python3.10/site-packages/ipykernel/iostream.py:580\u001b[0m, in \u001b[0;36mOutStream.flush\u001b[0;34m(self)\u001b[0m\n\u001b[1;32m    578\u001b[0m     \u001b[38;5;28mself\u001b[39m\u001b[38;5;241m.\u001b[39mpub_thread\u001b[38;5;241m.\u001b[39mschedule(evt\u001b[38;5;241m.\u001b[39mset)\n\u001b[1;32m    579\u001b[0m     \u001b[38;5;66;03m# and give a timeout to avoid\u001b[39;00m\n\u001b[0;32m--> 580\u001b[0m     \u001b[38;5;28;01mif\u001b[39;00m \u001b[38;5;129;01mnot\u001b[39;00m \u001b[43mevt\u001b[49m\u001b[38;5;241;43m.\u001b[39;49m\u001b[43mwait\u001b[49m\u001b[43m(\u001b[49m\u001b[38;5;28;43mself\u001b[39;49m\u001b[38;5;241;43m.\u001b[39;49m\u001b[43mflush_timeout\u001b[49m\u001b[43m)\u001b[49m:\n\u001b[1;32m    581\u001b[0m         \u001b[38;5;66;03m# write directly to __stderr__ instead of warning because\u001b[39;00m\n\u001b[1;32m    582\u001b[0m         \u001b[38;5;66;03m# if this is happening sys.stderr may be the problem.\u001b[39;00m\n\u001b[1;32m    583\u001b[0m         \u001b[38;5;28mprint\u001b[39m(\u001b[38;5;124m\"\u001b[39m\u001b[38;5;124mIOStream.flush timed out\u001b[39m\u001b[38;5;124m\"\u001b[39m, file\u001b[38;5;241m=\u001b[39msys\u001b[38;5;241m.\u001b[39m__stderr__)\n\u001b[1;32m    584\u001b[0m \u001b[38;5;28;01melse\u001b[39;00m:\n",
      "File \u001b[0;32m/home/zeus/miniconda3/envs/cloudspace/lib/python3.10/threading.py:607\u001b[0m, in \u001b[0;36mEvent.wait\u001b[0;34m(self, timeout)\u001b[0m\n\u001b[1;32m    605\u001b[0m signaled \u001b[38;5;241m=\u001b[39m \u001b[38;5;28mself\u001b[39m\u001b[38;5;241m.\u001b[39m_flag\n\u001b[1;32m    606\u001b[0m \u001b[38;5;28;01mif\u001b[39;00m \u001b[38;5;129;01mnot\u001b[39;00m signaled:\n\u001b[0;32m--> 607\u001b[0m     signaled \u001b[38;5;241m=\u001b[39m \u001b[38;5;28;43mself\u001b[39;49m\u001b[38;5;241;43m.\u001b[39;49m\u001b[43m_cond\u001b[49m\u001b[38;5;241;43m.\u001b[39;49m\u001b[43mwait\u001b[49m\u001b[43m(\u001b[49m\u001b[43mtimeout\u001b[49m\u001b[43m)\u001b[49m\n\u001b[1;32m    608\u001b[0m \u001b[38;5;28;01mreturn\u001b[39;00m signaled\n",
      "File \u001b[0;32m/home/zeus/miniconda3/envs/cloudspace/lib/python3.10/threading.py:324\u001b[0m, in \u001b[0;36mCondition.wait\u001b[0;34m(self, timeout)\u001b[0m\n\u001b[1;32m    322\u001b[0m \u001b[38;5;28;01melse\u001b[39;00m:\n\u001b[1;32m    323\u001b[0m     \u001b[38;5;28;01mif\u001b[39;00m timeout \u001b[38;5;241m>\u001b[39m \u001b[38;5;241m0\u001b[39m:\n\u001b[0;32m--> 324\u001b[0m         gotit \u001b[38;5;241m=\u001b[39m \u001b[43mwaiter\u001b[49m\u001b[38;5;241;43m.\u001b[39;49m\u001b[43macquire\u001b[49m\u001b[43m(\u001b[49m\u001b[38;5;28;43;01mTrue\u001b[39;49;00m\u001b[43m,\u001b[49m\u001b[43m \u001b[49m\u001b[43mtimeout\u001b[49m\u001b[43m)\u001b[49m\n\u001b[1;32m    325\u001b[0m     \u001b[38;5;28;01melse\u001b[39;00m:\n\u001b[1;32m    326\u001b[0m         gotit \u001b[38;5;241m=\u001b[39m waiter\u001b[38;5;241m.\u001b[39macquire(\u001b[38;5;28;01mFalse\u001b[39;00m)\n",
      "\u001b[0;31mKeyboardInterrupt\u001b[0m: "
     ]
    }
   ],
   "source": [
    "profile_url = \"https://soundcloud.com/radio-ergo\"  # SoundCloud profile/channel URL\n",
    "start_date = \"2022-08-01\"  # Format: YYYY-MM-DD\n",
    "end_date = \"2022-12-31\"    # Format: YYYY-MM-DD\n",
    "save_to_drive = False       # Set to False if you don't want to save to Google Drive\n",
    "\n",
    "downloaded_files = download_by_date_range(profile_url, start_date, end_date, save_to_drive=save_to_drive)"
   ]
  },
  {
   "cell_type": "code",
   "execution_count": null,
   "metadata": {},
   "outputs": [],
   "source": []
  }
 ],
 "metadata": {
  "language_info": {
   "name": "python"
  }
 },
 "nbformat": 4,
 "nbformat_minor": 2
}
